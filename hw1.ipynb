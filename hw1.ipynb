{
  "cells": [
    {
      "cell_type": "markdown",
      "metadata": {
        "id": "cNEI6ZUPujKH"
      },
      "source": [
        "# Data Science HW1 B10915020 陳珮婕"
      ]
    },
    {
      "cell_type": "markdown",
      "metadata": {
        "id": "KXN1tMbZu2MH"
      },
      "source": [
        "#### 前置準備"
      ]
    },
    {
      "cell_type": "code",
      "execution_count": null,
      "metadata": {
        "id": "PaXpmZXoujne",
        "colab": {
          "base_uri": "https://localhost:8080/"
        },
        "outputId": "8cf76724-f131-423b-bfc8-8d6b0918e93f"
      },
      "outputs": [
        {
          "output_type": "stream",
          "name": "stdout",
          "text": [
            "Mounted at /content/gdrive\n",
            "Looking in indexes: https://pypi.org/simple, https://us-python.pkg.dev/colab-wheels/public/simple/\n",
            "Requirement already satisfied: numpy in /usr/local/lib/python3.7/dist-packages (1.21.6)\n",
            "Requirement already satisfied: scipy in /usr/local/lib/python3.7/dist-packages (1.7.3)\n",
            "Requirement already satisfied: pandas in /usr/local/lib/python3.7/dist-packages (1.3.5)\n",
            "Requirement already satisfied: matplotlib in /usr/local/lib/python3.7/dist-packages (3.2.2)\n",
            "Requirement already satisfied: pytz>=2017.3 in /usr/local/lib/python3.7/dist-packages (from pandas) (2022.6)\n",
            "Requirement already satisfied: python-dateutil>=2.7.3 in /usr/local/lib/python3.7/dist-packages (from pandas) (2.8.2)\n",
            "Requirement already satisfied: six>=1.5 in /usr/local/lib/python3.7/dist-packages (from python-dateutil>=2.7.3->pandas) (1.15.0)\n",
            "Requirement already satisfied: pyparsing!=2.0.4,!=2.1.2,!=2.1.6,>=2.0.1 in /usr/local/lib/python3.7/dist-packages (from matplotlib) (3.0.9)\n",
            "Requirement already satisfied: cycler>=0.10 in /usr/local/lib/python3.7/dist-packages (from matplotlib) (0.11.0)\n",
            "Requirement already satisfied: kiwisolver>=1.0.1 in /usr/local/lib/python3.7/dist-packages (from matplotlib) (1.4.4)\n",
            "Requirement already satisfied: typing-extensions in /usr/local/lib/python3.7/dist-packages (from kiwisolver>=1.0.1->matplotlib) (4.1.1)\n"
          ]
        }
      ],
      "source": [
        "from google.colab import drive\n",
        "drive.mount('/content/gdrive')\n",
        "!pip3 install numpy scipy pandas matplotlib\n",
        "import numpy as np\n",
        "import pandas as pd\n",
        "import matplotlib.pyplot as plt"
      ]
    },
    {
      "cell_type": "markdown",
      "metadata": {
        "id": "k3MW3H8xu7ON"
      },
      "source": [
        "#### 讀入資料"
      ]
    },
    {
      "cell_type": "code",
      "execution_count": null,
      "metadata": {
        "id": "3V2yyZ4wuiKe"
      },
      "outputs": [],
      "source": [
        "data2=pd.read_csv('/content/gdrive/MyDrive/資料科學導論/hw1/train.csv', index_col=None)\n",
        "predict_data2=pd.read_csv('/content/gdrive/MyDrive/資料科學導論/hw1/test.csv', index_col=None)"
      ]
    },
    {
      "cell_type": "markdown",
      "source": [
        "## 執行"
      ],
      "metadata": {
        "id": "XKTWPU96XPt3"
      }
    },
    {
      "cell_type": "markdown",
      "metadata": {
        "id": "ibL8T0HaZEKW"
      },
      "source": [
        "###  資料預處理"
      ]
    },
    {
      "cell_type": "code",
      "execution_count": null,
      "metadata": {
        "colab": {
          "base_uri": "https://localhost:8080/"
        },
        "id": "cnjbP8o9-Tdd",
        "outputId": "ee86b5f1-9201-4f10-8b68-7d554bee24d0"
      },
      "outputs": [
        {
          "output_type": "stream",
          "name": "stdout",
          "text": [
            "<class 'pandas.core.frame.DataFrame'>\n",
            "RangeIndex: 17103 entries, 0 to 17102\n",
            "Data columns (total 17 columns):\n",
            " #   Column       Non-Null Count  Dtype  \n",
            "---  ------       --------------  -----  \n",
            " 0   Attribute1   17103 non-null  object \n",
            " 1   Attribute2   17103 non-null  int64  \n",
            " 2   Attribute3   17032 non-null  float64\n",
            " 3   Attribute4   17071 non-null  float64\n",
            " 4   Attribute5   16942 non-null  float64\n",
            " 5   Attribute6   9702 non-null   float64\n",
            " 6   Attribute7   8872 non-null   float64\n",
            " 7   Attribute8   16010 non-null  object \n",
            " 8   Attribute9   16017 non-null  float64\n",
            " 9   Attribute10  16671 non-null  object \n",
            " 10  Attribute11  16797 non-null  float64\n",
            " 11  Attribute12  16688 non-null  float64\n",
            " 12  Attribute13  15434 non-null  float64\n",
            " 13  Attribute14  10151 non-null  float64\n",
            " 14  Attribute15  16809 non-null  float64\n",
            " 15  Attribute16  16942 non-null  object \n",
            " 16  Attribute17  17103 non-null  object \n",
            "dtypes: float64(11), int64(1), object(5)\n",
            "memory usage: 2.2+ MB\n",
            "None\n"
          ]
        }
      ],
      "source": [
        "# print(data2.head())\n",
        "data=pd.DataFrame(data2.copy())\n",
        "predict_data=predict_data2.copy()\n",
        "print(data.info())"
      ]
    },
    {
      "cell_type": "code",
      "execution_count": null,
      "metadata": {
        "colab": {
          "base_uri": "https://localhost:8080/"
        },
        "id": "3XDIwWxDErR9",
        "outputId": "08e6bcaa-2abc-48fd-94d9-2ac5ddf8f938"
      },
      "outputs": [
        {
          "output_type": "stream",
          "name": "stdout",
          "text": [
            "<class 'pandas.core.frame.DataFrame'>\n",
            "RangeIndex: 17103 entries, 0 to 17102\n",
            "Data columns (total 16 columns):\n",
            " #   Column       Non-Null Count  Dtype  \n",
            "---  ------       --------------  -----  \n",
            " 0   Attribute2   17103 non-null  int64  \n",
            " 1   Attribute3   17032 non-null  float64\n",
            " 2   Attribute4   17071 non-null  float64\n",
            " 3   Attribute5   16942 non-null  float64\n",
            " 4   Attribute6   9702 non-null   float64\n",
            " 5   Attribute7   8872 non-null   float64\n",
            " 6   Attribute8   16010 non-null  object \n",
            " 7   Attribute9   16017 non-null  float64\n",
            " 8   Attribute10  16671 non-null  object \n",
            " 9   Attribute11  16797 non-null  float64\n",
            " 10  Attribute12  16688 non-null  float64\n",
            " 11  Attribute13  15434 non-null  float64\n",
            " 12  Attribute14  10151 non-null  float64\n",
            " 13  Attribute15  16809 non-null  float64\n",
            " 14  Attribute16  16942 non-null  object \n",
            " 15  Attribute17  17103 non-null  object \n",
            "dtypes: float64(11), int64(1), object(4)\n",
            "memory usage: 2.1+ MB\n",
            "None\n"
          ]
        }
      ],
      "source": [
        "data=data.drop(['Attribute1'],axis=1)\n",
        "predict_data=predict_data.drop(['Attribute1'],axis=1)\n",
        "print(data.info())"
      ]
    },
    {
      "cell_type": "markdown",
      "metadata": {
        "id": "YJ_Pv96cwiNG"
      },
      "source": [
        "#### 補上8、10"
      ]
    },
    {
      "cell_type": "code",
      "execution_count": null,
      "metadata": {
        "colab": {
          "base_uri": "https://localhost:8080/"
        },
        "id": "qnKnVJA3wnyO",
        "outputId": "cb0aa9cb-4488-4ae3-b499-fda8a82533be"
      },
      "outputs": [
        {
          "output_type": "stream",
          "name": "stdout",
          "text": [
            "<class 'pandas.core.frame.DataFrame'>\n",
            "RangeIndex: 17103 entries, 0 to 17102\n",
            "Data columns (total 16 columns):\n",
            " #   Column       Non-Null Count  Dtype  \n",
            "---  ------       --------------  -----  \n",
            " 0   Attribute2   17103 non-null  int64  \n",
            " 1   Attribute3   17032 non-null  float64\n",
            " 2   Attribute4   17071 non-null  float64\n",
            " 3   Attribute5   16942 non-null  float64\n",
            " 4   Attribute6   9702 non-null   float64\n",
            " 5   Attribute7   8872 non-null   float64\n",
            " 6   Attribute8   16775 non-null  object \n",
            " 7   Attribute9   16017 non-null  float64\n",
            " 8   Attribute10  16775 non-null  object \n",
            " 9   Attribute11  16797 non-null  float64\n",
            " 10  Attribute12  16688 non-null  float64\n",
            " 11  Attribute13  15434 non-null  float64\n",
            " 12  Attribute14  10151 non-null  float64\n",
            " 13  Attribute15  16809 non-null  float64\n",
            " 14  Attribute16  16942 non-null  object \n",
            " 15  Attribute17  17103 non-null  object \n",
            "dtypes: float64(11), int64(1), object(4)\n",
            "memory usage: 2.1+ MB\n",
            "None\n"
          ]
        }
      ],
      "source": [
        "for i in data.index:\n",
        "  if(pd.isnull(data.loc[i,\"Attribute8\"])):\n",
        "    data.loc[i,\"Attribute8\"]=data.loc[i,\"Attribute10\"]\n",
        "  if(pd.isnull(data.loc[i,\"Attribute10\"])):\n",
        "    data.loc[i,\"Attribute10\"]=data.loc[i,\"Attribute8\"]\n",
        "print(data.info())\n"
      ]
    },
    {
      "cell_type": "markdown",
      "metadata": {
        "id": "JwkwcXTXhy2q"
      },
      "source": [
        "#### 所有特徵補上中位數"
      ]
    },
    {
      "cell_type": "code",
      "execution_count": null,
      "metadata": {
        "colab": {
          "base_uri": "https://localhost:8080/"
        },
        "id": "meuzQSYTrWd0",
        "outputId": "c071c902-0e7f-4a6f-c599-8b9f79b15766"
      },
      "outputs": [
        {
          "output_type": "stream",
          "name": "stderr",
          "text": [
            "/usr/local/lib/python3.7/dist-packages/pandas/core/generic.py:6392: SettingWithCopyWarning: \n",
            "A value is trying to be set on a copy of a slice from a DataFrame\n",
            "\n",
            "See the caveats in the documentation: https://pandas.pydata.org/pandas-docs/stable/user_guide/indexing.html#returning-a-view-versus-a-copy\n",
            "  return self._update_inplace(result)\n",
            "/usr/local/lib/python3.7/dist-packages/pandas/core/generic.py:6392: SettingWithCopyWarning: \n",
            "A value is trying to be set on a copy of a slice from a DataFrame\n",
            "\n",
            "See the caveats in the documentation: https://pandas.pydata.org/pandas-docs/stable/user_guide/indexing.html#returning-a-view-versus-a-copy\n",
            "  return self._update_inplace(result)\n",
            "/usr/local/lib/python3.7/dist-packages/pandas/core/generic.py:6392: SettingWithCopyWarning: \n",
            "A value is trying to be set on a copy of a slice from a DataFrame\n",
            "\n",
            "See the caveats in the documentation: https://pandas.pydata.org/pandas-docs/stable/user_guide/indexing.html#returning-a-view-versus-a-copy\n",
            "  return self._update_inplace(result)\n",
            "/usr/local/lib/python3.7/dist-packages/pandas/core/generic.py:6392: SettingWithCopyWarning: \n",
            "A value is trying to be set on a copy of a slice from a DataFrame\n",
            "\n",
            "See the caveats in the documentation: https://pandas.pydata.org/pandas-docs/stable/user_guide/indexing.html#returning-a-view-versus-a-copy\n",
            "  return self._update_inplace(result)\n",
            "/usr/local/lib/python3.7/dist-packages/pandas/core/generic.py:6392: SettingWithCopyWarning: \n",
            "A value is trying to be set on a copy of a slice from a DataFrame\n",
            "\n",
            "See the caveats in the documentation: https://pandas.pydata.org/pandas-docs/stable/user_guide/indexing.html#returning-a-view-versus-a-copy\n",
            "  return self._update_inplace(result)\n",
            "/usr/local/lib/python3.7/dist-packages/pandas/core/generic.py:6392: SettingWithCopyWarning: \n",
            "A value is trying to be set on a copy of a slice from a DataFrame\n",
            "\n",
            "See the caveats in the documentation: https://pandas.pydata.org/pandas-docs/stable/user_guide/indexing.html#returning-a-view-versus-a-copy\n",
            "  return self._update_inplace(result)\n",
            "/usr/local/lib/python3.7/dist-packages/pandas/core/generic.py:6392: SettingWithCopyWarning: \n",
            "A value is trying to be set on a copy of a slice from a DataFrame\n",
            "\n",
            "See the caveats in the documentation: https://pandas.pydata.org/pandas-docs/stable/user_guide/indexing.html#returning-a-view-versus-a-copy\n",
            "  return self._update_inplace(result)\n",
            "/usr/local/lib/python3.7/dist-packages/pandas/core/generic.py:6392: SettingWithCopyWarning: \n",
            "A value is trying to be set on a copy of a slice from a DataFrame\n",
            "\n",
            "See the caveats in the documentation: https://pandas.pydata.org/pandas-docs/stable/user_guide/indexing.html#returning-a-view-versus-a-copy\n",
            "  return self._update_inplace(result)\n",
            "/usr/local/lib/python3.7/dist-packages/pandas/core/generic.py:6392: SettingWithCopyWarning: \n",
            "A value is trying to be set on a copy of a slice from a DataFrame\n",
            "\n",
            "See the caveats in the documentation: https://pandas.pydata.org/pandas-docs/stable/user_guide/indexing.html#returning-a-view-versus-a-copy\n",
            "  return self._update_inplace(result)\n",
            "/usr/local/lib/python3.7/dist-packages/pandas/core/generic.py:6392: SettingWithCopyWarning: \n",
            "A value is trying to be set on a copy of a slice from a DataFrame\n",
            "\n",
            "See the caveats in the documentation: https://pandas.pydata.org/pandas-docs/stable/user_guide/indexing.html#returning-a-view-versus-a-copy\n",
            "  return self._update_inplace(result)\n",
            "/usr/local/lib/python3.7/dist-packages/pandas/core/generic.py:6392: SettingWithCopyWarning: \n",
            "A value is trying to be set on a copy of a slice from a DataFrame\n",
            "\n",
            "See the caveats in the documentation: https://pandas.pydata.org/pandas-docs/stable/user_guide/indexing.html#returning-a-view-versus-a-copy\n",
            "  return self._update_inplace(result)\n",
            "/usr/local/lib/python3.7/dist-packages/pandas/core/generic.py:6392: SettingWithCopyWarning: \n",
            "A value is trying to be set on a copy of a slice from a DataFrame\n",
            "\n",
            "See the caveats in the documentation: https://pandas.pydata.org/pandas-docs/stable/user_guide/indexing.html#returning-a-view-versus-a-copy\n",
            "  return self._update_inplace(result)\n"
          ]
        }
      ],
      "source": [
        "data[(data[\"Attribute16\"]==\"No\")&(data[\"Attribute5\"].isnull())][\"Attribute5\"].fillna(value=0.0, inplace=True)\n",
        "place=data[\"Attribute2\"].unique().tolist()\n",
        "for i in range(3,16):\n",
        "  if((i!=8)&(i!=10)):\n",
        "    add_data=\"Attribute\"+str(i)\n",
        "    place_data=data[[\"Attribute2\",add_data]]\n",
        "    place_data=place_data.dropna()\n",
        "    place_data.reset_index(drop=True)\n",
        "    #print(place_data.info())\n",
        "    value=[]\n",
        "    all_average=place_data[add_data].median()\n",
        "    for i in place:\n",
        "      average_data = place_data[(place_data[\"Attribute2\"]==i)][add_data].median()\n",
        "    #print(average_data)\n",
        "      value.append(average_data)\n",
        "    #print(value)\n",
        "\n",
        "    for i in range(0,len(place)):\n",
        "      data[data[\"Attribute2\"]==place[i]][add_data].fillna(value=value[i], inplace=True)\n",
        "\n",
        "    data[add_data].fillna(value=all_average, inplace=True)\n",
        "    #print(data.info())\n"
      ]
    },
    {
      "cell_type": "markdown",
      "metadata": {
        "id": "bhYstpicyv9B"
      },
      "source": [
        "#### dropna+特徵8、10、16、17轉成數字(string)"
      ]
    },
    {
      "cell_type": "code",
      "execution_count": null,
      "metadata": {
        "colab": {
          "base_uri": "https://localhost:8080/"
        },
        "id": "rTTxpYAi5k2S",
        "outputId": "2d42f185-5590-4a4d-993f-518eb1d4b750"
      },
      "outputs": [
        {
          "output_type": "stream",
          "name": "stdout",
          "text": [
            "<class 'pandas.core.frame.DataFrame'>\n",
            "Int64Index: 16622 entries, 0 to 17102\n",
            "Data columns (total 16 columns):\n",
            " #   Column       Non-Null Count  Dtype  \n",
            "---  ------       --------------  -----  \n",
            " 0   Attribute2   16622 non-null  int64  \n",
            " 1   Attribute3   16622 non-null  float64\n",
            " 2   Attribute4   16622 non-null  float64\n",
            " 3   Attribute5   16622 non-null  float64\n",
            " 4   Attribute6   16622 non-null  float64\n",
            " 5   Attribute7   16622 non-null  float64\n",
            " 6   Attribute8   16622 non-null  object \n",
            " 7   Attribute9   16622 non-null  float64\n",
            " 8   Attribute10  16622 non-null  object \n",
            " 9   Attribute11  16622 non-null  float64\n",
            " 10  Attribute12  16622 non-null  float64\n",
            " 11  Attribute13  16622 non-null  float64\n",
            " 12  Attribute14  16622 non-null  float64\n",
            " 13  Attribute15  16622 non-null  float64\n",
            " 14  Attribute16  16622 non-null  object \n",
            " 15  Attribute17  16622 non-null  object \n",
            "dtypes: float64(11), int64(1), object(4)\n",
            "memory usage: 2.2+ MB\n",
            "None\n"
          ]
        }
      ],
      "source": [
        "data=data.dropna()\n",
        "print(data.info())"
      ]
    },
    {
      "cell_type": "code",
      "execution_count": null,
      "metadata": {
        "id": "C8FCRJDjKBdw"
      },
      "outputs": [],
      "source": [
        "data=data.reset_index(drop=True)\n",
        "#print(data.info())"
      ]
    },
    {
      "cell_type": "code",
      "execution_count": null,
      "metadata": {
        "colab": {
          "base_uri": "https://localhost:8080/"
        },
        "id": "hDqmHMzfSxgg",
        "outputId": "047dac09-cbfc-4aca-945c-e82842da67c6"
      },
      "outputs": [
        {
          "output_type": "stream",
          "name": "stdout",
          "text": [
            "[]\n",
            "   Attribute2  Attribute3  Attribute4  Attribute5  Attribute6  Attribute7  \\\n",
            "0           2         9.2        28.0         0.0         4.8         8.6   \n",
            "1           2         7.7        26.7         0.0         4.8         8.6   \n",
            "2           2        15.9        21.7         2.2         4.8         8.6   \n",
            "3           2        15.9        18.6        15.6         4.8         8.6   \n",
            "4           2        13.7        37.9         0.0         4.8         8.6   \n",
            "\n",
            "  Attribute8  Attribute9 Attribute10  Attribute11  Attribute12  Attribute13  \\\n",
            "0         14        24.0           0          9.0         16.0       1012.8   \n",
            "1          1        35.0           1         17.0         19.0       1010.1   \n",
            "2          8        31.0           2         13.0         91.0       1004.2   \n",
            "3          1        61.0           3         28.0         93.0        993.0   \n",
            "4          1        52.0           4         26.0          8.0       1006.7   \n",
            "\n",
            "   Attribute14  Attribute15 Attribute16 Attribute17  \n",
            "0          5.0         26.5          No          No  \n",
            "1          5.0         25.5          No          No  \n",
            "2          8.0         17.0         Yes         Yes  \n",
            "3          8.0         15.8         Yes         Yes  \n",
            "4          5.0         36.8          No          No  \n"
          ]
        }
      ],
      "source": [
        "direction_8=data[\"Attribute8\"].unique().tolist()\n",
        "direction_10=data[\"Attribute10\"].unique().tolist()\n",
        "print(list(set(direction_8).symmetric_difference(set(direction_10))))\n",
        "direction=direction_10\n",
        "for i in data.index:\n",
        "  for j in range(0,len(direction)):\n",
        "   if(data.loc[i,'Attribute8']==direction[j]):\n",
        "       data.loc[i,'Attribute8']=str(j)\n",
        "   if(data.loc[i,'Attribute10']==direction[j]):\n",
        "       data.loc[i,'Attribute10']=str(j)\n",
        "print(data.head())\n",
        "for i in predict_data.index:\n",
        "  for j in range(0,len(direction)):\n",
        "   if(predict_data.loc[i,'Attribute8']==direction[j]):\n",
        "       predict_data.loc[i,'Attribute8']=str(j)\n",
        "   if(predict_data.loc[i,'Attribute10']==direction[j]):\n",
        "       predict_data.loc[i,'Attribute10']=str(j)"
      ]
    },
    {
      "cell_type": "code",
      "execution_count": null,
      "metadata": {
        "id": "FHLLWg1EYdvQ"
      },
      "outputs": [],
      "source": [
        "rain=data[\"Attribute17\"].unique().tolist()\n",
        "for i in data.index:\n",
        "  if(data.loc[i,'Attribute17']=='Yes'):\n",
        "    data.loc[i,'Attribute17']=\"1\"\n",
        "  else:\n",
        "    data.loc[i,'Attribute17']=\"0\"\n",
        "  if(data.loc[i,'Attribute16']=='Yes'):\n",
        "    data.loc[i,'Attribute16']=\"1\"\n",
        "  else:\n",
        "    data.loc[i,'Attribute16']=\"0\"\n",
        "\n",
        "for i in predict_data.index:\n",
        "  if(predict_data.loc[i,'Attribute16']=='Yes'):\n",
        "    predict_data.loc[i,'Attribute16']=\"1\"\n",
        "  else:\n",
        "    predict_data.loc[i,'Attribute16']=\"0\"\n",
        "#print(data.head())"
      ]
    },
    {
      "cell_type": "code",
      "execution_count": null,
      "metadata": {
        "colab": {
          "base_uri": "https://localhost:8080/"
        },
        "id": "mpedW_tS7sFl",
        "outputId": "318fdb6b-c242-4e86-8ce2-cc6a61ddaf96"
      },
      "outputs": [
        {
          "output_type": "stream",
          "name": "stdout",
          "text": [
            "<class 'pandas.core.frame.DataFrame'>\n",
            "RangeIndex: 16622 entries, 0 to 16621\n",
            "Data columns (total 16 columns):\n",
            " #   Column       Non-Null Count  Dtype  \n",
            "---  ------       --------------  -----  \n",
            " 0   Attribute2   16622 non-null  int64  \n",
            " 1   Attribute3   16622 non-null  float64\n",
            " 2   Attribute4   16622 non-null  float64\n",
            " 3   Attribute5   16622 non-null  float64\n",
            " 4   Attribute6   16622 non-null  float64\n",
            " 5   Attribute7   16622 non-null  float64\n",
            " 6   Attribute8   16622 non-null  object \n",
            " 7   Attribute9   16622 non-null  float64\n",
            " 8   Attribute10  16622 non-null  object \n",
            " 9   Attribute11  16622 non-null  float64\n",
            " 10  Attribute12  16622 non-null  float64\n",
            " 11  Attribute13  16622 non-null  float64\n",
            " 12  Attribute14  16622 non-null  float64\n",
            " 13  Attribute15  16622 non-null  float64\n",
            " 14  Attribute16  16622 non-null  object \n",
            " 15  Attribute17  16622 non-null  object \n",
            "dtypes: float64(11), int64(1), object(4)\n",
            "memory usage: 2.0+ MB\n",
            "None\n"
          ]
        }
      ],
      "source": [
        "print(data.info())"
      ]
    },
    {
      "cell_type": "markdown",
      "metadata": {
        "id": "e963Q3AVMCZJ"
      },
      "source": [
        "### 準備模型"
      ]
    },
    {
      "cell_type": "code",
      "execution_count": null,
      "metadata": {
        "colab": {
          "base_uri": "https://localhost:8080/"
        },
        "id": "r58eg5VvMF8w",
        "outputId": "6e397a53-1883-447c-f4b2-543f6ffb3281"
      },
      "outputs": [
        {
          "output_type": "stream",
          "name": "stdout",
          "text": [
            "Looking in indexes: https://pypi.org/simple, https://us-python.pkg.dev/colab-wheels/public/simple/\n",
            "Requirement already satisfied: sklearn in /usr/local/lib/python3.7/dist-packages (0.0.post1)\n",
            "Requirement already satisfied: datetime in /usr/local/lib/python3.7/dist-packages (4.7)\n",
            "Requirement already satisfied: joblib in /usr/local/lib/python3.7/dist-packages (1.2.0)\n",
            "Requirement already satisfied: seaborn in /usr/local/lib/python3.7/dist-packages (0.11.2)\n",
            "Requirement already satisfied: zope.interface in /usr/local/lib/python3.7/dist-packages (from datetime) (5.5.2)\n",
            "Requirement already satisfied: pytz in /usr/local/lib/python3.7/dist-packages (from datetime) (2022.6)\n",
            "Requirement already satisfied: numpy>=1.15 in /usr/local/lib/python3.7/dist-packages (from seaborn) (1.21.6)\n",
            "Requirement already satisfied: scipy>=1.0 in /usr/local/lib/python3.7/dist-packages (from seaborn) (1.7.3)\n",
            "Requirement already satisfied: matplotlib>=2.2 in /usr/local/lib/python3.7/dist-packages (from seaborn) (3.2.2)\n",
            "Requirement already satisfied: pandas>=0.23 in /usr/local/lib/python3.7/dist-packages (from seaborn) (1.3.5)\n",
            "Requirement already satisfied: cycler>=0.10 in /usr/local/lib/python3.7/dist-packages (from matplotlib>=2.2->seaborn) (0.11.0)\n",
            "Requirement already satisfied: pyparsing!=2.0.4,!=2.1.2,!=2.1.6,>=2.0.1 in /usr/local/lib/python3.7/dist-packages (from matplotlib>=2.2->seaborn) (3.0.9)\n",
            "Requirement already satisfied: python-dateutil>=2.1 in /usr/local/lib/python3.7/dist-packages (from matplotlib>=2.2->seaborn) (2.8.2)\n",
            "Requirement already satisfied: kiwisolver>=1.0.1 in /usr/local/lib/python3.7/dist-packages (from matplotlib>=2.2->seaborn) (1.4.4)\n",
            "Requirement already satisfied: typing-extensions in /usr/local/lib/python3.7/dist-packages (from kiwisolver>=1.0.1->matplotlib>=2.2->seaborn) (4.1.1)\n",
            "Requirement already satisfied: six>=1.5 in /usr/local/lib/python3.7/dist-packages (from python-dateutil>=2.1->matplotlib>=2.2->seaborn) (1.15.0)\n",
            "Requirement already satisfied: setuptools in /usr/local/lib/python3.7/dist-packages (from zope.interface->datetime) (57.4.0)\n"
          ]
        }
      ],
      "source": [
        "!pip3 install sklearn datetime joblib seaborn\n",
        "import joblib\n",
        "import matplotlib.pyplot as plt\n",
        "import seaborn as sns\n",
        "from sklearn import tree\n",
        "import pickle\n",
        "\n",
        "from sklearn.model_selection import train_test_split\n",
        "from sklearn.metrics import plot_confusion_matrix\n",
        "from sklearn.metrics import precision_recall_fscore_support\n",
        "from sklearn.metrics import accuracy_score, f1_score, precision_score, recall_score, classification_report, confusion_matrix"
      ]
    },
    {
      "cell_type": "code",
      "execution_count": null,
      "metadata": {
        "id": "OcVuxxmhMZ_x"
      },
      "outputs": [],
      "source": [
        "train_data=data.copy()\n",
        "\n",
        "Xdata_2 = train_data.drop(columns='Attribute17')\n",
        "Ydata_2 = data['Attribute17'].astype(str)\n",
        "#X_train, X_test, y_train, y_test = train_test_split(Xdata, Ydata , test_size=0.2, random_state=20)\n",
        "#y_train_print=pd.Series(Ydata)\n",
        "#print(y_train_print.value_counts())"
      ]
    },
    {
      "cell_type": "markdown",
      "metadata": {
        "id": "SOZtcBZrQvE9"
      },
      "source": [
        "做SMOTE處理\n"
      ]
    },
    {
      "cell_type": "code",
      "execution_count": null,
      "metadata": {
        "colab": {
          "base_uri": "https://localhost:8080/"
        },
        "id": "Qgt8ynGiQ1T9",
        "outputId": "61c9e265-1688-47be-9fed-09c46fac8caa"
      },
      "outputs": [
        {
          "output_type": "stream",
          "name": "stdout",
          "text": [
            "0    13614\n",
            "1    13614\n",
            "Name: Attribute17, dtype: int64\n"
          ]
        }
      ],
      "source": [
        "from imblearn.over_sampling import SMOTE\n",
        "Xdata, Ydata = SMOTE().fit_resample(Xdata_2, Ydata_2)\n",
        "y_train_print=pd.Series(Ydata)\n",
        "print(y_train_print.value_counts())\n"
      ]
    },
    {
      "cell_type": "markdown",
      "metadata": {
        "id": "AFJauJgeWD8d"
      },
      "source": [
        "輸出"
      ]
    },
    {
      "cell_type": "code",
      "execution_count": null,
      "metadata": {
        "id": "XnMec4yuOOT_"
      },
      "outputs": [],
      "source": [
        "def output(name,Y_pred_model,train_score,test_score):\n",
        "  acc_model = round(train_score * 100, 2)\n",
        "  acc_model_test = round(test_score * 100, 2)\n",
        "  model_precision = round( precision_score(y_test, Y_pred_model, average=\"macro\") * 100, 2)\n",
        "  #print(y_test, Y_pred_model)\n",
        "  model_recall = round( recall_score(y_test, Y_pred_model, average=\"macro\") * 100, 2)\n",
        "  model_fscore = round( f1_score(y_test, Y_pred_model, average=\"macro\") * 100, 2)\n",
        "\n",
        "\n",
        "  models = pd.DataFrame({\n",
        "    'Train': [name],\n",
        "    'accuracy': [acc_model],\n",
        "    'test': [acc_model_test],\n",
        "    'precision': [model_precision],\n",
        "    'recall': [model_recall],\n",
        "    'fscore': [model_fscore],\n",
        "  })\n",
        "\n",
        "  models.sort_values(by='accuracy', ascending=False)\n",
        "  print(models)"
      ]
    },
    {
      "cell_type": "code",
      "execution_count": null,
      "metadata": {
        "id": "nEcQW5eLyzYk"
      },
      "outputs": [],
      "source": [
        "piece=2269"
      ]
    },
    {
      "cell_type": "markdown",
      "metadata": {
        "id": "EwutWy6_V704"
      },
      "source": [
        "#### 決策樹"
      ]
    },
    {
      "cell_type": "code",
      "execution_count": null,
      "metadata": {
        "colab": {
          "base_uri": "https://localhost:8080/"
        },
        "id": "QbROMP1_1TxY",
        "outputId": "20e1077f-d3c8-40dc-a587-16c852c1c9c4"
      },
      "outputs": [
        {
          "output_type": "stream",
          "name": "stdout",
          "text": [
            "          Train  accuracy   test  precision  recall  fscore\n",
            "0  tree_train_0     99.58  79.24      67.35   74.14   69.24\n",
            "          Train  accuracy   test  precision  recall  fscore\n",
            "0  tree_train_1     99.29  75.19       66.1   72.27   67.34\n"
          ]
        }
      ],
      "source": [
        "from sklearn.tree import DecisionTreeClassifier\n",
        "treeNumber=20\n",
        "Dtree=DecisionTreeClassifier(max_depth=treeNumber)\n",
        "'''\n",
        "\n",
        "Dtree.fit(X_train, y_train)\n",
        "Y_pred_Dtree = Dtree.predict(X_test)\n",
        "acc_Dtree = Dtree.score(X_train, y_train)\n",
        "acc_Dtree_test = Dtree.score(X_test, y_test)\n",
        "output('KNN_5times_train_'+str(i),Y_pred_Dtree,acc_Dtree,acc_Dtree_test)\n",
        "'''\n",
        "for i in range(0,2):#5 #1\n",
        "  X_test=Xdata.iloc[piece*i:piece*(i+1)]\n",
        "  y_test=Ydata.iloc[piece*i:piece*(i+1)]\n",
        "  X_train=pd.concat([Xdata,X_test,X_test]).drop_duplicates(keep=False)\n",
        "  if(i==0):\n",
        "    temp=0\n",
        "  else:\n",
        "    temp=piece*i\n",
        "  y_train=pd.concat([Ydata.iloc[0:temp],Ydata.iloc[piece*(i+1):27228]])\n",
        "  Dtree.fit(X_train, y_train)\n",
        "  Y_pred_Dtree = Dtree.predict(X_test)\n",
        "  acc_Dtree = Dtree.score(X_train, y_train)\n",
        "  acc_Dtree_test = Dtree.score(X_test, y_test)\n",
        "  output('tree_train_'+str(i),Y_pred_Dtree,acc_Dtree,acc_Dtree_test)"
      ]
    },
    {
      "cell_type": "code",
      "execution_count": null,
      "metadata": {
        "colab": {
          "base_uri": "https://localhost:8080/",
          "height": 70
        },
        "id": "on_JUIEe2L-A",
        "outputId": "ed1326e3-c1aa-488f-bc90-cf77421d19be"
      },
      "outputs": [
        {
          "output_type": "execute_result",
          "data": {
            "text/plain": [
              "'\\nY_pred = Dtree.predict(predict_data)\\npredict_result_tree = pd.DataFrame(Y_pred)\\npredict_result.rename( columns={0: \\'ans\\'}, inplace=True)\\npredict_ID=predict_data2.index.astype(str)+\".0\"\\nprint(predict_ID.dtype)\\npredict_ID=pd.DataFrame(predict_ID)\\npredict_dataframe = pd.concat([predict_ID,predict_result],axis=1)\\npredict_dataframe.columns=[\\'id\\',\\'ans\\']\\nprint(predict_dataframe[\\'id\\'].dtype)\\npredict_dataframe.to_csv(\\'/content/gdrive/MyDrive/資料科學導論/hw1/tree2_ans_test.csv\\',index=False)\\n'"
            ],
            "application/vnd.google.colaboratory.intrinsic+json": {
              "type": "string"
            }
          },
          "metadata": {},
          "execution_count": 84
        }
      ],
      "source": [
        "predict_result_tree = Dtree.predict(predict_data)\n",
        "'''\n",
        "Y_pred = Dtree.predict(predict_data)\n",
        "predict_result_tree = pd.DataFrame(Y_pred)\n",
        "predict_result.rename( columns={0: 'ans'}, inplace=True)\n",
        "predict_ID=predict_data2.index.astype(str)+\".0\"\n",
        "print(predict_ID.dtype)\n",
        "predict_ID=pd.DataFrame(predict_ID)\n",
        "predict_dataframe = pd.concat([predict_ID,predict_result],axis=1)\n",
        "predict_dataframe.columns=['id','ans']\n",
        "print(predict_dataframe['id'].dtype)\n",
        "predict_dataframe.to_csv('/content/gdrive/MyDrive/資料科學導論/hw1/tree2_ans_test.csv',index=False)\n",
        "'''"
      ]
    },
    {
      "cell_type": "markdown",
      "metadata": {
        "id": "40M_MVM-qjbm"
      },
      "source": [
        "#### KNN"
      ]
    },
    {
      "cell_type": "code",
      "execution_count": null,
      "metadata": {
        "colab": {
          "base_uri": "https://localhost:8080/"
        },
        "id": "4lm1zatm1e2D",
        "outputId": "9c97ca81-ffd8-4138-dddd-5676e28a1c15"
      },
      "outputs": [
        {
          "output_type": "stream",
          "name": "stdout",
          "text": [
            "                Train  accuracy   test  precision  recall  fscore\n",
            "0  KNN_5times_train_0     91.38  74.04      68.89   82.94   68.52\n",
            "                Train  accuracy   test  precision  recall  fscore\n",
            "0  KNN_5times_train_1     91.58  66.81      67.87   78.55   63.79\n"
          ]
        }
      ],
      "source": [
        "from sklearn.neighbors import KNeighborsClassifier\n",
        "from sklearn.model_selection import train_test_split\n",
        "knn = KNeighborsClassifier(n_neighbors = 5)\n",
        "'''\n",
        "knn.fit(X_train, y_train)\n",
        "Y_pred_knn = knn.predict(X_test)\n",
        "acc_knn = knn.score(X_train, y_train)\n",
        "acc_knn_test = knn.score(X_test, y_test)\n",
        "output('KNN_5times_train_'+str(i),Y_pred_knn,acc_knn,acc_knn_test)\n",
        "#2878\n",
        "'''\n",
        "for i in range(0,2):#2\n",
        "  X_test=Xdata.iloc[piece*i:piece*(i+1)]\n",
        "  y_test=Ydata.iloc[piece*i:piece*(i+1)]\n",
        "  X_train=pd.concat([Xdata,X_test,X_test]).drop_duplicates(keep=False)\n",
        "  if(i==0):\n",
        "    temp=0\n",
        "  else:\n",
        "    temp=piece*i\n",
        "  y_train=pd.concat([Ydata.iloc[0:temp],Ydata.iloc[piece*(i+1):27228]])\n",
        "  knn.fit(X_train, y_train)\n",
        "  Y_pred_knn = knn.predict(X_test)\n",
        "  acc_knn = knn.score(X_train, y_train)\n",
        "  acc_knn_test = knn.score(X_test, y_test)\n",
        "  output('KNN_5times_train_'+str(i),Y_pred_knn,acc_knn,acc_knn_test)"
      ]
    },
    {
      "cell_type": "code",
      "execution_count": null,
      "metadata": {
        "colab": {
          "base_uri": "https://localhost:8080/",
          "height": 70
        },
        "id": "e_Memkhmhu96",
        "outputId": "75241312-287c-471e-ec3f-f0a0beff1854"
      },
      "outputs": [
        {
          "output_type": "execute_result",
          "data": {
            "text/plain": [
              "'\\nY_pred = knn.predict(predict_data)\\npredict_result_knn = pd.DataFrame(Y_pred)\\npredict_result.rename( columns={0: \\'ans\\'}, inplace=True)\\npredict_ID=predict_data2.index.astype(str)+\".0\"\\nprint(predict_ID.dtype)\\npredict_ID=pd.DataFrame(predict_ID)\\npredict_dataframe = pd.concat([predict_ID,predict_result],axis=1)\\npredict_dataframe.columns=[\\'id\\',\\'ans\\']\\nprint(predict_dataframe[\\'id\\'].dtype)\\npredict_dataframe.to_csv(\\'/content/gdrive/MyDrive/資料科學導論/hw1/knn_5_ans_test.csv\\',index=False)\\n'"
            ],
            "application/vnd.google.colaboratory.intrinsic+json": {
              "type": "string"
            }
          },
          "metadata": {},
          "execution_count": 86
        }
      ],
      "source": [
        "predict_result_knn = knn.predict(predict_data)\n",
        "'''\n",
        "Y_pred = knn.predict(predict_data)\n",
        "predict_result_knn = pd.DataFrame(Y_pred)\n",
        "predict_result.rename( columns={0: 'ans'}, inplace=True)\n",
        "predict_ID=predict_data2.index.astype(str)+\".0\"\n",
        "print(predict_ID.dtype)\n",
        "predict_ID=pd.DataFrame(predict_ID)\n",
        "predict_dataframe = pd.concat([predict_ID,predict_result],axis=1)\n",
        "predict_dataframe.columns=['id','ans']\n",
        "print(predict_dataframe['id'].dtype)\n",
        "predict_dataframe.to_csv('/content/gdrive/MyDrive/資料科學導論/hw1/knn_5_ans_test.csv',index=False)\n",
        "'''"
      ]
    },
    {
      "cell_type": "markdown",
      "metadata": {
        "id": "hCWUrGPUSoqz"
      },
      "source": [
        "#### Logistic Regression"
      ]
    },
    {
      "cell_type": "code",
      "execution_count": null,
      "metadata": {
        "colab": {
          "base_uri": "https://localhost:8080/"
        },
        "id": "5Hi7XCewSoq1",
        "outputId": "d1411a57-408d-4bc7-a332-c3e2d65f11c1"
      },
      "outputs": [
        {
          "output_type": "stream",
          "name": "stderr",
          "text": [
            "/usr/local/lib/python3.7/dist-packages/sklearn/linear_model/_logistic.py:818: ConvergenceWarning: lbfgs failed to converge (status=1):\n",
            "STOP: TOTAL NO. of ITERATIONS REACHED LIMIT.\n",
            "\n",
            "Increase the number of iterations (max_iter) or scale the data as shown in:\n",
            "    https://scikit-learn.org/stable/modules/preprocessing.html\n",
            "Please also refer to the documentation for alternative solver options:\n",
            "    https://scikit-learn.org/stable/modules/linear_model.html#logistic-regression\n",
            "  extra_warning_msg=_LOGISTIC_SOLVER_CONVERGENCE_MSG,\n"
          ]
        },
        {
          "output_type": "stream",
          "name": "stdout",
          "text": [
            "        Train  accuracy   test  precision  recall  fscore\n",
            "0  LR_train_0     77.86  79.73      69.28   78.76   71.42\n"
          ]
        },
        {
          "output_type": "stream",
          "name": "stderr",
          "text": [
            "/usr/local/lib/python3.7/dist-packages/sklearn/linear_model/_logistic.py:818: ConvergenceWarning: lbfgs failed to converge (status=1):\n",
            "STOP: TOTAL NO. of ITERATIONS REACHED LIMIT.\n",
            "\n",
            "Increase the number of iterations (max_iter) or scale the data as shown in:\n",
            "    https://scikit-learn.org/stable/modules/preprocessing.html\n",
            "Please also refer to the documentation for alternative solver options:\n",
            "    https://scikit-learn.org/stable/modules/linear_model.html#logistic-regression\n",
            "  extra_warning_msg=_LOGISTIC_SOLVER_CONVERGENCE_MSG,\n"
          ]
        },
        {
          "output_type": "stream",
          "name": "stdout",
          "text": [
            "        Train  accuracy   test  precision  recall  fscore\n",
            "0  LR_train_1     78.36  75.54      68.42   77.15   69.47\n"
          ]
        },
        {
          "output_type": "stream",
          "name": "stderr",
          "text": [
            "/usr/local/lib/python3.7/dist-packages/sklearn/linear_model/_logistic.py:818: ConvergenceWarning: lbfgs failed to converge (status=1):\n",
            "STOP: TOTAL NO. of ITERATIONS REACHED LIMIT.\n",
            "\n",
            "Increase the number of iterations (max_iter) or scale the data as shown in:\n",
            "    https://scikit-learn.org/stable/modules/preprocessing.html\n",
            "Please also refer to the documentation for alternative solver options:\n",
            "    https://scikit-learn.org/stable/modules/linear_model.html#logistic-regression\n",
            "  extra_warning_msg=_LOGISTIC_SOLVER_CONVERGENCE_MSG,\n"
          ]
        },
        {
          "output_type": "stream",
          "name": "stdout",
          "text": [
            "        Train  accuracy   test  precision  recall  fscore\n",
            "0  LR_train_2     78.65  69.59      64.44   73.37   63.62\n"
          ]
        }
      ],
      "source": [
        "from sklearn import linear_model\n",
        "lr=linear_model.LogisticRegression()#初始化資料\n",
        "'''\n",
        "lr.fit(X_train,y_train)#丟入資料\n",
        "Y_pred_lr = lr.predict(X_test)\n",
        "acc_lr = lr.score(X_train, y_train)\n",
        "acc_lr_test = lr.score(X_test, y_test)\n",
        "output('LR_train_',Y_pred_lr,acc_lr,acc_lr_test)\n",
        "'''\n",
        "for i in range(0,3):#4\n",
        "  X_test=Xdata.iloc[piece*i:piece*(i+1)]\n",
        "  y_test=Ydata.iloc[piece*i:piece*(i+1)]\n",
        "  X_train=pd.concat([Xdata,X_test,X_test]).drop_duplicates(keep=False)\n",
        "  if(i==0):\n",
        "    temp=0\n",
        "  else:\n",
        "    temp=piece*i\n",
        "  y_train=pd.concat([Ydata.iloc[0:temp],Ydata.iloc[piece*(i+1):27228]])\n",
        "  lr.fit(X_train,y_train)#丟入資料\n",
        "  Y_pred_lr = lr.predict(X_test)\n",
        "  acc_lr = lr.score(X_train, y_train)\n",
        "  acc_lr_test = lr.score(X_test, y_test)\n",
        "  output('LR_train_'+str(i),Y_pred_lr,acc_lr,acc_lr_test)"
      ]
    },
    {
      "cell_type": "code",
      "execution_count": null,
      "metadata": {
        "colab": {
          "base_uri": "https://localhost:8080/",
          "height": 70
        },
        "id": "RwWj2OImSoq3",
        "outputId": "a783f16e-af69-4c14-fa47-52f0771da596"
      },
      "outputs": [
        {
          "output_type": "execute_result",
          "data": {
            "text/plain": [
              "'\\nY_pred = lr.predict(predict_data)\\npredict_result_lr = pd.DataFrame(Y_pred)\\npredict_result_lr.rename( columns={0: \\'ans\\'}, inplace=True)\\npredict_ID=predict_data2.index.astype(str)+\".0\"\\nprint(predict_ID.dtype)\\npredict_ID=pd.DataFrame(predict_ID)\\npredict_dataframe = pd.concat([predict_ID,predict_result_lr],axis=1)\\npredict_dataframe.columns=[\\'id\\',\\'ans\\']\\nprint(predict_dataframe[\\'id\\'].dtype)\\npredict_dataframe.to_csv(\\'/content/gdrive/MyDrive/資料科學導論/hw1/lr_ans_test.csv\\',index=False)\\n'"
            ],
            "application/vnd.google.colaboratory.intrinsic+json": {
              "type": "string"
            }
          },
          "metadata": {},
          "execution_count": 88
        }
      ],
      "source": [
        "predict_result_lr = lr.predict(predict_data)\n",
        "'''\n",
        "Y_pred = lr.predict(predict_data)\n",
        "predict_result_lr = pd.DataFrame(Y_pred)\n",
        "predict_result_lr.rename( columns={0: 'ans'}, inplace=True)\n",
        "predict_ID=predict_data2.index.astype(str)+\".0\"\n",
        "print(predict_ID.dtype)\n",
        "predict_ID=pd.DataFrame(predict_ID)\n",
        "predict_dataframe = pd.concat([predict_ID,predict_result_lr],axis=1)\n",
        "predict_dataframe.columns=['id','ans']\n",
        "print(predict_dataframe['id'].dtype)\n",
        "predict_dataframe.to_csv('/content/gdrive/MyDrive/資料科學導論/hw1/lr_ans_test.csv',index=False)\n",
        "'''"
      ]
    },
    {
      "cell_type": "markdown",
      "metadata": {
        "id": "zJQzOQC6EH60"
      },
      "source": [
        "### 合併測試"
      ]
    },
    {
      "cell_type": "code",
      "execution_count": null,
      "metadata": {
        "id": "KAoHDBHEEKDF",
        "colab": {
          "base_uri": "https://localhost:8080/"
        },
        "outputId": "3c717fa8-090e-408e-ade8-ea5998df1119"
      },
      "outputs": [
        {
          "output_type": "stream",
          "name": "stdout",
          "text": [
            "object\n",
            "object\n"
          ]
        }
      ],
      "source": [
        "predict_result=[]\n",
        "for i in range(0,len(predict_result_tree)):\n",
        "  TREE=int(predict_result_tree[i])\n",
        "  KNN=int(predict_result_knn[i])\n",
        "  LR=int(predict_result_lr[i])\n",
        "  ans=TREE+KNN+LR\n",
        "  if(ans>=1):\n",
        "    predict_result.append('1')\n",
        "  else:\n",
        "    predict_result.append('0')\n",
        "  #print(ans)\n",
        "predict_result = pd.DataFrame(predict_result)\n",
        "predict_result.rename( columns={0: 'ans'}, inplace=True)\n",
        "predict_ID=predict_data2.index.astype(str)+\".0\"\n",
        "print(predict_ID.dtype)\n",
        "predict_ID=pd.DataFrame(predict_ID)\n",
        "predict_dataframe = pd.concat([predict_ID,predict_result],axis=1)\n",
        "predict_dataframe.columns=['id','ans']\n",
        "print(predict_dataframe['id'].dtype)\n",
        "predict_dataframe.to_csv('/content/gdrive/MyDrive/資料科學導論/hw1/combine34_ans_test.csv',index=False)"
      ]
    },
    {
      "cell_type": "markdown",
      "metadata": {
        "id": "x-leudeS-m0X"
      },
      "source": [
        "## 不使用的code"
      ]
    },
    {
      "cell_type": "markdown",
      "source": [
        "### 不用的特徵"
      ],
      "metadata": {
        "id": "yWJEUQN8ecsh"
      }
    },
    {
      "cell_type": "markdown",
      "metadata": {
        "id": "WlMODax_x8Wz"
      },
      "source": [
        "#### 特徵5、6"
      ]
    },
    {
      "cell_type": "code",
      "execution_count": null,
      "metadata": {
        "colab": {
          "background_save": true
        },
        "id": "lju8COZ-qojm"
      },
      "outputs": [],
      "source": [
        "data[(data[\"Attribute16\"]==\"No\")&(data[\"Attribute5\"].isnull())][\"Attribute5\"].fillna(value=0.0, inplace=True)\n",
        "place=data[\"Attribute2\"].unique().tolist()\n",
        "place_rain=data[[\"Attribute2\",\"Attribute6\"]]\n",
        "place_rain=place_rain.dropna()\n",
        "place_rain.reset_index(drop=True)\n",
        "print(place_rain.info())\n",
        "value=[]\n",
        "all_average=place_rain[\"Attribute6\"].mean()\n",
        "for i in place:\n",
        "  average_rain=place_rain[(place_rain[\"Attribute2\"]==i)][\"Attribute6\"].mean()\n",
        "  #print(average_rain)\n",
        "  value.append(average_rain)\n",
        "print(value)\n",
        "\n",
        "for i in range(0,len(place)):\n",
        "  data[data[\"Attribute2\"]==place[i]][\"Attribute6\"].fillna(value=value[i], inplace=True)\n",
        "\n",
        "data[\"Attribute6\"].fillna(value=all_average, inplace=True)\n",
        "print(data.info())"
      ]
    },
    {
      "cell_type": "markdown",
      "metadata": {
        "id": "98KCPqzUyH1Z"
      },
      "source": [
        "#### 特徵7"
      ]
    },
    {
      "cell_type": "code",
      "execution_count": null,
      "metadata": {
        "colab": {
          "background_save": true
        },
        "id": "vyYObcNLyJO1"
      },
      "outputs": [],
      "source": [
        "place=data[\"Attribute2\"].unique().tolist()\n",
        "place_sunshine=data[[\"Attribute2\",\"Attribute7\"]]\n",
        "place_sunshine=place_sunshine.dropna()\n",
        "place_sunshine.reset_index(drop=True)\n",
        "print(place_sunshine.info())\n",
        "value=[]\n",
        "all_average=place_sunshine[\"Attribute7\"].mean()\n",
        "for i in place:\n",
        "  average_sunshine=place_sunshine[(place_sunshine[\"Attribute2\"]==i)][\"Attribute7\"].mean()\n",
        "  #print(average_sunshine)\n",
        "  value.append(average_sunshine)\n",
        "print(value)\n",
        "\n",
        "for i in range(0,len(place)):\n",
        "  data[data[\"Attribute2\"]==place[i]][\"Attribute7\"].fillna(value=value[i], inplace=True)\n",
        "\n",
        "data[\"Attribute7\"].fillna(value=all_average, inplace=True)\n",
        "print(data.info())"
      ]
    },
    {
      "cell_type": "markdown",
      "metadata": {
        "id": "zg5Bf13wyrPx"
      },
      "source": [
        "#### 特徵14"
      ]
    },
    {
      "cell_type": "code",
      "execution_count": null,
      "metadata": {
        "colab": {
          "background_save": true
        },
        "id": "xU9KzEWZyu1b"
      },
      "outputs": [],
      "source": [
        "place=data[\"Attribute2\"].unique().tolist()\n",
        "sunshine_hour=data[[\"Attribute2\",\"Attribute14\"]]\n",
        "sunshine_hour=sunshine_hour.dropna()\n",
        "sunshine_hour.reset_index(drop=True)\n",
        "print(sunshine_hour.info())\n",
        "value=[]\n",
        "all_average=sunshine_hour[\"Attribute14\"].mean()\n",
        "for i in place:\n",
        "  average_sunshine=sunshine_hour[(sunshine_hour[\"Attribute2\"]==i)][\"Attribute14\"].mean()\n",
        "  #print(average_sunshine)\n",
        "  value.append(average_sunshine)\n",
        "print(value)\n",
        "\n",
        "for i in range(0,len(place)):\n",
        "  data[data[\"Attribute2\"]==place[i]][\"Attribute14\"].fillna(value=value[i], inplace=True)\n",
        "\n",
        "data[\"Attribute14\"].fillna(value=all_average, inplace=True)\n",
        "print(data.info())"
      ]
    },
    {
      "cell_type": "markdown",
      "source": [
        "### 不用的model"
      ],
      "metadata": {
        "id": "dFc49uDUlj2E"
      }
    },
    {
      "cell_type": "markdown",
      "source": [
        "#### Lsvc"
      ],
      "metadata": {
        "id": "XnSShNaj_-lF"
      }
    },
    {
      "cell_type": "code",
      "source": [
        "from sklearn import svm\n",
        "Lsvc = svm.LinearSVC(C=10)\n",
        "'''\n",
        "Lsvc.fit(X_train,y_train)\n",
        "Y_pred_Lsvc=Lsvc.predict(X_test)\n",
        "Lsvc_train_score=Lsvc.score(X_train, y_train)\n",
        "Lsvc_test_score=Lsvc.score(X_test, y_test)\n",
        "output(\"Linear SVC\",Y_pred_Lsvc,Lsvc_train_score,Lsvc_test_score)\n",
        "'''\n",
        "for i in range(0,1):\n",
        "  X_test=Xdata.iloc[piece*i:piece*(i+1)]\n",
        "  y_test=Ydata.iloc[piece*i:piece*(i+1)]\n",
        "  X_train=pd.concat([Xdata,X_test,X_test]).drop_duplicates(keep=False)\n",
        "  if(i==0):\n",
        "    temp=0\n",
        "  else:\n",
        "    temp=piece*i\n",
        "  y_train=pd.concat([Ydata.iloc[0:temp],Ydata.iloc[piece*(i+1):27414]])\n",
        "  Lsvc.fit(X_train,y_train)#丟入資料\n",
        "  Y_pred_Lsvc = Lsvc.predict(X_test)\n",
        "  acc_Lsvc = Lsvc.score(X_train, y_train)\n",
        "  acc_Lsvc_test = Lsvc.score(X_test, y_test)\n",
        "  output('Linear SVC'+str(i),Y_pred_Lsvc,acc_Lsvc,acc_Lsvc_test)"
      ],
      "metadata": {
        "colab": {
          "base_uri": "https://localhost:8080/"
        },
        "id": "q0HNUWgq-UKM",
        "outputId": "336968be-1d5c-4c60-c364-fe477b6cbc94"
      },
      "execution_count": null,
      "outputs": [
        {
          "output_type": "stream",
          "name": "stderr",
          "text": [
            "/usr/local/lib/python3.7/dist-packages/sklearn/svm/_base.py:1208: ConvergenceWarning: Liblinear failed to converge, increase the number of iterations.\n",
            "  ConvergenceWarning,\n"
          ]
        },
        {
          "output_type": "stream",
          "name": "stdout",
          "text": [
            "         Train  accuracy   test  precision  recall  fscore\n",
            "0  Linear SVC0     75.52  84.75      73.05   76.29   74.44\n"
          ]
        }
      ]
    },
    {
      "cell_type": "code",
      "source": [
        "predict_result_Lsvc = Lsvc.predict(predict_data)"
      ],
      "metadata": {
        "id": "TivrU35k-oV6"
      },
      "execution_count": null,
      "outputs": []
    },
    {
      "cell_type": "markdown",
      "metadata": {
        "id": "691LB4YpWNtX"
      },
      "source": [
        "#### SVM"
      ]
    },
    {
      "cell_type": "code",
      "execution_count": null,
      "metadata": {
        "id": "IaXUqoWIWIUX"
      },
      "outputs": [],
      "source": [
        "from sklearn.svm import SVC\n",
        "svm = SVC(kernel='linear', probability=True)#初始化演算法\n",
        "'''\n",
        "svm.fit(X_train, y_train)#把資料丟入演算法\n",
        "Y_pred_svm = svm.predict(X_test)\n",
        "acc_svm = svm.score(X_train, y_train)\n",
        "acc_svm_test = svm.score(X_test, y_test)\n",
        "output('KNN_5times_train_'+str(i),Y_pred_svm,acc_svm,acc_svm_test)\n",
        "'''\n",
        "for i in range(0,6):\n",
        "  X_test=Xdata.iloc[piece*i:piece*(i+1)]\n",
        "  y_test=Ydata.iloc[piece*i:piece*(i+1)]\n",
        "  X_train=pd.concat([Xdata,X_test,X_test]).drop_duplicates(keep=False)\n",
        "  if(i==0):\n",
        "    temp=0\n",
        "  else:\n",
        "    temp=piece*i\n",
        "  y_train=pd.concat([Ydata.iloc[0:temp],Ydata.iloc[piece*(i+1):27228]])\n",
        "  svm.fit(X_train, y_train)#把資料丟入演算法\n",
        "  Y_pred_svm = svm.predict(X_test)\n",
        "  acc_svm = svm.score(X_train, y_train)\n",
        "  acc_svm_test = svm.score(X_test, y_test)\n",
        "  output('KNN_5times_train_'+str(i),Y_pred_svm,acc_svm,acc_svm_test)"
      ]
    },
    {
      "cell_type": "code",
      "execution_count": null,
      "metadata": {
        "id": "z2Lu9MgA-ar5"
      },
      "outputs": [],
      "source": [
        "predict_result_svm = svm.predict(predict_data)\n",
        "'''\n",
        "Y_pred = svm.predict(predict_data)\n",
        "predict_result_svm = pd.DataFrame(Y_pred)\n",
        "predict_result.rename( columns={0: 'ans'}, inplace=True)\n",
        "predict_ID=predict_data2.index.astype(str)+\".0\"\n",
        "print(predict_ID.dtype)\n",
        "predict_ID=pd.DataFrame(predict_ID)\n",
        "predict_dataframe = pd.concat([predict_ID,predict_result],axis=1)\n",
        "predict_dataframe.columns=['id','ans']\n",
        "print(predict_dataframe['id'].dtype)\n",
        "predict_dataframe.to_csv('/content/gdrive/MyDrive/資料科學導論/hw1/svm_ans_test.csv',index=False)\n",
        "'''"
      ]
    },
    {
      "cell_type": "code",
      "execution_count": null,
      "metadata": {
        "colab": {
          "base_uri": "https://localhost:8080/",
          "height": 1000
        },
        "id": "MeeMxJCJuhsp",
        "outputId": "8ea4fc81-b67a-4f6a-f76c-dfb8f3f84b29"
      },
      "outputs": [
        {
          "name": "stderr",
          "output_type": "stream",
          "text": [
            "/usr/local/lib/python3.7/dist-packages/sklearn/neighbors/_classification.py:198: DataConversionWarning: A column-vector y was passed when a 1d array was expected. Please change the shape of y to (n_samples,), for example using ravel().\n",
            "  return self._fit(X, y)\n",
            "/usr/local/lib/python3.7/dist-packages/sklearn/neighbors/_classification.py:198: DataConversionWarning: A column-vector y was passed when a 1d array was expected. Please change the shape of y to (n_samples,), for example using ravel().\n",
            "  return self._fit(X, y)\n",
            "/usr/local/lib/python3.7/dist-packages/sklearn/neighbors/_classification.py:198: DataConversionWarning: A column-vector y was passed when a 1d array was expected. Please change the shape of y to (n_samples,), for example using ravel().\n",
            "  return self._fit(X, y)\n",
            "/usr/local/lib/python3.7/dist-packages/sklearn/neighbors/_classification.py:198: DataConversionWarning: A column-vector y was passed when a 1d array was expected. Please change the shape of y to (n_samples,), for example using ravel().\n",
            "  return self._fit(X, y)\n",
            "/usr/local/lib/python3.7/dist-packages/sklearn/neighbors/_classification.py:198: DataConversionWarning: A column-vector y was passed when a 1d array was expected. Please change the shape of y to (n_samples,), for example using ravel().\n",
            "  return self._fit(X, y)\n",
            "/usr/local/lib/python3.7/dist-packages/sklearn/neighbors/_classification.py:198: DataConversionWarning: A column-vector y was passed when a 1d array was expected. Please change the shape of y to (n_samples,), for example using ravel().\n",
            "  return self._fit(X, y)\n",
            "/usr/local/lib/python3.7/dist-packages/sklearn/neighbors/_classification.py:198: DataConversionWarning: A column-vector y was passed when a 1d array was expected. Please change the shape of y to (n_samples,), for example using ravel().\n",
            "  return self._fit(X, y)\n",
            "/usr/local/lib/python3.7/dist-packages/sklearn/neighbors/_classification.py:198: DataConversionWarning: A column-vector y was passed when a 1d array was expected. Please change the shape of y to (n_samples,), for example using ravel().\n",
            "  return self._fit(X, y)\n",
            "/usr/local/lib/python3.7/dist-packages/sklearn/neighbors/_classification.py:198: DataConversionWarning: A column-vector y was passed when a 1d array was expected. Please change the shape of y to (n_samples,), for example using ravel().\n",
            "  return self._fit(X, y)\n",
            "/usr/local/lib/python3.7/dist-packages/sklearn/neighbors/_classification.py:198: DataConversionWarning: A column-vector y was passed when a 1d array was expected. Please change the shape of y to (n_samples,), for example using ravel().\n",
            "  return self._fit(X, y)\n",
            "/usr/local/lib/python3.7/dist-packages/sklearn/neighbors/_classification.py:198: DataConversionWarning: A column-vector y was passed when a 1d array was expected. Please change the shape of y to (n_samples,), for example using ravel().\n",
            "  return self._fit(X, y)\n",
            "/usr/local/lib/python3.7/dist-packages/sklearn/neighbors/_classification.py:198: DataConversionWarning: A column-vector y was passed when a 1d array was expected. Please change the shape of y to (n_samples,), for example using ravel().\n",
            "  return self._fit(X, y)\n",
            "/usr/local/lib/python3.7/dist-packages/sklearn/neighbors/_classification.py:198: DataConversionWarning: A column-vector y was passed when a 1d array was expected. Please change the shape of y to (n_samples,), for example using ravel().\n",
            "  return self._fit(X, y)\n",
            "/usr/local/lib/python3.7/dist-packages/sklearn/neighbors/_classification.py:198: DataConversionWarning: A column-vector y was passed when a 1d array was expected. Please change the shape of y to (n_samples,), for example using ravel().\n",
            "  return self._fit(X, y)\n",
            "/usr/local/lib/python3.7/dist-packages/sklearn/neighbors/_classification.py:198: DataConversionWarning: A column-vector y was passed when a 1d array was expected. Please change the shape of y to (n_samples,), for example using ravel().\n",
            "  return self._fit(X, y)\n",
            "/usr/local/lib/python3.7/dist-packages/sklearn/neighbors/_classification.py:198: DataConversionWarning: A column-vector y was passed when a 1d array was expected. Please change the shape of y to (n_samples,), for example using ravel().\n",
            "  return self._fit(X, y)\n",
            "/usr/local/lib/python3.7/dist-packages/sklearn/neighbors/_classification.py:198: DataConversionWarning: A column-vector y was passed when a 1d array was expected. Please change the shape of y to (n_samples,), for example using ravel().\n",
            "  return self._fit(X, y)\n",
            "/usr/local/lib/python3.7/dist-packages/sklearn/neighbors/_classification.py:198: DataConversionWarning: A column-vector y was passed when a 1d array was expected. Please change the shape of y to (n_samples,), for example using ravel().\n",
            "  return self._fit(X, y)\n",
            "/usr/local/lib/python3.7/dist-packages/sklearn/neighbors/_classification.py:198: DataConversionWarning: A column-vector y was passed when a 1d array was expected. Please change the shape of y to (n_samples,), for example using ravel().\n",
            "  return self._fit(X, y)\n",
            "/usr/local/lib/python3.7/dist-packages/sklearn/neighbors/_classification.py:198: DataConversionWarning: A column-vector y was passed when a 1d array was expected. Please change the shape of y to (n_samples,), for example using ravel().\n",
            "  return self._fit(X, y)\n",
            "/usr/local/lib/python3.7/dist-packages/sklearn/neighbors/_classification.py:198: DataConversionWarning: A column-vector y was passed when a 1d array was expected. Please change the shape of y to (n_samples,), for example using ravel().\n",
            "  return self._fit(X, y)\n",
            "/usr/local/lib/python3.7/dist-packages/sklearn/neighbors/_classification.py:198: DataConversionWarning: A column-vector y was passed when a 1d array was expected. Please change the shape of y to (n_samples,), for example using ravel().\n",
            "  return self._fit(X, y)\n",
            "/usr/local/lib/python3.7/dist-packages/sklearn/neighbors/_classification.py:198: DataConversionWarning: A column-vector y was passed when a 1d array was expected. Please change the shape of y to (n_samples,), for example using ravel().\n",
            "  return self._fit(X, y)\n",
            "/usr/local/lib/python3.7/dist-packages/sklearn/neighbors/_classification.py:198: DataConversionWarning: A column-vector y was passed when a 1d array was expected. Please change the shape of y to (n_samples,), for example using ravel().\n",
            "  return self._fit(X, y)\n",
            "/usr/local/lib/python3.7/dist-packages/sklearn/neighbors/_classification.py:198: DataConversionWarning: A column-vector y was passed when a 1d array was expected. Please change the shape of y to (n_samples,), for example using ravel().\n",
            "  return self._fit(X, y)\n",
            "/usr/local/lib/python3.7/dist-packages/sklearn/neighbors/_classification.py:198: DataConversionWarning: A column-vector y was passed when a 1d array was expected. Please change the shape of y to (n_samples,), for example using ravel().\n",
            "  return self._fit(X, y)\n",
            "/usr/local/lib/python3.7/dist-packages/sklearn/neighbors/_classification.py:198: DataConversionWarning: A column-vector y was passed when a 1d array was expected. Please change the shape of y to (n_samples,), for example using ravel().\n",
            "  return self._fit(X, y)\n",
            "/usr/local/lib/python3.7/dist-packages/sklearn/neighbors/_classification.py:198: DataConversionWarning: A column-vector y was passed when a 1d array was expected. Please change the shape of y to (n_samples,), for example using ravel().\n",
            "  return self._fit(X, y)\n",
            "/usr/local/lib/python3.7/dist-packages/sklearn/neighbors/_classification.py:198: DataConversionWarning: A column-vector y was passed when a 1d array was expected. Please change the shape of y to (n_samples,), for example using ravel().\n",
            "  return self._fit(X, y)\n",
            "/usr/local/lib/python3.7/dist-packages/sklearn/neighbors/_classification.py:198: DataConversionWarning: A column-vector y was passed when a 1d array was expected. Please change the shape of y to (n_samples,), for example using ravel().\n",
            "  return self._fit(X, y)\n",
            "/usr/local/lib/python3.7/dist-packages/sklearn/neighbors/_classification.py:198: DataConversionWarning: A column-vector y was passed when a 1d array was expected. Please change the shape of y to (n_samples,), for example using ravel().\n",
            "  return self._fit(X, y)\n",
            "/usr/local/lib/python3.7/dist-packages/sklearn/neighbors/_classification.py:198: DataConversionWarning: A column-vector y was passed when a 1d array was expected. Please change the shape of y to (n_samples,), for example using ravel().\n",
            "  return self._fit(X, y)\n",
            "/usr/local/lib/python3.7/dist-packages/sklearn/neighbors/_classification.py:198: DataConversionWarning: A column-vector y was passed when a 1d array was expected. Please change the shape of y to (n_samples,), for example using ravel().\n",
            "  return self._fit(X, y)\n",
            "/usr/local/lib/python3.7/dist-packages/sklearn/neighbors/_classification.py:198: DataConversionWarning: A column-vector y was passed when a 1d array was expected. Please change the shape of y to (n_samples,), for example using ravel().\n",
            "  return self._fit(X, y)\n",
            "/usr/local/lib/python3.7/dist-packages/sklearn/neighbors/_classification.py:198: DataConversionWarning: A column-vector y was passed when a 1d array was expected. Please change the shape of y to (n_samples,), for example using ravel().\n",
            "  return self._fit(X, y)\n",
            "/usr/local/lib/python3.7/dist-packages/sklearn/neighbors/_classification.py:198: DataConversionWarning: A column-vector y was passed when a 1d array was expected. Please change the shape of y to (n_samples,), for example using ravel().\n",
            "  return self._fit(X, y)\n",
            "/usr/local/lib/python3.7/dist-packages/sklearn/neighbors/_classification.py:198: DataConversionWarning: A column-vector y was passed when a 1d array was expected. Please change the shape of y to (n_samples,), for example using ravel().\n",
            "  return self._fit(X, y)\n",
            "/usr/local/lib/python3.7/dist-packages/sklearn/neighbors/_classification.py:198: DataConversionWarning: A column-vector y was passed when a 1d array was expected. Please change the shape of y to (n_samples,), for example using ravel().\n",
            "  return self._fit(X, y)\n",
            "/usr/local/lib/python3.7/dist-packages/sklearn/neighbors/_classification.py:198: DataConversionWarning: A column-vector y was passed when a 1d array was expected. Please change the shape of y to (n_samples,), for example using ravel().\n",
            "  return self._fit(X, y)\n",
            "/usr/local/lib/python3.7/dist-packages/sklearn/neighbors/_classification.py:198: DataConversionWarning: A column-vector y was passed when a 1d array was expected. Please change the shape of y to (n_samples,), for example using ravel().\n",
            "  return self._fit(X, y)\n",
            "/usr/local/lib/python3.7/dist-packages/sklearn/neighbors/_classification.py:198: DataConversionWarning: A column-vector y was passed when a 1d array was expected. Please change the shape of y to (n_samples,), for example using ravel().\n",
            "  return self._fit(X, y)\n",
            "/usr/local/lib/python3.7/dist-packages/sklearn/neighbors/_classification.py:198: DataConversionWarning: A column-vector y was passed when a 1d array was expected. Please change the shape of y to (n_samples,), for example using ravel().\n",
            "  return self._fit(X, y)\n",
            "/usr/local/lib/python3.7/dist-packages/sklearn/neighbors/_classification.py:198: DataConversionWarning: A column-vector y was passed when a 1d array was expected. Please change the shape of y to (n_samples,), for example using ravel().\n",
            "  return self._fit(X, y)\n",
            "/usr/local/lib/python3.7/dist-packages/sklearn/neighbors/_classification.py:198: DataConversionWarning: A column-vector y was passed when a 1d array was expected. Please change the shape of y to (n_samples,), for example using ravel().\n",
            "  return self._fit(X, y)\n",
            "/usr/local/lib/python3.7/dist-packages/sklearn/neighbors/_classification.py:198: DataConversionWarning: A column-vector y was passed when a 1d array was expected. Please change the shape of y to (n_samples,), for example using ravel().\n",
            "  return self._fit(X, y)\n",
            "/usr/local/lib/python3.7/dist-packages/sklearn/neighbors/_classification.py:198: DataConversionWarning: A column-vector y was passed when a 1d array was expected. Please change the shape of y to (n_samples,), for example using ravel().\n",
            "  return self._fit(X, y)\n",
            "/usr/local/lib/python3.7/dist-packages/sklearn/neighbors/_classification.py:198: DataConversionWarning: A column-vector y was passed when a 1d array was expected. Please change the shape of y to (n_samples,), for example using ravel().\n",
            "  return self._fit(X, y)\n",
            "/usr/local/lib/python3.7/dist-packages/sklearn/neighbors/_classification.py:198: DataConversionWarning: A column-vector y was passed when a 1d array was expected. Please change the shape of y to (n_samples,), for example using ravel().\n",
            "  return self._fit(X, y)\n",
            "/usr/local/lib/python3.7/dist-packages/sklearn/neighbors/_classification.py:198: DataConversionWarning: A column-vector y was passed when a 1d array was expected. Please change the shape of y to (n_samples,), for example using ravel().\n",
            "  return self._fit(X, y)\n",
            "/usr/local/lib/python3.7/dist-packages/sklearn/neighbors/_classification.py:198: DataConversionWarning: A column-vector y was passed when a 1d array was expected. Please change the shape of y to (n_samples,), for example using ravel().\n",
            "  return self._fit(X, y)\n",
            "/usr/local/lib/python3.7/dist-packages/sklearn/neighbors/_classification.py:198: DataConversionWarning: A column-vector y was passed when a 1d array was expected. Please change the shape of y to (n_samples,), for example using ravel().\n",
            "  return self._fit(X, y)\n",
            "/usr/local/lib/python3.7/dist-packages/sklearn/neighbors/_classification.py:198: DataConversionWarning: A column-vector y was passed when a 1d array was expected. Please change the shape of y to (n_samples,), for example using ravel().\n",
            "  return self._fit(X, y)\n",
            "/usr/local/lib/python3.7/dist-packages/sklearn/neighbors/_classification.py:198: DataConversionWarning: A column-vector y was passed when a 1d array was expected. Please change the shape of y to (n_samples,), for example using ravel().\n",
            "  return self._fit(X, y)\n",
            "/usr/local/lib/python3.7/dist-packages/sklearn/neighbors/_classification.py:198: DataConversionWarning: A column-vector y was passed when a 1d array was expected. Please change the shape of y to (n_samples,), for example using ravel().\n",
            "  return self._fit(X, y)\n",
            "/usr/local/lib/python3.7/dist-packages/sklearn/neighbors/_classification.py:198: DataConversionWarning: A column-vector y was passed when a 1d array was expected. Please change the shape of y to (n_samples,), for example using ravel().\n",
            "  return self._fit(X, y)\n",
            "/usr/local/lib/python3.7/dist-packages/sklearn/neighbors/_classification.py:198: DataConversionWarning: A column-vector y was passed when a 1d array was expected. Please change the shape of y to (n_samples,), for example using ravel().\n",
            "  return self._fit(X, y)\n",
            "/usr/local/lib/python3.7/dist-packages/sklearn/neighbors/_classification.py:198: DataConversionWarning: A column-vector y was passed when a 1d array was expected. Please change the shape of y to (n_samples,), for example using ravel().\n",
            "  return self._fit(X, y)\n",
            "/usr/local/lib/python3.7/dist-packages/sklearn/neighbors/_classification.py:198: DataConversionWarning: A column-vector y was passed when a 1d array was expected. Please change the shape of y to (n_samples,), for example using ravel().\n",
            "  return self._fit(X, y)\n",
            "/usr/local/lib/python3.7/dist-packages/sklearn/neighbors/_classification.py:198: DataConversionWarning: A column-vector y was passed when a 1d array was expected. Please change the shape of y to (n_samples,), for example using ravel().\n",
            "  return self._fit(X, y)\n",
            "/usr/local/lib/python3.7/dist-packages/sklearn/neighbors/_classification.py:198: DataConversionWarning: A column-vector y was passed when a 1d array was expected. Please change the shape of y to (n_samples,), for example using ravel().\n",
            "  return self._fit(X, y)\n",
            "/usr/local/lib/python3.7/dist-packages/sklearn/neighbors/_classification.py:198: DataConversionWarning: A column-vector y was passed when a 1d array was expected. Please change the shape of y to (n_samples,), for example using ravel().\n",
            "  return self._fit(X, y)\n",
            "/usr/local/lib/python3.7/dist-packages/sklearn/neighbors/_classification.py:198: DataConversionWarning: A column-vector y was passed when a 1d array was expected. Please change the shape of y to (n_samples,), for example using ravel().\n",
            "  return self._fit(X, y)\n",
            "/usr/local/lib/python3.7/dist-packages/sklearn/neighbors/_classification.py:198: DataConversionWarning: A column-vector y was passed when a 1d array was expected. Please change the shape of y to (n_samples,), for example using ravel().\n",
            "  return self._fit(X, y)\n",
            "/usr/local/lib/python3.7/dist-packages/sklearn/neighbors/_classification.py:198: DataConversionWarning: A column-vector y was passed when a 1d array was expected. Please change the shape of y to (n_samples,), for example using ravel().\n",
            "  return self._fit(X, y)\n",
            "/usr/local/lib/python3.7/dist-packages/sklearn/neighbors/_classification.py:198: DataConversionWarning: A column-vector y was passed when a 1d array was expected. Please change the shape of y to (n_samples,), for example using ravel().\n",
            "  return self._fit(X, y)\n",
            "/usr/local/lib/python3.7/dist-packages/sklearn/neighbors/_classification.py:198: DataConversionWarning: A column-vector y was passed when a 1d array was expected. Please change the shape of y to (n_samples,), for example using ravel().\n",
            "  return self._fit(X, y)\n",
            "/usr/local/lib/python3.7/dist-packages/sklearn/neighbors/_classification.py:198: DataConversionWarning: A column-vector y was passed when a 1d array was expected. Please change the shape of y to (n_samples,), for example using ravel().\n",
            "  return self._fit(X, y)\n",
            "/usr/local/lib/python3.7/dist-packages/sklearn/neighbors/_classification.py:198: DataConversionWarning: A column-vector y was passed when a 1d array was expected. Please change the shape of y to (n_samples,), for example using ravel().\n",
            "  return self._fit(X, y)\n",
            "/usr/local/lib/python3.7/dist-packages/sklearn/neighbors/_classification.py:198: DataConversionWarning: A column-vector y was passed when a 1d array was expected. Please change the shape of y to (n_samples,), for example using ravel().\n",
            "  return self._fit(X, y)\n",
            "/usr/local/lib/python3.7/dist-packages/sklearn/neighbors/_classification.py:198: DataConversionWarning: A column-vector y was passed when a 1d array was expected. Please change the shape of y to (n_samples,), for example using ravel().\n",
            "  return self._fit(X, y)\n",
            "/usr/local/lib/python3.7/dist-packages/sklearn/neighbors/_classification.py:198: DataConversionWarning: A column-vector y was passed when a 1d array was expected. Please change the shape of y to (n_samples,), for example using ravel().\n",
            "  return self._fit(X, y)\n",
            "/usr/local/lib/python3.7/dist-packages/sklearn/neighbors/_classification.py:198: DataConversionWarning: A column-vector y was passed when a 1d array was expected. Please change the shape of y to (n_samples,), for example using ravel().\n",
            "  return self._fit(X, y)\n",
            "/usr/local/lib/python3.7/dist-packages/sklearn/neighbors/_classification.py:198: DataConversionWarning: A column-vector y was passed when a 1d array was expected. Please change the shape of y to (n_samples,), for example using ravel().\n",
            "  return self._fit(X, y)\n",
            "/usr/local/lib/python3.7/dist-packages/sklearn/neighbors/_classification.py:198: DataConversionWarning: A column-vector y was passed when a 1d array was expected. Please change the shape of y to (n_samples,), for example using ravel().\n",
            "  return self._fit(X, y)\n",
            "/usr/local/lib/python3.7/dist-packages/sklearn/neighbors/_classification.py:198: DataConversionWarning: A column-vector y was passed when a 1d array was expected. Please change the shape of y to (n_samples,), for example using ravel().\n",
            "  return self._fit(X, y)\n",
            "/usr/local/lib/python3.7/dist-packages/sklearn/neighbors/_classification.py:198: DataConversionWarning: A column-vector y was passed when a 1d array was expected. Please change the shape of y to (n_samples,), for example using ravel().\n",
            "  return self._fit(X, y)\n",
            "/usr/local/lib/python3.7/dist-packages/sklearn/neighbors/_classification.py:198: DataConversionWarning: A column-vector y was passed when a 1d array was expected. Please change the shape of y to (n_samples,), for example using ravel().\n",
            "  return self._fit(X, y)\n",
            "/usr/local/lib/python3.7/dist-packages/sklearn/neighbors/_classification.py:198: DataConversionWarning: A column-vector y was passed when a 1d array was expected. Please change the shape of y to (n_samples,), for example using ravel().\n",
            "  return self._fit(X, y)\n",
            "/usr/local/lib/python3.7/dist-packages/sklearn/neighbors/_classification.py:198: DataConversionWarning: A column-vector y was passed when a 1d array was expected. Please change the shape of y to (n_samples,), for example using ravel().\n",
            "  return self._fit(X, y)\n",
            "/usr/local/lib/python3.7/dist-packages/sklearn/neighbors/_classification.py:198: DataConversionWarning: A column-vector y was passed when a 1d array was expected. Please change the shape of y to (n_samples,), for example using ravel().\n",
            "  return self._fit(X, y)\n",
            "/usr/local/lib/python3.7/dist-packages/sklearn/neighbors/_classification.py:198: DataConversionWarning: A column-vector y was passed when a 1d array was expected. Please change the shape of y to (n_samples,), for example using ravel().\n",
            "  return self._fit(X, y)\n",
            "/usr/local/lib/python3.7/dist-packages/sklearn/neighbors/_classification.py:198: DataConversionWarning: A column-vector y was passed when a 1d array was expected. Please change the shape of y to (n_samples,), for example using ravel().\n",
            "  return self._fit(X, y)\n",
            "/usr/local/lib/python3.7/dist-packages/sklearn/neighbors/_classification.py:198: DataConversionWarning: A column-vector y was passed when a 1d array was expected. Please change the shape of y to (n_samples,), for example using ravel().\n",
            "  return self._fit(X, y)\n",
            "/usr/local/lib/python3.7/dist-packages/sklearn/neighbors/_classification.py:198: DataConversionWarning: A column-vector y was passed when a 1d array was expected. Please change the shape of y to (n_samples,), for example using ravel().\n",
            "  return self._fit(X, y)\n",
            "/usr/local/lib/python3.7/dist-packages/sklearn/neighbors/_classification.py:198: DataConversionWarning: A column-vector y was passed when a 1d array was expected. Please change the shape of y to (n_samples,), for example using ravel().\n",
            "  return self._fit(X, y)\n",
            "/usr/local/lib/python3.7/dist-packages/sklearn/neighbors/_classification.py:198: DataConversionWarning: A column-vector y was passed when a 1d array was expected. Please change the shape of y to (n_samples,), for example using ravel().\n",
            "  return self._fit(X, y)\n",
            "/usr/local/lib/python3.7/dist-packages/sklearn/neighbors/_classification.py:198: DataConversionWarning: A column-vector y was passed when a 1d array was expected. Please change the shape of y to (n_samples,), for example using ravel().\n",
            "  return self._fit(X, y)\n",
            "/usr/local/lib/python3.7/dist-packages/sklearn/neighbors/_classification.py:198: DataConversionWarning: A column-vector y was passed when a 1d array was expected. Please change the shape of y to (n_samples,), for example using ravel().\n",
            "  return self._fit(X, y)\n",
            "/usr/local/lib/python3.7/dist-packages/sklearn/neighbors/_classification.py:198: DataConversionWarning: A column-vector y was passed when a 1d array was expected. Please change the shape of y to (n_samples,), for example using ravel().\n",
            "  return self._fit(X, y)\n",
            "/usr/local/lib/python3.7/dist-packages/sklearn/neighbors/_classification.py:198: DataConversionWarning: A column-vector y was passed when a 1d array was expected. Please change the shape of y to (n_samples,), for example using ravel().\n",
            "  return self._fit(X, y)\n",
            "/usr/local/lib/python3.7/dist-packages/sklearn/neighbors/_classification.py:198: DataConversionWarning: A column-vector y was passed when a 1d array was expected. Please change the shape of y to (n_samples,), for example using ravel().\n",
            "  return self._fit(X, y)\n",
            "/usr/local/lib/python3.7/dist-packages/sklearn/neighbors/_classification.py:198: DataConversionWarning: A column-vector y was passed when a 1d array was expected. Please change the shape of y to (n_samples,), for example using ravel().\n",
            "  return self._fit(X, y)\n",
            "/usr/local/lib/python3.7/dist-packages/sklearn/neighbors/_classification.py:198: DataConversionWarning: A column-vector y was passed when a 1d array was expected. Please change the shape of y to (n_samples,), for example using ravel().\n",
            "  return self._fit(X, y)\n",
            "/usr/local/lib/python3.7/dist-packages/sklearn/neighbors/_classification.py:198: DataConversionWarning: A column-vector y was passed when a 1d array was expected. Please change the shape of y to (n_samples,), for example using ravel().\n",
            "  return self._fit(X, y)\n",
            "/usr/local/lib/python3.7/dist-packages/sklearn/neighbors/_classification.py:198: DataConversionWarning: A column-vector y was passed when a 1d array was expected. Please change the shape of y to (n_samples,), for example using ravel().\n",
            "  return self._fit(X, y)\n",
            "/usr/local/lib/python3.7/dist-packages/sklearn/neighbors/_classification.py:198: DataConversionWarning: A column-vector y was passed when a 1d array was expected. Please change the shape of y to (n_samples,), for example using ravel().\n",
            "  return self._fit(X, y)\n",
            "/usr/local/lib/python3.7/dist-packages/sklearn/neighbors/_classification.py:198: DataConversionWarning: A column-vector y was passed when a 1d array was expected. Please change the shape of y to (n_samples,), for example using ravel().\n",
            "  return self._fit(X, y)\n",
            "/usr/local/lib/python3.7/dist-packages/sklearn/neighbors/_classification.py:198: DataConversionWarning: A column-vector y was passed when a 1d array was expected. Please change the shape of y to (n_samples,), for example using ravel().\n",
            "  return self._fit(X, y)\n",
            "/usr/local/lib/python3.7/dist-packages/sklearn/neighbors/_classification.py:198: DataConversionWarning: A column-vector y was passed when a 1d array was expected. Please change the shape of y to (n_samples,), for example using ravel().\n",
            "  return self._fit(X, y)\n",
            "/usr/local/lib/python3.7/dist-packages/sklearn/neighbors/_classification.py:198: DataConversionWarning: A column-vector y was passed when a 1d array was expected. Please change the shape of y to (n_samples,), for example using ravel().\n",
            "  return self._fit(X, y)\n",
            "/usr/local/lib/python3.7/dist-packages/sklearn/neighbors/_classification.py:198: DataConversionWarning: A column-vector y was passed when a 1d array was expected. Please change the shape of y to (n_samples,), for example using ravel().\n",
            "  return self._fit(X, y)\n",
            "/usr/local/lib/python3.7/dist-packages/sklearn/neighbors/_classification.py:198: DataConversionWarning: A column-vector y was passed when a 1d array was expected. Please change the shape of y to (n_samples,), for example using ravel().\n",
            "  return self._fit(X, y)\n",
            "/usr/local/lib/python3.7/dist-packages/sklearn/neighbors/_classification.py:198: DataConversionWarning: A column-vector y was passed when a 1d array was expected. Please change the shape of y to (n_samples,), for example using ravel().\n",
            "  return self._fit(X, y)\n",
            "/usr/local/lib/python3.7/dist-packages/sklearn/neighbors/_classification.py:198: DataConversionWarning: A column-vector y was passed when a 1d array was expected. Please change the shape of y to (n_samples,), for example using ravel().\n",
            "  return self._fit(X, y)\n",
            "/usr/local/lib/python3.7/dist-packages/sklearn/neighbors/_classification.py:198: DataConversionWarning: A column-vector y was passed when a 1d array was expected. Please change the shape of y to (n_samples,), for example using ravel().\n",
            "  return self._fit(X, y)\n",
            "/usr/local/lib/python3.7/dist-packages/sklearn/neighbors/_classification.py:198: DataConversionWarning: A column-vector y was passed when a 1d array was expected. Please change the shape of y to (n_samples,), for example using ravel().\n",
            "  return self._fit(X, y)\n",
            "/usr/local/lib/python3.7/dist-packages/sklearn/neighbors/_classification.py:198: DataConversionWarning: A column-vector y was passed when a 1d array was expected. Please change the shape of y to (n_samples,), for example using ravel().\n",
            "  return self._fit(X, y)\n",
            "/usr/local/lib/python3.7/dist-packages/sklearn/neighbors/_classification.py:198: DataConversionWarning: A column-vector y was passed when a 1d array was expected. Please change the shape of y to (n_samples,), for example using ravel().\n",
            "  return self._fit(X, y)\n",
            "/usr/local/lib/python3.7/dist-packages/sklearn/neighbors/_classification.py:198: DataConversionWarning: A column-vector y was passed when a 1d array was expected. Please change the shape of y to (n_samples,), for example using ravel().\n",
            "  return self._fit(X, y)\n",
            "/usr/local/lib/python3.7/dist-packages/sklearn/neighbors/_classification.py:198: DataConversionWarning: A column-vector y was passed when a 1d array was expected. Please change the shape of y to (n_samples,), for example using ravel().\n",
            "  return self._fit(X, y)\n",
            "/usr/local/lib/python3.7/dist-packages/sklearn/neighbors/_classification.py:198: DataConversionWarning: A column-vector y was passed when a 1d array was expected. Please change the shape of y to (n_samples,), for example using ravel().\n",
            "  return self._fit(X, y)\n",
            "/usr/local/lib/python3.7/dist-packages/sklearn/neighbors/_classification.py:198: DataConversionWarning: A column-vector y was passed when a 1d array was expected. Please change the shape of y to (n_samples,), for example using ravel().\n",
            "  return self._fit(X, y)\n",
            "/usr/local/lib/python3.7/dist-packages/sklearn/neighbors/_classification.py:198: DataConversionWarning: A column-vector y was passed when a 1d array was expected. Please change the shape of y to (n_samples,), for example using ravel().\n",
            "  return self._fit(X, y)\n",
            "/usr/local/lib/python3.7/dist-packages/sklearn/neighbors/_classification.py:198: DataConversionWarning: A column-vector y was passed when a 1d array was expected. Please change the shape of y to (n_samples,), for example using ravel().\n",
            "  return self._fit(X, y)\n",
            "/usr/local/lib/python3.7/dist-packages/sklearn/neighbors/_classification.py:198: DataConversionWarning: A column-vector y was passed when a 1d array was expected. Please change the shape of y to (n_samples,), for example using ravel().\n",
            "  return self._fit(X, y)\n",
            "/usr/local/lib/python3.7/dist-packages/sklearn/neighbors/_classification.py:198: DataConversionWarning: A column-vector y was passed when a 1d array was expected. Please change the shape of y to (n_samples,), for example using ravel().\n",
            "  return self._fit(X, y)\n",
            "/usr/local/lib/python3.7/dist-packages/sklearn/neighbors/_classification.py:198: DataConversionWarning: A column-vector y was passed when a 1d array was expected. Please change the shape of y to (n_samples,), for example using ravel().\n",
            "  return self._fit(X, y)\n",
            "/usr/local/lib/python3.7/dist-packages/sklearn/neighbors/_classification.py:198: DataConversionWarning: A column-vector y was passed when a 1d array was expected. Please change the shape of y to (n_samples,), for example using ravel().\n",
            "  return self._fit(X, y)\n",
            "/usr/local/lib/python3.7/dist-packages/sklearn/neighbors/_classification.py:198: DataConversionWarning: A column-vector y was passed when a 1d array was expected. Please change the shape of y to (n_samples,), for example using ravel().\n",
            "  return self._fit(X, y)\n",
            "/usr/local/lib/python3.7/dist-packages/sklearn/neighbors/_classification.py:198: DataConversionWarning: A column-vector y was passed when a 1d array was expected. Please change the shape of y to (n_samples,), for example using ravel().\n",
            "  return self._fit(X, y)\n",
            "/usr/local/lib/python3.7/dist-packages/sklearn/neighbors/_classification.py:198: DataConversionWarning: A column-vector y was passed when a 1d array was expected. Please change the shape of y to (n_samples,), for example using ravel().\n",
            "  return self._fit(X, y)\n",
            "/usr/local/lib/python3.7/dist-packages/sklearn/neighbors/_classification.py:198: DataConversionWarning: A column-vector y was passed when a 1d array was expected. Please change the shape of y to (n_samples,), for example using ravel().\n",
            "  return self._fit(X, y)\n",
            "/usr/local/lib/python3.7/dist-packages/sklearn/neighbors/_classification.py:198: DataConversionWarning: A column-vector y was passed when a 1d array was expected. Please change the shape of y to (n_samples,), for example using ravel().\n",
            "  return self._fit(X, y)\n",
            "/usr/local/lib/python3.7/dist-packages/sklearn/neighbors/_classification.py:198: DataConversionWarning: A column-vector y was passed when a 1d array was expected. Please change the shape of y to (n_samples,), for example using ravel().\n",
            "  return self._fit(X, y)\n",
            "/usr/local/lib/python3.7/dist-packages/sklearn/neighbors/_classification.py:198: DataConversionWarning: A column-vector y was passed when a 1d array was expected. Please change the shape of y to (n_samples,), for example using ravel().\n",
            "  return self._fit(X, y)\n",
            "/usr/local/lib/python3.7/dist-packages/sklearn/neighbors/_classification.py:198: DataConversionWarning: A column-vector y was passed when a 1d array was expected. Please change the shape of y to (n_samples,), for example using ravel().\n",
            "  return self._fit(X, y)\n",
            "/usr/local/lib/python3.7/dist-packages/sklearn/neighbors/_classification.py:198: DataConversionWarning: A column-vector y was passed when a 1d array was expected. Please change the shape of y to (n_samples,), for example using ravel().\n",
            "  return self._fit(X, y)\n",
            "/usr/local/lib/python3.7/dist-packages/sklearn/neighbors/_classification.py:198: DataConversionWarning: A column-vector y was passed when a 1d array was expected. Please change the shape of y to (n_samples,), for example using ravel().\n",
            "  return self._fit(X, y)\n",
            "/usr/local/lib/python3.7/dist-packages/sklearn/neighbors/_classification.py:198: DataConversionWarning: A column-vector y was passed when a 1d array was expected. Please change the shape of y to (n_samples,), for example using ravel().\n",
            "  return self._fit(X, y)\n",
            "/usr/local/lib/python3.7/dist-packages/sklearn/neighbors/_classification.py:198: DataConversionWarning: A column-vector y was passed when a 1d array was expected. Please change the shape of y to (n_samples,), for example using ravel().\n",
            "  return self._fit(X, y)\n",
            "/usr/local/lib/python3.7/dist-packages/sklearn/neighbors/_classification.py:198: DataConversionWarning: A column-vector y was passed when a 1d array was expected. Please change the shape of y to (n_samples,), for example using ravel().\n",
            "  return self._fit(X, y)\n",
            "/usr/local/lib/python3.7/dist-packages/sklearn/neighbors/_classification.py:198: DataConversionWarning: A column-vector y was passed when a 1d array was expected. Please change the shape of y to (n_samples,), for example using ravel().\n",
            "  return self._fit(X, y)\n",
            "/usr/local/lib/python3.7/dist-packages/sklearn/neighbors/_classification.py:198: DataConversionWarning: A column-vector y was passed when a 1d array was expected. Please change the shape of y to (n_samples,), for example using ravel().\n",
            "  return self._fit(X, y)\n",
            "/usr/local/lib/python3.7/dist-packages/sklearn/neighbors/_classification.py:198: DataConversionWarning: A column-vector y was passed when a 1d array was expected. Please change the shape of y to (n_samples,), for example using ravel().\n",
            "  return self._fit(X, y)\n",
            "/usr/local/lib/python3.7/dist-packages/sklearn/neighbors/_classification.py:198: DataConversionWarning: A column-vector y was passed when a 1d array was expected. Please change the shape of y to (n_samples,), for example using ravel().\n",
            "  return self._fit(X, y)\n",
            "/usr/local/lib/python3.7/dist-packages/sklearn/neighbors/_classification.py:198: DataConversionWarning: A column-vector y was passed when a 1d array was expected. Please change the shape of y to (n_samples,), for example using ravel().\n",
            "  return self._fit(X, y)\n",
            "/usr/local/lib/python3.7/dist-packages/sklearn/neighbors/_classification.py:198: DataConversionWarning: A column-vector y was passed when a 1d array was expected. Please change the shape of y to (n_samples,), for example using ravel().\n",
            "  return self._fit(X, y)\n",
            "/usr/local/lib/python3.7/dist-packages/sklearn/neighbors/_classification.py:198: DataConversionWarning: A column-vector y was passed when a 1d array was expected. Please change the shape of y to (n_samples,), for example using ravel().\n",
            "  return self._fit(X, y)\n",
            "/usr/local/lib/python3.7/dist-packages/sklearn/neighbors/_classification.py:198: DataConversionWarning: A column-vector y was passed when a 1d array was expected. Please change the shape of y to (n_samples,), for example using ravel().\n",
            "  return self._fit(X, y)\n",
            "/usr/local/lib/python3.7/dist-packages/sklearn/neighbors/_classification.py:198: DataConversionWarning: A column-vector y was passed when a 1d array was expected. Please change the shape of y to (n_samples,), for example using ravel().\n",
            "  return self._fit(X, y)\n",
            "/usr/local/lib/python3.7/dist-packages/sklearn/neighbors/_classification.py:198: DataConversionWarning: A column-vector y was passed when a 1d array was expected. Please change the shape of y to (n_samples,), for example using ravel().\n",
            "  return self._fit(X, y)\n",
            "/usr/local/lib/python3.7/dist-packages/sklearn/neighbors/_classification.py:198: DataConversionWarning: A column-vector y was passed when a 1d array was expected. Please change the shape of y to (n_samples,), for example using ravel().\n",
            "  return self._fit(X, y)\n",
            "/usr/local/lib/python3.7/dist-packages/sklearn/neighbors/_classification.py:198: DataConversionWarning: A column-vector y was passed when a 1d array was expected. Please change the shape of y to (n_samples,), for example using ravel().\n",
            "  return self._fit(X, y)\n",
            "/usr/local/lib/python3.7/dist-packages/sklearn/neighbors/_classification.py:198: DataConversionWarning: A column-vector y was passed when a 1d array was expected. Please change the shape of y to (n_samples,), for example using ravel().\n",
            "  return self._fit(X, y)\n",
            "/usr/local/lib/python3.7/dist-packages/sklearn/neighbors/_classification.py:198: DataConversionWarning: A column-vector y was passed when a 1d array was expected. Please change the shape of y to (n_samples,), for example using ravel().\n",
            "  return self._fit(X, y)\n"
          ]
        },
        {
          "data": {
            "image/png": "[encoded data removed]",
            "text/plain": [
              "<Figure size 432x288 with 1 Axes>"
            ]
          },
          "metadata": {},
          "output_type": "display_data"
        },
        {
          "name": "stdout",
          "output_type": "stream",
          "text": [
            "29\n"
          ]
        }
      ],
      "source": [
        "from sklearn.neighbors import KNeighborsClassifier\n",
        "from sklearn.model_selection import train_test_split\n",
        "from sklearn.model_selection import cross_val_score\n",
        "k_range = range(1,30)\n",
        "k_scores = []\n",
        "max=0\n",
        "max_number=0\n",
        "for k_number in k_range:\n",
        "    knn = KNeighborsClassifier(n_neighbors=k_number)\n",
        "    scores = cross_val_score(knn,Xdata,Ydata,cv=5,scoring='accuracy')\n",
        "    k_scores.append(scores.mean())\n",
        "    if(scores.mean()>max):\n",
        "      max_number=k_number\n",
        "      max=scores.mean()\n",
        "plt.plot(k_range,k_scores)\n",
        "plt.xlabel('Value of K for KNN')\n",
        "plt.ylabel('Cross-Validated Accuracy')\n",
        "plt.show()\n",
        "print(max_number)"
      ]
    },
    {
      "cell_type": "code",
      "execution_count": null,
      "metadata": {
        "colab": {
          "base_uri": "https://localhost:8080/"
        },
        "id": "tvxqE2Vkqivn",
        "outputId": "fbc1676e-beb6-4df2-9f76-7bab78eb8c39"
      },
      "outputs": [
        {
          "name": "stderr",
          "output_type": "stream",
          "text": [
            "/usr/local/lib/python3.7/dist-packages/sklearn/neighbors/_classification.py:198: DataConversionWarning: A column-vector y was passed when a 1d array was expected. Please change the shape of y to (n_samples,), for example using ravel().\n",
            "  return self._fit(X, y)\n"
          ]
        },
        {
          "name": "stdout",
          "output_type": "stream",
          "text": [
            "[['0']\n",
            " ['0']\n",
            " ['0']\n",
            " ...\n",
            " ['0']\n",
            " ['0']\n",
            " ['0']] ['0' '0' '0' ... '0' '0' '0']\n",
            "  Train  accuracy   test  precision  recall  fscore\n",
            "0  KNN1     100.0  100.0      100.0   100.0   100.0\n"
          ]
        },
        {
          "name": "stderr",
          "output_type": "stream",
          "text": [
            "/usr/local/lib/python3.7/dist-packages/sklearn/neighbors/_classification.py:198: DataConversionWarning: A column-vector y was passed when a 1d array was expected. Please change the shape of y to (n_samples,), for example using ravel().\n",
            "  return self._fit(X, y)\n"
          ]
        },
        {
          "name": "stdout",
          "output_type": "stream",
          "text": [
            "[['0']\n",
            " ['0']\n",
            " ['0']\n",
            " ...\n",
            " ['0']\n",
            " ['0']\n",
            " ['0']] ['0' '0' '0' ... '0' '0' '0']\n",
            "  Train  accuracy   test  precision  recall  fscore\n",
            "0  KNN2     100.0  100.0      100.0   100.0   100.0\n"
          ]
        },
        {
          "name": "stderr",
          "output_type": "stream",
          "text": [
            "/usr/local/lib/python3.7/dist-packages/sklearn/neighbors/_classification.py:198: DataConversionWarning: A column-vector y was passed when a 1d array was expected. Please change the shape of y to (n_samples,), for example using ravel().\n",
            "  return self._fit(X, y)\n"
          ]
        },
        {
          "name": "stdout",
          "output_type": "stream",
          "text": [
            "[['0']\n",
            " ['0']\n",
            " ['0']\n",
            " ...\n",
            " ['0']\n",
            " ['0']\n",
            " ['0']] ['0' '0' '0' ... '0' '0' '0']\n",
            "  Train  accuracy   test  precision  recall  fscore\n",
            "0  KNN3     100.0  100.0      100.0   100.0   100.0\n"
          ]
        },
        {
          "name": "stderr",
          "output_type": "stream",
          "text": [
            "/usr/local/lib/python3.7/dist-packages/sklearn/neighbors/_classification.py:198: DataConversionWarning: A column-vector y was passed when a 1d array was expected. Please change the shape of y to (n_samples,), for example using ravel().\n",
            "  return self._fit(X, y)\n"
          ]
        },
        {
          "name": "stdout",
          "output_type": "stream",
          "text": [
            "[['0']\n",
            " ['0']\n",
            " ['0']\n",
            " ...\n",
            " ['0']\n",
            " ['0']\n",
            " ['0']] ['0' '0' '0' ... '0' '0' '0']\n",
            "  Train  accuracy   test  precision  recall  fscore\n",
            "0  KNN4     100.0  100.0      100.0   100.0   100.0\n"
          ]
        },
        {
          "name": "stderr",
          "output_type": "stream",
          "text": [
            "/usr/local/lib/python3.7/dist-packages/sklearn/neighbors/_classification.py:198: DataConversionWarning: A column-vector y was passed when a 1d array was expected. Please change the shape of y to (n_samples,), for example using ravel().\n",
            "  return self._fit(X, y)\n"
          ]
        },
        {
          "name": "stdout",
          "output_type": "stream",
          "text": [
            "[['0']\n",
            " ['0']\n",
            " ['0']\n",
            " ...\n",
            " ['0']\n",
            " ['0']\n",
            " ['0']] ['0' '0' '0' ... '0' '0' '0']\n",
            "  Train  accuracy   test  precision  recall  fscore\n",
            "0  KNN5     100.0  100.0      100.0   100.0   100.0\n"
          ]
        },
        {
          "name": "stderr",
          "output_type": "stream",
          "text": [
            "/usr/local/lib/python3.7/dist-packages/sklearn/neighbors/_classification.py:198: DataConversionWarning: A column-vector y was passed when a 1d array was expected. Please change the shape of y to (n_samples,), for example using ravel().\n",
            "  return self._fit(X, y)\n"
          ]
        },
        {
          "name": "stdout",
          "output_type": "stream",
          "text": [
            "[['0']\n",
            " ['0']\n",
            " ['0']\n",
            " ...\n",
            " ['0']\n",
            " ['0']\n",
            " ['0']] ['0' '0' '0' ... '0' '0' '0']\n",
            "  Train  accuracy   test  precision  recall  fscore\n",
            "0  KNN6     100.0  100.0      100.0   100.0   100.0\n"
          ]
        },
        {
          "name": "stderr",
          "output_type": "stream",
          "text": [
            "/usr/local/lib/python3.7/dist-packages/sklearn/neighbors/_classification.py:198: DataConversionWarning: A column-vector y was passed when a 1d array was expected. Please change the shape of y to (n_samples,), for example using ravel().\n",
            "  return self._fit(X, y)\n"
          ]
        },
        {
          "name": "stdout",
          "output_type": "stream",
          "text": [
            "[['0']\n",
            " ['0']\n",
            " ['0']\n",
            " ...\n",
            " ['0']\n",
            " ['0']\n",
            " ['0']] ['0' '0' '0' ... '0' '0' '0']\n",
            "  Train  accuracy   test  precision  recall  fscore\n",
            "0  KNN7     100.0  100.0      100.0   100.0   100.0\n"
          ]
        },
        {
          "name": "stderr",
          "output_type": "stream",
          "text": [
            "/usr/local/lib/python3.7/dist-packages/sklearn/neighbors/_classification.py:198: DataConversionWarning: A column-vector y was passed when a 1d array was expected. Please change the shape of y to (n_samples,), for example using ravel().\n",
            "  return self._fit(X, y)\n"
          ]
        },
        {
          "name": "stdout",
          "output_type": "stream",
          "text": [
            "[['0']\n",
            " ['0']\n",
            " ['0']\n",
            " ...\n",
            " ['0']\n",
            " ['0']\n",
            " ['0']] ['0' '0' '0' ... '0' '0' '0']\n",
            "  Train  accuracy   test  precision  recall  fscore\n",
            "0  KNN8     100.0  100.0      100.0   100.0   100.0\n"
          ]
        },
        {
          "name": "stderr",
          "output_type": "stream",
          "text": [
            "/usr/local/lib/python3.7/dist-packages/sklearn/neighbors/_classification.py:198: DataConversionWarning: A column-vector y was passed when a 1d array was expected. Please change the shape of y to (n_samples,), for example using ravel().\n",
            "  return self._fit(X, y)\n"
          ]
        },
        {
          "name": "stdout",
          "output_type": "stream",
          "text": [
            "[['0']\n",
            " ['0']\n",
            " ['0']\n",
            " ...\n",
            " ['0']\n",
            " ['0']\n",
            " ['0']] ['0' '0' '0' ... '0' '0' '0']\n",
            "  Train  accuracy   test  precision  recall  fscore\n",
            "0  KNN9     100.0  100.0      100.0   100.0   100.0\n"
          ]
        },
        {
          "name": "stderr",
          "output_type": "stream",
          "text": [
            "/usr/local/lib/python3.7/dist-packages/sklearn/neighbors/_classification.py:198: DataConversionWarning: A column-vector y was passed when a 1d array was expected. Please change the shape of y to (n_samples,), for example using ravel().\n",
            "  return self._fit(X, y)\n"
          ]
        },
        {
          "name": "stdout",
          "output_type": "stream",
          "text": [
            "[['0']\n",
            " ['0']\n",
            " ['0']\n",
            " ...\n",
            " ['0']\n",
            " ['0']\n",
            " ['0']] ['0' '0' '0' ... '0' '0' '0']\n",
            "   Train  accuracy   test  precision  recall  fscore\n",
            "0  KNN10     100.0  100.0      100.0   100.0   100.0\n"
          ]
        },
        {
          "name": "stderr",
          "output_type": "stream",
          "text": [
            "/usr/local/lib/python3.7/dist-packages/sklearn/neighbors/_classification.py:198: DataConversionWarning: A column-vector y was passed when a 1d array was expected. Please change the shape of y to (n_samples,), for example using ravel().\n",
            "  return self._fit(X, y)\n"
          ]
        },
        {
          "name": "stdout",
          "output_type": "stream",
          "text": [
            "[['0']\n",
            " ['0']\n",
            " ['0']\n",
            " ...\n",
            " ['0']\n",
            " ['0']\n",
            " ['0']] ['0' '0' '0' ... '0' '0' '0']\n",
            "   Train  accuracy   test  precision  recall  fscore\n",
            "0  KNN11     100.0  100.0      100.0   100.0   100.0\n"
          ]
        },
        {
          "name": "stderr",
          "output_type": "stream",
          "text": [
            "/usr/local/lib/python3.7/dist-packages/sklearn/neighbors/_classification.py:198: DataConversionWarning: A column-vector y was passed when a 1d array was expected. Please change the shape of y to (n_samples,), for example using ravel().\n",
            "  return self._fit(X, y)\n"
          ]
        },
        {
          "name": "stdout",
          "output_type": "stream",
          "text": [
            "[['0']\n",
            " ['0']\n",
            " ['0']\n",
            " ...\n",
            " ['0']\n",
            " ['0']\n",
            " ['0']] ['0' '0' '0' ... '0' '0' '0']\n",
            "   Train  accuracy   test  precision  recall  fscore\n",
            "0  KNN12     100.0  100.0      100.0   100.0   100.0\n"
          ]
        },
        {
          "name": "stderr",
          "output_type": "stream",
          "text": [
            "/usr/local/lib/python3.7/dist-packages/sklearn/neighbors/_classification.py:198: DataConversionWarning: A column-vector y was passed when a 1d array was expected. Please change the shape of y to (n_samples,), for example using ravel().\n",
            "  return self._fit(X, y)\n"
          ]
        },
        {
          "name": "stdout",
          "output_type": "stream",
          "text": [
            "[['0']\n",
            " ['0']\n",
            " ['0']\n",
            " ...\n",
            " ['0']\n",
            " ['0']\n",
            " ['0']] ['0' '0' '0' ... '0' '0' '0']\n",
            "   Train  accuracy   test  precision  recall  fscore\n",
            "0  KNN13     100.0  100.0      100.0   100.0   100.0\n"
          ]
        },
        {
          "name": "stderr",
          "output_type": "stream",
          "text": [
            "/usr/local/lib/python3.7/dist-packages/sklearn/neighbors/_classification.py:198: DataConversionWarning: A column-vector y was passed when a 1d array was expected. Please change the shape of y to (n_samples,), for example using ravel().\n",
            "  return self._fit(X, y)\n"
          ]
        },
        {
          "name": "stdout",
          "output_type": "stream",
          "text": [
            "[['0']\n",
            " ['0']\n",
            " ['0']\n",
            " ...\n",
            " ['0']\n",
            " ['0']\n",
            " ['0']] ['0' '0' '0' ... '0' '0' '0']\n",
            "   Train  accuracy   test  precision  recall  fscore\n",
            "0  KNN14     100.0  100.0      100.0   100.0   100.0\n"
          ]
        },
        {
          "name": "stderr",
          "output_type": "stream",
          "text": [
            "/usr/local/lib/python3.7/dist-packages/sklearn/neighbors/_classification.py:198: DataConversionWarning: A column-vector y was passed when a 1d array was expected. Please change the shape of y to (n_samples,), for example using ravel().\n",
            "  return self._fit(X, y)\n"
          ]
        },
        {
          "name": "stdout",
          "output_type": "stream",
          "text": [
            "[['0']\n",
            " ['0']\n",
            " ['0']\n",
            " ...\n",
            " ['0']\n",
            " ['0']\n",
            " ['0']] ['0' '0' '0' ... '0' '0' '0']\n",
            "   Train  accuracy   test  precision  recall  fscore\n",
            "0  KNN15     100.0  100.0      100.0   100.0   100.0\n"
          ]
        },
        {
          "name": "stderr",
          "output_type": "stream",
          "text": [
            "/usr/local/lib/python3.7/dist-packages/sklearn/neighbors/_classification.py:198: DataConversionWarning: A column-vector y was passed when a 1d array was expected. Please change the shape of y to (n_samples,), for example using ravel().\n",
            "  return self._fit(X, y)\n"
          ]
        },
        {
          "name": "stdout",
          "output_type": "stream",
          "text": [
            "[['0']\n",
            " ['0']\n",
            " ['0']\n",
            " ...\n",
            " ['0']\n",
            " ['0']\n",
            " ['0']] ['0' '0' '0' ... '0' '0' '0']\n",
            "   Train  accuracy   test  precision  recall  fscore\n",
            "0  KNN16     100.0  100.0      100.0   100.0   100.0\n"
          ]
        },
        {
          "name": "stderr",
          "output_type": "stream",
          "text": [
            "/usr/local/lib/python3.7/dist-packages/sklearn/neighbors/_classification.py:198: DataConversionWarning: A column-vector y was passed when a 1d array was expected. Please change the shape of y to (n_samples,), for example using ravel().\n",
            "  return self._fit(X, y)\n"
          ]
        },
        {
          "name": "stdout",
          "output_type": "stream",
          "text": [
            "[['0']\n",
            " ['0']\n",
            " ['0']\n",
            " ...\n",
            " ['0']\n",
            " ['0']\n",
            " ['0']] ['0' '0' '0' ... '0' '0' '0']\n",
            "   Train  accuracy   test  precision  recall  fscore\n",
            "0  KNN17     100.0  100.0      100.0   100.0   100.0\n"
          ]
        },
        {
          "name": "stderr",
          "output_type": "stream",
          "text": [
            "/usr/local/lib/python3.7/dist-packages/sklearn/neighbors/_classification.py:198: DataConversionWarning: A column-vector y was passed when a 1d array was expected. Please change the shape of y to (n_samples,), for example using ravel().\n",
            "  return self._fit(X, y)\n"
          ]
        },
        {
          "name": "stdout",
          "output_type": "stream",
          "text": [
            "[['0']\n",
            " ['0']\n",
            " ['0']\n",
            " ...\n",
            " ['0']\n",
            " ['0']\n",
            " ['0']] ['0' '0' '0' ... '0' '0' '0']\n",
            "   Train  accuracy   test  precision  recall  fscore\n",
            "0  KNN18     100.0  100.0      100.0   100.0   100.0\n"
          ]
        },
        {
          "name": "stderr",
          "output_type": "stream",
          "text": [
            "/usr/local/lib/python3.7/dist-packages/sklearn/neighbors/_classification.py:198: DataConversionWarning: A column-vector y was passed when a 1d array was expected. Please change the shape of y to (n_samples,), for example using ravel().\n",
            "  return self._fit(X, y)\n"
          ]
        },
        {
          "name": "stdout",
          "output_type": "stream",
          "text": [
            "[['0']\n",
            " ['0']\n",
            " ['0']\n",
            " ...\n",
            " ['0']\n",
            " ['0']\n",
            " ['0']] ['0' '0' '0' ... '0' '0' '0']\n",
            "   Train  accuracy   test  precision  recall  fscore\n",
            "0  KNN19     100.0  100.0      100.0   100.0   100.0\n"
          ]
        }
      ],
      "source": [
        "'''from sklearn.neighbors import KNeighborsClassifier\n",
        "from sklearn.model_selection import train_test_split\n",
        "for i in range(1,20):\n",
        "  knn = KNeighborsClassifier(n_neighbors = i)\n",
        "  knn.fit(X_train, y_train)\n",
        "  Y_pred_knn = knn.predict(X_test)\n",
        "  acc_knn = knn.score(X_train, y_train)\n",
        "  acc_knn_test = knn.score(X_test, y_test)\n",
        "  output('KNN'+str(i),Y_pred_knn,acc_knn,acc_knn_test)'''"
      ]
    },
    {
      "cell_type": "markdown",
      "metadata": {
        "id": "snMo21TvhxLt"
      },
      "source": [
        "#### GaussianNB"
      ]
    },
    {
      "cell_type": "code",
      "execution_count": null,
      "metadata": {
        "colab": {
          "base_uri": "https://localhost:8080/"
        },
        "id": "h4LcHFgnh5Le",
        "outputId": "90b7bd1a-b954-4e05-a8a4-91d95b384f6a"
      },
      "outputs": [
        {
          "name": "stdout",
          "output_type": "stream",
          "text": [
            "        Train  accuracy   test  precision  recall  fscore\n",
            "0  GaussianNB      84.2  77.31      67.46   72.51   68.93\n"
          ]
        },
        {
          "name": "stderr",
          "output_type": "stream",
          "text": [
            "/usr/local/lib/python3.7/dist-packages/sklearn/utils/validation.py:993: DataConversionWarning: A column-vector y was passed when a 1d array was expected. Please change the shape of y to (n_samples, ), for example using ravel().\n",
            "  y = column_or_1d(y, warn=True)\n"
          ]
        }
      ],
      "source": [
        "from sklearn import naive_bayes\n",
        "GNB=naive_bayes.GaussianNB()\n",
        "GNB.fit(X_train,y_train)\n",
        "Y_pred_GNB=GNB.predict(X_test)\n",
        "GNB_train_score=GNB.score(X_train, y_train)\n",
        "GNB_test_score=GNB.score(X_test, y_test)\n",
        "output(\"GaussianNB\",Y_pred_GNB,GNB_train_score,GNB_test_score)"
      ]
    },
    {
      "cell_type": "markdown",
      "metadata": {
        "id": "OV-pCHmWh5c-"
      },
      "source": [
        "#### Perceptron"
      ]
    },
    {
      "cell_type": "code",
      "execution_count": null,
      "metadata": {
        "colab": {
          "base_uri": "https://localhost:8080/"
        },
        "id": "azqKlg2Lh7tn",
        "outputId": "1c53cb7b-fcd4-4676-c2c6-460b87d28c8c"
      },
      "outputs": [
        {
          "name": "stderr",
          "output_type": "stream",
          "text": [
            "/usr/local/lib/python3.7/dist-packages/sklearn/utils/validation.py:993: DataConversionWarning: A column-vector y was passed when a 1d array was expected. Please change the shape of y to (n_samples, ), for example using ravel().\n",
            "  y = column_or_1d(y, warn=True)\n"
          ]
        },
        {
          "name": "stdout",
          "output_type": "stream",
          "text": [
            "        Train  accuracy  test  precision  recall  fscore\n",
            "0  Perceptron     86.36  82.7      72.71   73.72   73.19\n"
          ]
        }
      ],
      "source": [
        "from sklearn.linear_model import Perceptron\n",
        "Per = Perceptron()\n",
        "Per.fit(X_train,y_train)\n",
        "Y_pred_Per=Per.predict(X_test)\n",
        "Per_train_score=Per.score(X_train, y_train)\n",
        "Per_test_score=Per.score(X_test, y_test)\n",
        "output(\"Perceptron\",Y_pred_Per,Per_train_score,Per_test_score)"
      ]
    },
    {
      "cell_type": "markdown",
      "metadata": {
        "id": "pKKp9wwsh74-"
      },
      "source": [
        "#### Stochastic Gradient Decent"
      ]
    },
    {
      "cell_type": "code",
      "execution_count": null,
      "metadata": {
        "colab": {
          "base_uri": "https://localhost:8080/"
        },
        "id": "h0h-xhCLh_km",
        "outputId": "3b5d01bd-3173-4a90-9884-65212961f6e3"
      },
      "outputs": [
        {
          "name": "stderr",
          "output_type": "stream",
          "text": [
            "/usr/local/lib/python3.7/dist-packages/sklearn/utils/validation.py:993: DataConversionWarning: A column-vector y was passed when a 1d array was expected. Please change the shape of y to (n_samples, ), for example using ravel().\n",
            "  y = column_or_1d(y, warn=True)\n"
          ]
        },
        {
          "name": "stdout",
          "output_type": "stream",
          "text": [
            "                        Train  accuracy   test  precision  recall  fscore\n",
            "0  Stochastic Gradient Decent     87.02  83.15      73.32   73.67   73.49\n"
          ]
        }
      ],
      "source": [
        "from sklearn.linear_model import SGDClassifier\n",
        "SGD = SGDClassifier()\n",
        "SGD.fit(X_train,y_train)\n",
        "Y_pred_SGD=SGD.predict(X_test)\n",
        "SGD_train_score=SGD.score(X_train, y_train)\n",
        "SGD_test_score=SGD.score(X_test, y_test)\n",
        "output(\"Stochastic Gradient Decent\",Y_pred_SGD,SGD_train_score,SGD_test_score)"
      ]
    },
    {
      "cell_type": "markdown",
      "metadata": {
        "id": "61PrMsIxh_u3"
      },
      "source": [
        "#### Linear SVC"
      ]
    },
    {
      "cell_type": "code",
      "execution_count": null,
      "metadata": {
        "colab": {
          "base_uri": "https://localhost:8080/"
        },
        "id": "yrGonykMiEZ_",
        "outputId": "29c34208-371f-4513-a258-5dfa89372fda"
      },
      "outputs": [
        {
          "name": "stderr",
          "output_type": "stream",
          "text": [
            "/usr/local/lib/python3.7/dist-packages/sklearn/utils/validation.py:993: DataConversionWarning: A column-vector y was passed when a 1d array was expected. Please change the shape of y to (n_samples, ), for example using ravel().\n",
            "  y = column_or_1d(y, warn=True)\n",
            "/usr/local/lib/python3.7/dist-packages/sklearn/svm/_base.py:1208: ConvergenceWarning: Liblinear failed to converge, increase the number of iterations.\n",
            "  ConvergenceWarning,\n"
          ]
        },
        {
          "name": "stdout",
          "output_type": "stream",
          "text": [
            "        Train  accuracy  test  precision  recall  fscore\n",
            "0  Linear SVC      86.6  84.5      81.03   63.94   67.14\n"
          ]
        }
      ],
      "source": [
        "from sklearn import svm\n",
        "Lsvc = svm.LinearSVC(C=10,random_state=10)\n",
        "Lsvc.fit(X_train,y_train)\n",
        "Y_pred_Lsvc=Lsvc.predict(X_test)\n",
        "Lsvc_train_score=Lsvc.score(X_train, y_train)\n",
        "Lsvc_test_score=Lsvc.score(X_test, y_test)\n",
        "output(\"Linear SVC\",Y_pred_Lsvc,Lsvc_train_score,Lsvc_test_score)"
      ]
    },
    {
      "cell_type": "markdown",
      "metadata": {
        "id": "M1xz4oaIicpJ"
      },
      "source": [
        "#### BernoulliNB"
      ]
    },
    {
      "cell_type": "code",
      "execution_count": null,
      "metadata": {
        "colab": {
          "base_uri": "https://localhost:8080/"
        },
        "id": "fy3M_0BJifId",
        "outputId": "9ead0837-c199-417e-f45c-512d496bccb8"
      },
      "outputs": [
        {
          "name": "stderr",
          "output_type": "stream",
          "text": [
            "/usr/local/lib/python3.7/dist-packages/sklearn/utils/validation.py:993: DataConversionWarning: A column-vector y was passed when a 1d array was expected. Please change the shape of y to (n_samples, ), for example using ravel().\n",
            "  y = column_or_1d(y, warn=True)\n"
          ]
        },
        {
          "name": "stdout",
          "output_type": "stream",
          "text": [
            "         Train  accuracy   test  precision  recall  fscore\n",
            "0  BernoulliNB     78.93  75.47      62.19   63.14   62.61\n"
          ]
        }
      ],
      "source": [
        "from sklearn.naive_bayes import BernoulliNB\n",
        "Bnb= BernoulliNB()\n",
        "Bnb.fit(X_train,y_train)\n",
        "Y_pred_Bnb=Bnb.predict(X_test)\n",
        "Bnb_train_score=Bnb.score(X_train, y_train)\n",
        "Bnb_test_score=Bnb.score(X_test, y_test)\n",
        "output(\"BernoulliNB\",Y_pred_Bnb,Bnb_train_score,Bnb_test_score)"
      ]
    },
    {
      "cell_type": "markdown",
      "metadata": {
        "id": "HNOqhcQJWhR5"
      },
      "source": [
        "#### Logistic Regression"
      ]
    },
    {
      "cell_type": "code",
      "execution_count": null,
      "metadata": {
        "colab": {
          "base_uri": "https://localhost:8080/"
        },
        "id": "j49UZgRtWIb-",
        "outputId": "74cbe5c8-b306-4cd5-deff-93c22707962d"
      },
      "outputs": [
        {
          "name": "stderr",
          "output_type": "stream",
          "text": [
            "/usr/local/lib/python3.7/dist-packages/sklearn/utils/validation.py:993: DataConversionWarning: A column-vector y was passed when a 1d array was expected. Please change the shape of y to (n_samples, ), for example using ravel().\n",
            "  y = column_or_1d(y, warn=True)\n",
            "/usr/local/lib/python3.7/dist-packages/sklearn/linear_model/_logistic.py:818: ConvergenceWarning: lbfgs failed to converge (status=1):\n",
            "STOP: TOTAL NO. of ITERATIONS REACHED LIMIT.\n",
            "\n",
            "Increase the number of iterations (max_iter) or scale the data as shown in:\n",
            "    https://scikit-learn.org/stable/modules/preprocessing.html\n",
            "Please also refer to the documentation for alternative solver options:\n",
            "    https://scikit-learn.org/stable/modules/linear_model.html#logistic-regression\n",
            "  extra_warning_msg=_LOGISTIC_SOLVER_CONVERGENCE_MSG,\n"
          ]
        },
        {
          "name": "stdout",
          "output_type": "stream",
          "text": [
            "       Train  accuracy  test  precision  recall  fscore\n",
            "0  LR_train_     87.02  86.8      79.04   69.66   72.81\n"
          ]
        },
        {
          "name": "stderr",
          "output_type": "stream",
          "text": [
            "/usr/local/lib/python3.7/dist-packages/sklearn/utils/validation.py:993: DataConversionWarning: A column-vector y was passed when a 1d array was expected. Please change the shape of y to (n_samples, ), for example using ravel().\n",
            "  y = column_or_1d(y, warn=True)\n",
            "/usr/local/lib/python3.7/dist-packages/sklearn/linear_model/_logistic.py:818: ConvergenceWarning: lbfgs failed to converge (status=1):\n",
            "STOP: TOTAL NO. of ITERATIONS REACHED LIMIT.\n",
            "\n",
            "Increase the number of iterations (max_iter) or scale the data as shown in:\n",
            "    https://scikit-learn.org/stable/modules/preprocessing.html\n",
            "Please also refer to the documentation for alternative solver options:\n",
            "    https://scikit-learn.org/stable/modules/linear_model.html#logistic-regression\n",
            "  extra_warning_msg=_LOGISTIC_SOLVER_CONVERGENCE_MSG,\n"
          ]
        },
        {
          "name": "stdout",
          "output_type": "stream",
          "text": [
            "       Train  accuracy  test  precision  recall  fscore\n",
            "0  LR_train_     87.09  86.8      79.41   69.57   72.81\n"
          ]
        },
        {
          "name": "stderr",
          "output_type": "stream",
          "text": [
            "/usr/local/lib/python3.7/dist-packages/sklearn/utils/validation.py:993: DataConversionWarning: A column-vector y was passed when a 1d array was expected. Please change the shape of y to (n_samples, ), for example using ravel().\n",
            "  y = column_or_1d(y, warn=True)\n",
            "/usr/local/lib/python3.7/dist-packages/sklearn/linear_model/_logistic.py:818: ConvergenceWarning: lbfgs failed to converge (status=1):\n",
            "STOP: TOTAL NO. of ITERATIONS REACHED LIMIT.\n",
            "\n",
            "Increase the number of iterations (max_iter) or scale the data as shown in:\n",
            "    https://scikit-learn.org/stable/modules/preprocessing.html\n",
            "Please also refer to the documentation for alternative solver options:\n",
            "    https://scikit-learn.org/stable/modules/linear_model.html#logistic-regression\n",
            "  extra_warning_msg=_LOGISTIC_SOLVER_CONVERGENCE_MSG,\n"
          ]
        },
        {
          "name": "stdout",
          "output_type": "stream",
          "text": [
            "       Train  accuracy   test  precision  recall  fscore\n",
            "0  LR_train_     87.67  84.61      76.61   69.76   72.19\n"
          ]
        },
        {
          "name": "stderr",
          "output_type": "stream",
          "text": [
            "/usr/local/lib/python3.7/dist-packages/sklearn/utils/validation.py:993: DataConversionWarning: A column-vector y was passed when a 1d array was expected. Please change the shape of y to (n_samples, ), for example using ravel().\n",
            "  y = column_or_1d(y, warn=True)\n",
            "/usr/local/lib/python3.7/dist-packages/sklearn/linear_model/_logistic.py:818: ConvergenceWarning: lbfgs failed to converge (status=1):\n",
            "STOP: TOTAL NO. of ITERATIONS REACHED LIMIT.\n",
            "\n",
            "Increase the number of iterations (max_iter) or scale the data as shown in:\n",
            "    https://scikit-learn.org/stable/modules/preprocessing.html\n",
            "Please also refer to the documentation for alternative solver options:\n",
            "    https://scikit-learn.org/stable/modules/linear_model.html#logistic-regression\n",
            "  extra_warning_msg=_LOGISTIC_SOLVER_CONVERGENCE_MSG,\n"
          ]
        },
        {
          "name": "stdout",
          "output_type": "stream",
          "text": [
            "       Train  accuracy   test  precision  recall  fscore\n",
            "0  LR_train_     86.76  87.73      82.97   70.17   74.08\n"
          ]
        }
      ],
      "source": [
        "from sklearn import linear_model\n",
        "lr=linear_model.LogisticRegression()#初始化資料\n",
        "for i in range(0,4):\n",
        "  X_test=Xdata.iloc[2878*i:2878*(i+1)]\n",
        "  y_test=Ydata.iloc[2878*i:2878*(i+1)]\n",
        "  X_train=pd.concat([Xdata,X_test,X_test]).drop_duplicates(keep=False)\n",
        "  if(i==0):\n",
        "    temp=0\n",
        "  else:\n",
        "    temp=2878*i\n",
        "  y_train=pd.concat([Ydata.iloc[0:temp],Ydata.iloc[2878*(i+1):14390]])\n",
        "  lr.fit(X_train,y_train)#丟入資料\n",
        "  Y_pred_lr = lr.predict(X_test)\n",
        "  acc_lr = lr.score(X_train, y_train)\n",
        "  acc_lr_test = lr.score(X_test, y_test)\n",
        "  output('LR_train_',Y_pred_lr,acc_lr,acc_lr_test)\n"
      ]
    },
    {
      "cell_type": "code",
      "execution_count": null,
      "metadata": {
        "colab": {
          "base_uri": "https://localhost:8080/"
        },
        "id": "dSu4hMwARGz_",
        "outputId": "6f2852b4-a90a-4662-93a1-8287f89d3eea"
      },
      "outputs": [
        {
          "name": "stdout",
          "output_type": "stream",
          "text": [
            "object\n",
            "object\n"
          ]
        }
      ],
      "source": [
        "predict_result_lr = lr.predict(predict_data)\n",
        "'''\n",
        "Y_pred = lr.predict(predict_data)\n",
        "predict_result_lr = pd.DataFrame(Y_pred)\n",
        "predict_result_lr.rename( columns={0: 'ans'}, inplace=True)\n",
        "predict_ID=predict_data2.index.astype(str)+\".0\"\n",
        "print(predict_ID.dtype)\n",
        "predict_ID=pd.DataFrame(predict_ID)\n",
        "predict_dataframe = pd.concat([predict_ID,predict_result_lr],axis=1)\n",
        "predict_dataframe.columns=['id','ans']\n",
        "print(predict_dataframe['id'].dtype)\n",
        "predict_dataframe.to_csv('/content/gdrive/MyDrive/資料科學導論/hw1/lr_ans_test.csv',index=False)\n",
        "'''"
      ]
    },
    {
      "cell_type": "markdown",
      "metadata": {
        "id": "KawL1RQaifQi"
      },
      "source": [
        "#### Bayesian Regression"
      ]
    },
    {
      "cell_type": "code",
      "execution_count": null,
      "metadata": {
        "colab": {
          "base_uri": "https://localhost:8080/"
        },
        "id": "82VCin4qiiHo",
        "outputId": "dd165bce-f388-47ff-883a-a02a1c0d0c28"
      },
      "outputs": [
        {
          "name": "stdout",
          "output_type": "stream",
          "text": [
            "                 Train  accuracy   test  precision  recall  fscore\n",
            "0  Bayesian Regression     31.97  29.08       79.5   68.27   71.52\n"
          ]
        },
        {
          "name": "stderr",
          "output_type": "stream",
          "text": [
            "/usr/local/lib/python3.7/dist-packages/sklearn/utils/validation.py:993: DataConversionWarning: A column-vector y was passed when a 1d array was expected. Please change the shape of y to (n_samples, ), for example using ravel().\n",
            "  y = column_or_1d(y, warn=True)\n"
          ]
        }
      ],
      "source": [
        "from sklearn.linear_model import BayesianRidge\n",
        "BayReg=BayesianRidge()\n",
        "BayReg.fit(X_train,y_train)\n",
        "Y_pred_BayReg=BayReg.predict(X_test).round(0).astype(int).astype(str)\n",
        "BayReg_train_score=BayReg.score(X_train, y_train)\n",
        "BayReg_test_score=BayReg.score(X_test, y_test)\n",
        "output(\"Bayesian Regression\",Y_pred_BayReg,BayReg_train_score,BayReg_test_score)"
      ]
    },
    {
      "cell_type": "markdown",
      "metadata": {
        "id": "ybMt8ncnikSF"
      },
      "source": [
        "#### Generalized Linear Regression"
      ]
    },
    {
      "cell_type": "code",
      "execution_count": null,
      "metadata": {
        "colab": {
          "base_uri": "https://localhost:8080/"
        },
        "id": "1hXW3Go6im0-",
        "outputId": "f244bca8-1669-4700-df59-88b171ddad74"
      },
      "outputs": [
        {
          "name": "stdout",
          "output_type": "stream",
          "text": [
            "                           Train  accuracy   test  precision  recall  fscore\n",
            "0  Generalized Linear Regression     31.99  29.03      78.86   68.08   71.23\n"
          ]
        }
      ],
      "source": [
        "from sklearn.linear_model import LinearRegression\n",
        "GLR=LinearRegression()\n",
        "GLR.fit(X_train,y_train)\n",
        "Y_pred_GLR=GLR.predict(X_test).round(0).astype(int).astype(str)\n",
        "GLR_train_score=GLR.score(X_train, y_train)\n",
        "GLR_test_score=GLR.score(X_test, y_test)\n",
        "output(\"Generalized Linear Regression\",Y_pred_GLR,GLR_train_score,GLR_test_score)"
      ]
    }
  ],
  "metadata": {
    "colab": {
      "collapsed_sections": [
        "KXN1tMbZu2MH",
        "k3MW3H8xu7ON",
        "x-leudeS-m0X",
        "yWJEUQN8ecsh",
        "WlMODax_x8Wz",
        "98KCPqzUyH1Z",
        "dFc49uDUlj2E",
        "XnSShNaj_-lF",
        "691LB4YpWNtX",
        "snMo21TvhxLt",
        "OV-pCHmWh5c-",
        "pKKp9wwsh74-",
        "61PrMsIxh_u3",
        "M1xz4oaIicpJ",
        "xohuh6pi4hsv",
        "HNOqhcQJWhR5"
      ],
      "provenance": []
    },
    "kernelspec": {
      "display_name": "Python 3",
      "name": "python3"
    },
    "language_info": {
      "name": "python"
    }
  },
  "nbformat": 4,
  "nbformat_minor": 0
}