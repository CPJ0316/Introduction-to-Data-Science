{
  "cells": [
    {
      "cell_type": "markdown",
      "metadata": {
        "id": "cNEI6ZUPujKH"
      },
      "source": [
        "# Data Science HW1 B10915020 陳珮婕"
      ]
    },
    {
      "cell_type": "markdown",
      "metadata": {
        "id": "KXN1tMbZu2MH"
      },
      "source": [
        "#### 前置準備"
      ]
    },
    {
      "cell_type": "code",
      "execution_count": null,
      "metadata": {
        "id": "PaXpmZXoujne",
        "colab": {
          "base_uri": "https://localhost:8080/"
        },
        "outputId": "8cf76724-f131-423b-bfc8-8d6b0918e93f"
      },
      "outputs": [
        {
          "output_type": "stream",
          "name": "stdout",
          "text": [
            "Mounted at /content/gdrive\n",
            "Looking in indexes: https://pypi.org/simple, https://us-python.pkg.dev/colab-wheels/public/simple/\n",
            "Requirement already satisfied: numpy in /usr/local/lib/python3.7/dist-packages (1.21.6)\n",
            "Requirement already satisfied: scipy in /usr/local/lib/python3.7/dist-packages (1.7.3)\n",
            "Requirement already satisfied: pandas in /usr/local/lib/python3.7/dist-packages (1.3.5)\n",
            "Requirement already satisfied: matplotlib in /usr/local/lib/python3.7/dist-packages (3.2.2)\n",
            "Requirement already satisfied: pytz>=2017.3 in /usr/local/lib/python3.7/dist-packages (from pandas) (2022.6)\n",
            "Requirement already satisfied: python-dateutil>=2.7.3 in /usr/local/lib/python3.7/dist-packages (from pandas) (2.8.2)\n",
            "Requirement already satisfied: six>=1.5 in /usr/local/lib/python3.7/dist-packages (from python-dateutil>=2.7.3->pandas) (1.15.0)\n",
            "Requirement already satisfied: pyparsing!=2.0.4,!=2.1.2,!=2.1.6,>=2.0.1 in /usr/local/lib/python3.7/dist-packages (from matplotlib) (3.0.9)\n",
            "Requirement already satisfied: cycler>=0.10 in /usr/local/lib/python3.7/dist-packages (from matplotlib) (0.11.0)\n",
            "Requirement already satisfied: kiwisolver>=1.0.1 in /usr/local/lib/python3.7/dist-packages (from matplotlib) (1.4.4)\n",
            "Requirement already satisfied: typing-extensions in /usr/local/lib/python3.7/dist-packages (from kiwisolver>=1.0.1->matplotlib) (4.1.1)\n"
          ]
        }
      ],
      "source": [
        "from google.colab import drive\n",
        "drive.mount('/content/gdrive')\n",
        "!pip3 install numpy scipy pandas matplotlib\n",
        "import numpy as np\n",
        "import pandas as pd\n",
        "import matplotlib.pyplot as plt"
      ]
    },
    {
      "cell_type": "markdown",
      "metadata": {
        "id": "k3MW3H8xu7ON"
      },
      "source": [
        "#### 讀入資料"
      ]
    },
    {
      "cell_type": "code",
      "execution_count": null,
      "metadata": {
        "id": "3V2yyZ4wuiKe"
      },
      "outputs": [],
      "source": [
        "data2=pd.read_csv('/content/gdrive/MyDrive/資料科學導論/hw1/train.csv', index_col=None)\n",
        "predict_data2=pd.read_csv('/content/gdrive/MyDrive/資料科學導論/hw1/test.csv', index_col=None)"
      ]
    },
    {
      "cell_type": "markdown",
      "source": [
        "## 執行"
      ],
      "metadata": {
        "id": "XKTWPU96XPt3"
      }
    },
    {
      "cell_type": "markdown",
      "metadata": {
        "id": "ibL8T0HaZEKW"
      },
      "source": [
        "###  資料預處理"
      ]
    },
    {
      "cell_type": "code",
      "execution_count": null,
      "metadata": {
        "colab": {
          "base_uri": "https://localhost:8080/"
        },
        "id": "cnjbP8o9-Tdd",
        "outputId": "ee86b5f1-9201-4f10-8b68-7d554bee24d0"
      },
      "outputs": [
        {
          "output_type": "stream",
          "name": "stdout",
          "text": [
            "<class 'pandas.core.frame.DataFrame'>\n",
            "RangeIndex: 17103 entries, 0 to 17102\n",
            "Data columns (total 17 columns):\n",
            " #   Column       Non-Null Count  Dtype  \n",
            "---  ------       --------------  -----  \n",
            " 0   Attribute1   17103 non-null  object \n",
            " 1   Attribute2   17103 non-null  int64  \n",
            " 2   Attribute3   17032 non-null  float64\n",
            " 3   Attribute4   17071 non-null  float64\n",
            " 4   Attribute5   16942 non-null  float64\n",
            " 5   Attribute6   9702 non-null   float64\n",
            " 6   Attribute7   8872 non-null   float64\n",
            " 7   Attribute8   16010 non-null  object \n",
            " 8   Attribute9   16017 non-null  float64\n",
            " 9   Attribute10  16671 non-null  object \n",
            " 10  Attribute11  16797 non-null  float64\n",
            " 11  Attribute12  16688 non-null  float64\n",
            " 12  Attribute13  15434 non-null  float64\n",
            " 13  Attribute14  10151 non-null  float64\n",
            " 14  Attribute15  16809 non-null  float64\n",
            " 15  Attribute16  16942 non-null  object \n",
            " 16  Attribute17  17103 non-null  object \n",
            "dtypes: float64(11), int64(1), object(5)\n",
            "memory usage: 2.2+ MB\n",
            "None\n"
          ]
        }
      ],
      "source": [
        "# print(data2.head())\n",
        "data=pd.DataFrame(data2.copy())\n",
        "predict_data=predict_data2.copy()\n",
        "print(data.info())"
      ]
    },
    {
      "cell_type": "code",
      "execution_count": null,
      "metadata": {
        "colab": {
          "base_uri": "https://localhost:8080/"
        },
        "id": "3XDIwWxDErR9",
        "outputId": "08e6bcaa-2abc-48fd-94d9-2ac5ddf8f938"
      },
      "outputs": [
        {
          "output_type": "stream",
          "name": "stdout",
          "text": [
            "<class 'pandas.core.frame.DataFrame'>\n",
            "RangeIndex: 17103 entries, 0 to 17102\n",
            "Data columns (total 16 columns):\n",
            " #   Column       Non-Null Count  Dtype  \n",
            "---  ------       --------------  -----  \n",
            " 0   Attribute2   17103 non-null  int64  \n",
            " 1   Attribute3   17032 non-null  float64\n",
            " 2   Attribute4   17071 non-null  float64\n",
            " 3   Attribute5   16942 non-null  float64\n",
            " 4   Attribute6   9702 non-null   float64\n",
            " 5   Attribute7   8872 non-null   float64\n",
            " 6   Attribute8   16010 non-null  object \n",
            " 7   Attribute9   16017 non-null  float64\n",
            " 8   Attribute10  16671 non-null  object \n",
            " 9   Attribute11  16797 non-null  float64\n",
            " 10  Attribute12  16688 non-null  float64\n",
            " 11  Attribute13  15434 non-null  float64\n",
            " 12  Attribute14  10151 non-null  float64\n",
            " 13  Attribute15  16809 non-null  float64\n",
            " 14  Attribute16  16942 non-null  object \n",
            " 15  Attribute17  17103 non-null  object \n",
            "dtypes: float64(11), int64(1), object(4)\n",
            "memory usage: 2.1+ MB\n",
            "None\n"
          ]
        }
      ],
      "source": [
        "data=data.drop(['Attribute1'],axis=1)\n",
        "predict_data=predict_data.drop(['Attribute1'],axis=1)\n",
        "print(data.info())"
      ]
    },
    {
      "cell_type": "markdown",
      "metadata": {
        "id": "YJ_Pv96cwiNG"
      },
      "source": [
        "#### 補上8、10"
      ]
    },
    {
      "cell_type": "code",
      "execution_count": null,
      "metadata": {
        "colab": {
          "base_uri": "https://localhost:8080/"
        },
        "id": "qnKnVJA3wnyO",
        "outputId": "cb0aa9cb-4488-4ae3-b499-fda8a82533be"
      },
      "outputs": [
        {
          "output_type": "stream",
          "name": "stdout",
          "text": [
            "<class 'pandas.core.frame.DataFrame'>\n",
            "RangeIndex: 17103 entries, 0 to 17102\n",
            "Data columns (total 16 columns):\n",
            " #   Column       Non-Null Count  Dtype  \n",
            "---  ------       --------------  -----  \n",
            " 0   Attribute2   17103 non-null  int64  \n",
            " 1   Attribute3   17032 non-null  float64\n",
            " 2   Attribute4   17071 non-null  float64\n",
            " 3   Attribute5   16942 non-null  float64\n",
            " 4   Attribute6   9702 non-null   float64\n",
            " 5   Attribute7   8872 non-null   float64\n",
            " 6   Attribute8   16775 non-null  object \n",
            " 7   Attribute9   16017 non-null  float64\n",
            " 8   Attribute10  16775 non-null  object \n",
            " 9   Attribute11  16797 non-null  float64\n",
            " 10  Attribute12  16688 non-null  float64\n",
            " 11  Attribute13  15434 non-null  float64\n",
            " 12  Attribute14  10151 non-null  float64\n",
            " 13  Attribute15  16809 non-null  float64\n",
            " 14  Attribute16  16942 non-null  object \n",
            " 15  Attribute17  17103 non-null  object \n",
            "dtypes: float64(11), int64(1), object(4)\n",
            "memory usage: 2.1+ MB\n",
            "None\n"
          ]
        }
      ],
      "source": [
        "for i in data.index:\n",
        "  if(pd.isnull(data.loc[i,\"Attribute8\"])):\n",
        "    data.loc[i,\"Attribute8\"]=data.loc[i,\"Attribute10\"]\n",
        "  if(pd.isnull(data.loc[i,\"Attribute10\"])):\n",
        "    data.loc[i,\"Attribute10\"]=data.loc[i,\"Attribute8\"]\n",
        "print(data.info())\n"
      ]
    },
    {
      "cell_type": "markdown",
      "metadata": {
        "id": "JwkwcXTXhy2q"
      },
      "source": [
        "#### 所有特徵補上中位數"
      ]
    },
    {
      "cell_type": "code",
      "execution_count": null,
      "metadata": {
        "id": "meuzQSYTrWd0"
      },
      "outputs": [],
      "source": [
        "data[(data[\"Attribute16\"]==\"No\")&(data[\"Attribute5\"].isnull())][\"Attribute5\"].fillna(value=0.0, inplace=True)\n",
        "place=data[\"Attribute2\"].unique().tolist()\n",
        "for i in range(3,16):\n",
        "  if((i!=8)&(i!=10)):\n",
        "    add_data=\"Attribute\"+str(i)\n",
        "    place_data=data[[\"Attribute2\",add_data]]\n",
        "    place_data=place_data.dropna()\n",
        "    place_data.reset_index(drop=True)\n",
        "    #print(place_data.info())\n",
        "    value=[]\n",
        "    all_average=place_data[add_data].median()\n",
        "    for i in place:\n",
        "      average_data = place_data[(place_data[\"Attribute2\"]==i)][add_data].median()\n",
        "    #print(average_data)\n",
        "      value.append(average_data)\n",
        "    #print(value)\n",
        "\n",
        "    for i in range(0,len(place)):\n",
        "      data[data[\"Attribute2\"]==place[i]][add_data].fillna(value=value[i], inplace=True)\n",
        "\n",
        "    data[add_data].fillna(value=all_average, inplace=True)\n",
        "    #print(data.info())\n"
      ]
    },
    {
      "cell_type": "markdown",
      "metadata": {
        "id": "bhYstpicyv9B"
      },
      "source": [
        "#### dropna+特徵8、10、16、17轉成數字(string)"
      ]
    },
    {
      "cell_type": "code",
      "execution_count": null,
      "metadata": {
        "colab": {
          "base_uri": "https://localhost:8080/"
        },
        "id": "rTTxpYAi5k2S",
        "outputId": "2d42f185-5590-4a4d-993f-518eb1d4b750"
      },
      "outputs": [
        {
          "output_type": "stream",
          "name": "stdout",
          "text": [
            "<class 'pandas.core.frame.DataFrame'>\n",
            "Int64Index: 16622 entries, 0 to 17102\n",
            "Data columns (total 16 columns):\n",
            " #   Column       Non-Null Count  Dtype  \n",
            "---  ------       --------------  -----  \n",
            " 0   Attribute2   16622 non-null  int64  \n",
            " 1   Attribute3   16622 non-null  float64\n",
            " 2   Attribute4   16622 non-null  float64\n",
            " 3   Attribute5   16622 non-null  float64\n",
            " 4   Attribute6   16622 non-null  float64\n",
            " 5   Attribute7   16622 non-null  float64\n",
            " 6   Attribute8   16622 non-null  object \n",
            " 7   Attribute9   16622 non-null  float64\n",
            " 8   Attribute10  16622 non-null  object \n",
            " 9   Attribute11  16622 non-null  float64\n",
            " 10  Attribute12  16622 non-null  float64\n",
            " 11  Attribute13  16622 non-null  float64\n",
            " 12  Attribute14  16622 non-null  float64\n",
            " 13  Attribute15  16622 non-null  float64\n",
            " 14  Attribute16  16622 non-null  object \n",
            " 15  Attribute17  16622 non-null  object \n",
            "dtypes: float64(11), int64(1), object(4)\n",
            "memory usage: 2.2+ MB\n",
            "None\n"
          ]
        }
      ],
      "source": [
        "data=data.dropna()\n",
        "print(data.info())"
      ]
    },
    {
      "cell_type": "code",
      "execution_count": null,
      "metadata": {
        "id": "C8FCRJDjKBdw"
      },
      "outputs": [],
      "source": [
        "data=data.reset_index(drop=True)\n",
        "#print(data.info())"
      ]
    },
    {
      "cell_type": "code",
      "execution_count": null,
      "metadata": {
        "colab": {
          "base_uri": "https://localhost:8080/"
        },
        "id": "hDqmHMzfSxgg",
        "outputId": "047dac09-cbfc-4aca-945c-e82842da67c6"
      },
      "outputs": [
        {
          "output_type": "stream",
          "name": "stdout",
          "text": [
            "[]\n",
            "   Attribute2  Attribute3  Attribute4  Attribute5  Attribute6  Attribute7  \\\n",
            "0           2         9.2        28.0         0.0         4.8         8.6   \n",
            "1           2         7.7        26.7         0.0         4.8         8.6   \n",
            "2           2        15.9        21.7         2.2         4.8         8.6   \n",
            "3           2        15.9        18.6        15.6         4.8         8.6   \n",
            "4           2        13.7        37.9         0.0         4.8         8.6   \n",
            "\n",
            "  Attribute8  Attribute9 Attribute10  Attribute11  Attribute12  Attribute13  \\\n",
            "0         14        24.0           0          9.0         16.0       1012.8   \n",
            "1          1        35.0           1         17.0         19.0       1010.1   \n",
            "2          8        31.0           2         13.0         91.0       1004.2   \n",
            "3          1        61.0           3         28.0         93.0        993.0   \n",
            "4          1        52.0           4         26.0          8.0       1006.7   \n",
            "\n",
            "   Attribute14  Attribute15 Attribute16 Attribute17  \n",
            "0          5.0         26.5          No          No  \n",
            "1          5.0         25.5          No          No  \n",
            "2          8.0         17.0         Yes         Yes  \n",
            "3          8.0         15.8         Yes         Yes  \n",
            "4          5.0         36.8          No          No  \n"
          ]
        }
      ],
      "source": [
        "direction_8=data[\"Attribute8\"].unique().tolist()\n",
        "direction_10=data[\"Attribute10\"].unique().tolist()\n",
        "print(list(set(direction_8).symmetric_difference(set(direction_10))))\n",
        "direction=direction_10\n",
        "for i in data.index:\n",
        "  for j in range(0,len(direction)):\n",
        "   if(data.loc[i,'Attribute8']==direction[j]):\n",
        "       data.loc[i,'Attribute8']=str(j)\n",
        "   if(data.loc[i,'Attribute10']==direction[j]):\n",
        "       data.loc[i,'Attribute10']=str(j)\n",
        "print(data.head())\n",
        "for i in predict_data.index:\n",
        "  for j in range(0,len(direction)):\n",
        "   if(predict_data.loc[i,'Attribute8']==direction[j]):\n",
        "       predict_data.loc[i,'Attribute8']=str(j)\n",
        "   if(predict_data.loc[i,'Attribute10']==direction[j]):\n",
        "       predict_data.loc[i,'Attribute10']=str(j)"
      ]
    },
    {
      "cell_type": "code",
      "execution_count": null,
      "metadata": {
        "id": "FHLLWg1EYdvQ"
      },
      "outputs": [],
      "source": [
        "rain=data[\"Attribute17\"].unique().tolist()\n",
        "for i in data.index:\n",
        "  if(data.loc[i,'Attribute17']=='Yes'):\n",
        "    data.loc[i,'Attribute17']=\"1\"\n",
        "  else:\n",
        "    data.loc[i,'Attribute17']=\"0\"\n",
        "  if(data.loc[i,'Attribute16']=='Yes'):\n",
        "    data.loc[i,'Attribute16']=\"1\"\n",
        "  else:\n",
        "    data.loc[i,'Attribute16']=\"0\"\n",
        "\n",
        "for i in predict_data.index:\n",
        "  if(predict_data.loc[i,'Attribute16']=='Yes'):\n",
        "    predict_data.loc[i,'Attribute16']=\"1\"\n",
        "  else:\n",
        "    predict_data.loc[i,'Attribute16']=\"0\"\n",
        "#print(data.head())"
      ]
    },
    {
      "cell_type": "code",
      "execution_count": null,
      "metadata": {
        "colab": {
          "base_uri": "https://localhost:8080/"
        },
        "id": "mpedW_tS7sFl",
        "outputId": "318fdb6b-c242-4e86-8ce2-cc6a61ddaf96"
      },
      "outputs": [
        {
          "output_type": "stream",
          "name": "stdout",
          "text": [
            "<class 'pandas.core.frame.DataFrame'>\n",
            "RangeIndex: 16622 entries, 0 to 16621\n",
            "Data columns (total 16 columns):\n",
            " #   Column       Non-Null Count  Dtype  \n",
            "---  ------       --------------  -----  \n",
            " 0   Attribute2   16622 non-null  int64  \n",
            " 1   Attribute3   16622 non-null  float64\n",
            " 2   Attribute4   16622 non-null  float64\n",
            " 3   Attribute5   16622 non-null  float64\n",
            " 4   Attribute6   16622 non-null  float64\n",
            " 5   Attribute7   16622 non-null  float64\n",
            " 6   Attribute8   16622 non-null  object \n",
            " 7   Attribute9   16622 non-null  float64\n",
            " 8   Attribute10  16622 non-null  object \n",
            " 9   Attribute11  16622 non-null  float64\n",
            " 10  Attribute12  16622 non-null  float64\n",
            " 11  Attribute13  16622 non-null  float64\n",
            " 12  Attribute14  16622 non-null  float64\n",
            " 13  Attribute15  16622 non-null  float64\n",
            " 14  Attribute16  16622 non-null  object \n",
            " 15  Attribute17  16622 non-null  object \n",
            "dtypes: float64(11), int64(1), object(4)\n",
            "memory usage: 2.0+ MB\n",
            "None\n"
          ]
        }
      ],
      "source": [
        "print(data.info())"
      ]
    },
    {
      "cell_type": "markdown",
      "metadata": {
        "id": "e963Q3AVMCZJ"
      },
      "source": [
        "### 準備模型"
      ]
    },
    {
      "cell_type": "code",
      "execution_count": null,
      "metadata": {
        "colab": {
          "base_uri": "https://localhost:8080/"
        },
        "id": "r58eg5VvMF8w",
        "outputId": "6e397a53-1883-447c-f4b2-543f6ffb3281"
      },
      "outputs": [
        {
          "output_type": "stream",
          "name": "stdout",
          "text": [
            "Looking in indexes: https://pypi.org/simple, https://us-python.pkg.dev/colab-wheels/public/simple/\n",
            "Requirement already satisfied: sklearn in /usr/local/lib/python3.7/dist-packages (0.0.post1)\n",
            "Requirement already satisfied: datetime in /usr/local/lib/python3.7/dist-packages (4.7)\n",
            "Requirement already satisfied: joblib in /usr/local/lib/python3.7/dist-packages (1.2.0)\n",
            "Requirement already satisfied: seaborn in /usr/local/lib/python3.7/dist-packages (0.11.2)\n",
            "Requirement already satisfied: zope.interface in /usr/local/lib/python3.7/dist-packages (from datetime) (5.5.2)\n",
            "Requirement already satisfied: pytz in /usr/local/lib/python3.7/dist-packages (from datetime) (2022.6)\n",
            "Requirement already satisfied: numpy>=1.15 in /usr/local/lib/python3.7/dist-packages (from seaborn) (1.21.6)\n",
            "Requirement already satisfied: scipy>=1.0 in /usr/local/lib/python3.7/dist-packages (from seaborn) (1.7.3)\n",
            "Requirement already satisfied: matplotlib>=2.2 in /usr/local/lib/python3.7/dist-packages (from seaborn) (3.2.2)\n",
            "Requirement already satisfied: pandas>=0.23 in /usr/local/lib/python3.7/dist-packages (from seaborn) (1.3.5)\n",
            "Requirement already satisfied: cycler>=0.10 in /usr/local/lib/python3.7/dist-packages (from matplotlib>=2.2->seaborn) (0.11.0)\n",
            "Requirement already satisfied: pyparsing!=2.0.4,!=2.1.2,!=2.1.6,>=2.0.1 in /usr/local/lib/python3.7/dist-packages (from matplotlib>=2.2->seaborn) (3.0.9)\n",
            "Requirement already satisfied: python-dateutil>=2.1 in /usr/local/lib/python3.7/dist-packages (from matplotlib>=2.2->seaborn) (2.8.2)\n",
            "Requirement already satisfied: kiwisolver>=1.0.1 in /usr/local/lib/python3.7/dist-packages (from matplotlib>=2.2->seaborn) (1.4.4)\n",
            "Requirement already satisfied: typing-extensions in /usr/local/lib/python3.7/dist-packages (from kiwisolver>=1.0.1->matplotlib>=2.2->seaborn) (4.1.1)\n",
            "Requirement already satisfied: six>=1.5 in /usr/local/lib/python3.7/dist-packages (from python-dateutil>=2.1->matplotlib>=2.2->seaborn) (1.15.0)\n",
            "Requirement already satisfied: setuptools in /usr/local/lib/python3.7/dist-packages (from zope.interface->datetime) (57.4.0)\n"
          ]
        }
      ],
      "source": [
        "!pip3 install sklearn datetime joblib seaborn\n",
        "import joblib\n",
        "import matplotlib.pyplot as plt\n",
        "import seaborn as sns\n",
        "from sklearn import tree\n",
        "import pickle\n",
        "\n",
        "from sklearn.model_selection import train_test_split\n",
        "from sklearn.metrics import plot_confusion_matrix\n",
        "from sklearn.metrics import precision_recall_fscore_support\n",
        "from sklearn.metrics import accuracy_score, f1_score, precision_score, recall_score, classification_report, confusion_matrix"
      ]
    },
    {
      "cell_type": "code",
      "execution_count": null,
      "metadata": {
        "id": "OcVuxxmhMZ_x"
      },
      "outputs": [],
      "source": [
        "train_data=data.copy()\n",
        "\n",
        "Xdata_2 = train_data.drop(columns='Attribute17')\n",
        "Ydata_2 = data['Attribute17'].astype(str)\n",
        "#X_train, X_test, y_train, y_test = train_test_split(Xdata, Ydata , test_size=0.2, random_state=20)\n",
        "#y_train_print=pd.Series(Ydata)\n",
        "#print(y_train_print.value_counts())"
      ]
    },
    {
      "cell_type": "markdown",
      "metadata": {
        "id": "SOZtcBZrQvE9"
      },
      "source": [
        "做SMOTE處理\n"
      ]
    },
    {
      "cell_type": "code",
      "execution_count": null,
      "metadata": {
        "colab": {
          "base_uri": "https://localhost:8080/"
        },
        "id": "Qgt8ynGiQ1T9",
        "outputId": "61c9e265-1688-47be-9fed-09c46fac8caa"
      },
      "outputs": [
        {
          "output_type": "stream",
          "name": "stdout",
          "text": [
            "0    13614\n",
            "1    13614\n",
            "Name: Attribute17, dtype: int64\n"
          ]
        }
      ],
      "source": [
        "from imblearn.over_sampling import SMOTE\n",
        "Xdata, Ydata = SMOTE().fit_resample(Xdata_2, Ydata_2)\n",
        "y_train_print=pd.Series(Ydata)\n",
        "print(y_train_print.value_counts())\n"
      ]
    },
    {
      "cell_type": "markdown",
      "metadata": {
        "id": "AFJauJgeWD8d"
      },
      "source": [
        "輸出"
      ]
    },
    {
      "cell_type": "code",
      "execution_count": null,
      "metadata": {
        "id": "XnMec4yuOOT_"
      },
      "outputs": [],
      "source": [
        "def output(name,Y_pred_model,train_score,test_score):\n",
        "  acc_model = round(train_score * 100, 2)\n",
        "  acc_model_test = round(test_score * 100, 2)\n",
        "  model_precision = round( precision_score(y_test, Y_pred_model, average=\"macro\") * 100, 2)\n",
        "  #print(y_test, Y_pred_model)\n",
        "  model_recall = round( recall_score(y_test, Y_pred_model, average=\"macro\") * 100, 2)\n",
        "  model_fscore = round( f1_score(y_test, Y_pred_model, average=\"macro\") * 100, 2)\n",
        "\n",
        "\n",
        "  models = pd.DataFrame({\n",
        "    'Train': [name],\n",
        "    'accuracy': [acc_model],\n",
        "    'test': [acc_model_test],\n",
        "    'precision': [model_precision],\n",
        "    'recall': [model_recall],\n",
        "    'fscore': [model_fscore],\n",
        "  })\n",
        "\n",
        "  models.sort_values(by='accuracy', ascending=False)\n",
        "  print(models)"
      ]
    },
    {
      "cell_type": "code",
      "execution_count": null,
      "metadata": {
        "id": "nEcQW5eLyzYk"
      },
      "outputs": [],
      "source": [
        "piece=2269"
      ]
    },
    {
      "cell_type": "markdown",
      "metadata": {
        "id": "EwutWy6_V704"
      },
      "source": [
        "#### 決策樹"
      ]
    },
    {
      "cell_type": "code",
      "execution_count": null,
      "metadata": {
        "colab": {
          "base_uri": "https://localhost:8080/"
        },
        "id": "QbROMP1_1TxY",
        "outputId": "20e1077f-d3c8-40dc-a587-16c852c1c9c4"
      },
      "outputs": [
        {
          "output_type": "stream",
          "name": "stdout",
          "text": [
            "          Train  accuracy   test  precision  recall  fscore\n",
            "0  tree_train_0     99.58  79.24      67.35   74.14   69.24\n",
            "          Train  accuracy   test  precision  recall  fscore\n",
            "0  tree_train_1     99.29  75.19       66.1   72.27   67.34\n"
          ]
        }
      ],
      "source": [
        "from sklearn.tree import DecisionTreeClassifier\n",
        "treeNumber=20\n",
        "Dtree=DecisionTreeClassifier(max_depth=treeNumber)\n",
        "'''\n",
        "\n",
        "Dtree.fit(X_train, y_train)\n",
        "Y_pred_Dtree = Dtree.predict(X_test)\n",
        "acc_Dtree = Dtree.score(X_train, y_train)\n",
        "acc_Dtree_test = Dtree.score(X_test, y_test)\n",
        "output('KNN_5times_train_'+str(i),Y_pred_Dtree,acc_Dtree,acc_Dtree_test)\n",
        "'''\n",
        "for i in range(0,2):#5 #1\n",
        "  X_test=Xdata.iloc[piece*i:piece*(i+1)]\n",
        "  y_test=Ydata.iloc[piece*i:piece*(i+1)]\n",
        "  X_train=pd.concat([Xdata,X_test,X_test]).drop_duplicates(keep=False)\n",
        "  if(i==0):\n",
        "    temp=0\n",
        "  else:\n",
        "    temp=piece*i\n",
        "  y_train=pd.concat([Ydata.iloc[0:temp],Ydata.iloc[piece*(i+1):27228]])\n",
        "  Dtree.fit(X_train, y_train)\n",
        "  Y_pred_Dtree = Dtree.predict(X_test)\n",
        "  acc_Dtree = Dtree.score(X_train, y_train)\n",
        "  acc_Dtree_test = Dtree.score(X_test, y_test)\n",
        "  output('tree_train_'+str(i),Y_pred_Dtree,acc_Dtree,acc_Dtree_test)"
      ]
    },
    {
      "cell_type": "code",
      "execution_count": null,
      "metadata": {
        "colab": {
          "base_uri": "https://localhost:8080/",
          "height": 70
        },
        "id": "on_JUIEe2L-A",
        "outputId": "ed1326e3-c1aa-488f-bc90-cf77421d19be"
      },
      "outputs": [
        {
          "output_type": "execute_result",
          "data": {
            "text/plain": [
              "'\\nY_pred = Dtree.predict(predict_data)\\npredict_result_tree = pd.DataFrame(Y_pred)\\npredict_result.rename( columns={0: \\'ans\\'}, inplace=True)\\npredict_ID=predict_data2.index.astype(str)+\".0\"\\nprint(predict_ID.dtype)\\npredict_ID=pd.DataFrame(predict_ID)\\npredict_dataframe = pd.concat([predict_ID,predict_result],axis=1)\\npredict_dataframe.columns=[\\'id\\',\\'ans\\']\\nprint(predict_dataframe[\\'id\\'].dtype)\\npredict_dataframe.to_csv(\\'/content/gdrive/MyDrive/資料科學導論/hw1/tree2_ans_test.csv\\',index=False)\\n'"
            ],
            "application/vnd.google.colaboratory.intrinsic+json": {
              "type": "string"
            }
          },
          "metadata": {},
          "execution_count": 84
        }
      ],
      "source": [
        "predict_result_tree = Dtree.predict(predict_data)"
      ]
    },
    {
      "cell_type": "markdown",
      "metadata": {
        "id": "40M_MVM-qjbm"
      },
      "source": [
        "#### KNN"
      ]
    },
    {
      "cell_type": "code",
      "execution_count": null,
      "metadata": {
        "colab": {
          "base_uri": "https://localhost:8080/"
        },
        "id": "4lm1zatm1e2D",
        "outputId": "9c97ca81-ffd8-4138-dddd-5676e28a1c15"
      },
      "outputs": [
        {
          "output_type": "stream",
          "name": "stdout",
          "text": [
            "                Train  accuracy   test  precision  recall  fscore\n",
            "0  KNN_5times_train_0     91.38  74.04      68.89   82.94   68.52\n",
            "                Train  accuracy   test  precision  recall  fscore\n",
            "0  KNN_5times_train_1     91.58  66.81      67.87   78.55   63.79\n"
          ]
        }
      ],
      "source": [
        "from sklearn.neighbors import KNeighborsClassifier\n",
        "from sklearn.model_selection import train_test_split\n",
        "knn = KNeighborsClassifier(n_neighbors = 5)\n",
        "'''\n",
        "knn.fit(X_train, y_train)\n",
        "Y_pred_knn = knn.predict(X_test)\n",
        "acc_knn = knn.score(X_train, y_train)\n",
        "acc_knn_test = knn.score(X_test, y_test)\n",
        "output('KNN_5times_train_'+str(i),Y_pred_knn,acc_knn,acc_knn_test)\n",
        "#2878\n",
        "'''\n",
        "for i in range(0,2):#2\n",
        "  X_test=Xdata.iloc[piece*i:piece*(i+1)]\n",
        "  y_test=Ydata.iloc[piece*i:piece*(i+1)]\n",
        "  X_train=pd.concat([Xdata,X_test,X_test]).drop_duplicates(keep=False)\n",
        "  if(i==0):\n",
        "    temp=0\n",
        "  else:\n",
        "    temp=piece*i\n",
        "  y_train=pd.concat([Ydata.iloc[0:temp],Ydata.iloc[piece*(i+1):27228]])\n",
        "  knn.fit(X_train, y_train)\n",
        "  Y_pred_knn = knn.predict(X_test)\n",
        "  acc_knn = knn.score(X_train, y_train)\n",
        "  acc_knn_test = knn.score(X_test, y_test)\n",
        "  output('KNN_5times_train_'+str(i),Y_pred_knn,acc_knn,acc_knn_test)"
      ]
    },
    {
      "cell_type": "code",
      "execution_count": null,
      "metadata": {
        "id": "e_Memkhmhu96"
      },
      "outputs": [],
      "source": [
        "predict_result_knn = knn.predict(predict_data)"
      ]
    },
    {
      "cell_type": "markdown",
      "metadata": {
        "id": "hCWUrGPUSoqz"
      },
      "source": [
        "#### Logistic Regression"
      ]
    },
    {
      "cell_type": "code",
      "execution_count": null,
      "metadata": {
        "colab": {
          "base_uri": "https://localhost:8080/"
        },
        "id": "5Hi7XCewSoq1",
        "outputId": "d1411a57-408d-4bc7-a332-c3e2d65f11c1"
      },
      "outputs": [
        {
          "output_type": "stream",
          "name": "stderr",
          "text": [
            "/usr/local/lib/python3.7/dist-packages/sklearn/linear_model/_logistic.py:818: ConvergenceWarning: lbfgs failed to converge (status=1):\n",
            "STOP: TOTAL NO. of ITERATIONS REACHED LIMIT.\n",
            "\n",
            "Increase the number of iterations (max_iter) or scale the data as shown in:\n",
            "    https://scikit-learn.org/stable/modules/preprocessing.html\n",
            "Please also refer to the documentation for alternative solver options:\n",
            "    https://scikit-learn.org/stable/modules/linear_model.html#logistic-regression\n",
            "  extra_warning_msg=_LOGISTIC_SOLVER_CONVERGENCE_MSG,\n"
          ]
        },
        {
          "output_type": "stream",
          "name": "stdout",
          "text": [
            "        Train  accuracy   test  precision  recall  fscore\n",
            "0  LR_train_0     77.86  79.73      69.28   78.76   71.42\n"
          ]
        },
        {
          "output_type": "stream",
          "name": "stderr",
          "text": [
            "/usr/local/lib/python3.7/dist-packages/sklearn/linear_model/_logistic.py:818: ConvergenceWarning: lbfgs failed to converge (status=1):\n",
            "STOP: TOTAL NO. of ITERATIONS REACHED LIMIT.\n",
            "\n",
            "Increase the number of iterations (max_iter) or scale the data as shown in:\n",
            "    https://scikit-learn.org/stable/modules/preprocessing.html\n",
            "Please also refer to the documentation for alternative solver options:\n",
            "    https://scikit-learn.org/stable/modules/linear_model.html#logistic-regression\n",
            "  extra_warning_msg=_LOGISTIC_SOLVER_CONVERGENCE_MSG,\n"
          ]
        },
        {
          "output_type": "stream",
          "name": "stdout",
          "text": [
            "        Train  accuracy   test  precision  recall  fscore\n",
            "0  LR_train_1     78.36  75.54      68.42   77.15   69.47\n"
          ]
        },
        {
          "output_type": "stream",
          "name": "stderr",
          "text": [
            "/usr/local/lib/python3.7/dist-packages/sklearn/linear_model/_logistic.py:818: ConvergenceWarning: lbfgs failed to converge (status=1):\n",
            "STOP: TOTAL NO. of ITERATIONS REACHED LIMIT.\n",
            "\n",
            "Increase the number of iterations (max_iter) or scale the data as shown in:\n",
            "    https://scikit-learn.org/stable/modules/preprocessing.html\n",
            "Please also refer to the documentation for alternative solver options:\n",
            "    https://scikit-learn.org/stable/modules/linear_model.html#logistic-regression\n",
            "  extra_warning_msg=_LOGISTIC_SOLVER_CONVERGENCE_MSG,\n"
          ]
        },
        {
          "output_type": "stream",
          "name": "stdout",
          "text": [
            "        Train  accuracy   test  precision  recall  fscore\n",
            "0  LR_train_2     78.65  69.59      64.44   73.37   63.62\n"
          ]
        }
      ],
      "source": [
        "from sklearn import linear_model\n",
        "lr=linear_model.LogisticRegression()#初始化資料\n",
        "'''\n",
        "lr.fit(X_train,y_train)#丟入資料\n",
        "Y_pred_lr = lr.predict(X_test)\n",
        "acc_lr = lr.score(X_train, y_train)\n",
        "acc_lr_test = lr.score(X_test, y_test)\n",
        "output('LR_train_',Y_pred_lr,acc_lr,acc_lr_test)\n",
        "'''\n",
        "for i in range(0,3):#4\n",
        "  X_test=Xdata.iloc[piece*i:piece*(i+1)]\n",
        "  y_test=Ydata.iloc[piece*i:piece*(i+1)]\n",
        "  X_train=pd.concat([Xdata,X_test,X_test]).drop_duplicates(keep=False)\n",
        "  if(i==0):\n",
        "    temp=0\n",
        "  else:\n",
        "    temp=piece*i\n",
        "  y_train=pd.concat([Ydata.iloc[0:temp],Ydata.iloc[piece*(i+1):27228]])\n",
        "  lr.fit(X_train,y_train)#丟入資料\n",
        "  Y_pred_lr = lr.predict(X_test)\n",
        "  acc_lr = lr.score(X_train, y_train)\n",
        "  acc_lr_test = lr.score(X_test, y_test)\n",
        "  output('LR_train_'+str(i),Y_pred_lr,acc_lr,acc_lr_test)"
      ]
    },
    {
      "cell_type": "code",
      "execution_count": null,
      "metadata": {
        "colab": {
          "base_uri": "https://localhost:8080/",
          "height": 70
        },
        "id": "RwWj2OImSoq3",
        "outputId": "a783f16e-af69-4c14-fa47-52f0771da596"
      },
      "outputs": [
        {
          "output_type": "execute_result",
          "data": {
            "text/plain": [
              "'\\nY_pred = lr.predict(predict_data)\\npredict_result_lr = pd.DataFrame(Y_pred)\\npredict_result_lr.rename( columns={0: \\'ans\\'}, inplace=True)\\npredict_ID=predict_data2.index.astype(str)+\".0\"\\nprint(predict_ID.dtype)\\npredict_ID=pd.DataFrame(predict_ID)\\npredict_dataframe = pd.concat([predict_ID,predict_result_lr],axis=1)\\npredict_dataframe.columns=[\\'id\\',\\'ans\\']\\nprint(predict_dataframe[\\'id\\'].dtype)\\npredict_dataframe.to_csv(\\'/content/gdrive/MyDrive/資料科學導論/hw1/lr_ans_test.csv\\',index=False)\\n'"
            ],
            "application/vnd.google.colaboratory.intrinsic+json": {
              "type": "string"
            }
          },
          "metadata": {},
          "execution_count": 88
        }
      ],
      "source": [
        "predict_result_lr = lr.predict(predict_data)\n",
        "'''\n",
        "Y_pred = lr.predict(predict_data)\n",
        "predict_result_lr = pd.DataFrame(Y_pred)\n",
        "predict_result_lr.rename( columns={0: 'ans'}, inplace=True)\n",
        "predict_ID=predict_data2.index.astype(str)+\".0\"\n",
        "print(predict_ID.dtype)\n",
        "predict_ID=pd.DataFrame(predict_ID)\n",
        "predict_dataframe = pd.concat([predict_ID,predict_result_lr],axis=1)\n",
        "predict_dataframe.columns=['id','ans']\n",
        "print(predict_dataframe['id'].dtype)\n",
        "predict_dataframe.to_csv('/content/gdrive/MyDrive/資料科學導論/hw1/lr_ans_test.csv',index=False)\n",
        "'''"
      ]
    },
    {
      "cell_type": "markdown",
      "metadata": {
        "id": "zJQzOQC6EH60"
      },
      "source": [
        "### 合併測試"
      ]
    },
    {
      "cell_type": "code",
      "execution_count": null,
      "metadata": {
        "id": "KAoHDBHEEKDF",
        "colab": {
          "base_uri": "https://localhost:8080/"
        },
        "outputId": "3c717fa8-090e-408e-ade8-ea5998df1119"
      },
      "outputs": [
        {
          "output_type": "stream",
          "name": "stdout",
          "text": [
            "object\n",
            "object\n"
          ]
        }
      ],
      "source": [
        "predict_result=[]\n",
        "for i in range(0,len(predict_result_tree)):\n",
        "  TREE=int(predict_result_tree[i])\n",
        "  KNN=int(predict_result_knn[i])\n",
        "  LR=int(predict_result_lr[i])\n",
        "  ans=TREE+KNN+LR\n",
        "  if(ans>=1):\n",
        "    predict_result.append('1')\n",
        "  else:\n",
        "    predict_result.append('0')\n",
        "  #print(ans)\n",
        "predict_result = pd.DataFrame(predict_result)\n",
        "predict_result.rename( columns={0: 'ans'}, inplace=True)\n",
        "predict_ID=predict_data2.index.astype(str)+\".0\"\n",
        "print(predict_ID.dtype)\n",
        "predict_ID=pd.DataFrame(predict_ID)\n",
        "predict_dataframe = pd.concat([predict_ID,predict_result],axis=1)\n",
        "predict_dataframe.columns=['id','ans']\n",
        "print(predict_dataframe['id'].dtype)\n",
        "predict_dataframe.to_csv('/content/gdrive/MyDrive/資料科學導論/hw1/combine34_ans_test.csv',index=False)"
      ]
    }
  ],
  "metadata": {
    "colab": {
      "collapsed_sections": [
        "KXN1tMbZu2MH",
        "k3MW3H8xu7ON",
        "x-leudeS-m0X",
        "yWJEUQN8ecsh",
        "WlMODax_x8Wz",
        "98KCPqzUyH1Z",
        "dFc49uDUlj2E",
        "XnSShNaj_-lF",
        "691LB4YpWNtX",
        "snMo21TvhxLt",
        "OV-pCHmWh5c-",
        "pKKp9wwsh74-",
        "61PrMsIxh_u3",
        "M1xz4oaIicpJ",
        "xohuh6pi4hsv",
        "HNOqhcQJWhR5"
      ],
      "provenance": []
    },
    "kernelspec": {
      "display_name": "Python 3",
      "name": "python3"
    },
    "language_info": {
      "name": "python"
    }
  },
  "nbformat": 4,
  "nbformat_minor": 0
}