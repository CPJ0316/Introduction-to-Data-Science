{
  "nbformat": 4,
  "nbformat_minor": 0,
  "metadata": {
    "colab": {
      "provenance": []
    },
    "kernelspec": {
      "name": "python3",
      "display_name": "Python 3"
    },
    "language_info": {
      "name": "python"
    }
  },
  "cells": [
    {
      "cell_type": "markdown",
      "source": [
        "# **Import Libraries**"
      ],
      "metadata": {
        "id": "I3qT9XgMQoBN"
      }
    },
    {
      "cell_type": "code",
      "execution_count": null,
      "metadata": {
        "colab": {
          "base_uri": "https://localhost:8080/"
        },
        "id": "KpeCOah1QCr7",
        "outputId": "9ebf45f2-2105-42b7-9a3a-96b494652882"
      },
      "outputs": [
        {
          "output_type": "stream",
          "name": "stdout",
          "text": [
            "Mounted at /content/gdrive\n"
          ]
        }
      ],
      "source": [
        "from google.colab import drive\n",
        "drive.mount('/content/gdrive')\n",
        "import numpy as np\n",
        "import pandas as pd\n",
        "from sklearn.metrics import roc_auc_score\n",
        "from sklearn.model_selection import train_test_split"
      ]
    },
    {
      "cell_type": "markdown",
      "source": [
        "**Import data**"
      ],
      "metadata": {
        "id": "Qkpe6W-KY6mp"
      }
    },
    {
      "cell_type": "code",
      "source": [
        "train_label = pd.read_csv('gdrive/My Drive/ds-final/training_set_labels.csv', index_col=None)\n",
        "train_feature = pd.read_csv('gdrive/My Drive/ds-final/training_set_features.csv', index_col=None)\n",
        "test = pd.read_csv('gdrive/My Drive/ds-final/test_set_features.csv', index_col=None)"
      ],
      "metadata": {
        "id": "bW70nqVgQewD"
      },
      "execution_count": null,
      "outputs": []
    },
    {
      "cell_type": "code",
      "source": [
        "train_label = pd.read_csv('/content/gdrive/MyDrive/data_mining/training_set_labels.csv', index_col=None)\n",
        "train_feature =pd.read_csv('/content/gdrive/MyDrive/data_mining/training_set_features.csv', index_col=None)\n",
        "test = pd.read_csv('/content/gdrive/MyDrive/data_mining/test_set_features.csv', index_col=None)"
      ],
      "metadata": {
        "id": "EVz51iBgdJ31"
      },
      "execution_count": null,
      "outputs": []
    },
    {
      "cell_type": "markdown",
      "source": [
        "# **Data preprocessing**"
      ],
      "metadata": {
        "id": "3DFBEGTNQgnz"
      }
    },
    {
      "cell_type": "code",
      "source": [
        "prediction_ID = pd.DataFrame(test['respondent_id'])"
      ],
      "metadata": {
        "id": "eILazJf7kbfK"
      },
      "execution_count": null,
      "outputs": []
    },
    {
      "cell_type": "code",
      "source": [
        "train_feature = train_feature.drop(['respondent_id'], axis = 1)\n",
        "train_label = train_label.drop(['respondent_id'], axis = 1)\n",
        "test = test.drop(['respondent_id'], axis = 1)"
      ],
      "metadata": {
        "id": "YJNILSM0TYYM"
      },
      "execution_count": null,
      "outputs": []
    },
    {
      "cell_type": "code",
      "source": [
        "train = pd.concat([train_feature, train_label], axis = 1)"
      ],
      "metadata": {
        "id": "jWlEmcNTVXrP"
      },
      "execution_count": null,
      "outputs": []
    },
    {
      "cell_type": "code",
      "source": [
        "train = train.drop(['health_insurance', 'employment_industry', 'employment_occupation'], axis = 1)\n",
        "test = test.drop(['health_insurance', 'employment_industry', 'employment_occupation'], axis = 1)"
      ],
      "metadata": {
        "id": "VIHMkf4VXZxe"
      },
      "execution_count": null,
      "outputs": []
    },
    {
      "cell_type": "markdown",
      "source": [
        "**Handle missing values in training set**"
      ],
      "metadata": {
        "id": "2CV-LhgMZTPp"
      }
    },
    {
      "cell_type": "code",
      "source": [
        "train = train.dropna()\n",
        "# train.info()"
      ],
      "metadata": {
        "id": "ofh5MDtaYGh1"
      },
      "execution_count": null,
      "outputs": []
    },
    {
      "cell_type": "markdown",
      "source": [
        "**Feature encoding in training set and test set**"
      ],
      "metadata": {
        "id": "JoNpTVSSbumi"
      }
    },
    {
      "cell_type": "code",
      "source": [
        "age_group = train['age_group'].unique().tolist()\n",
        "education = train['education'].unique().tolist()\n",
        "race = train['race'].unique().tolist()\n",
        "sex = train['sex'].unique().tolist()\n",
        "income_poverty = train['income_poverty'].unique().tolist()\n",
        "marital_status = train['marital_status'].unique().tolist()\n",
        "rent_or_own = train['rent_or_own'].unique().tolist()\n",
        "employment_status = train['employment_status'].unique().tolist()\n",
        "hhs_geo_region = train['hhs_geo_region'].unique().tolist()\n",
        "census_msa = train['census_msa'].unique().tolist()"
      ],
      "metadata": {
        "id": "hAreRCNARBxw"
      },
      "execution_count": null,
      "outputs": []
    },
    {
      "cell_type": "code",
      "source": [
        "for i in train.index:\n",
        "  for j in range(0, len(race)):\n",
        "   if(train.loc[i, 'race'] == race[j]):\n",
        "       train.loc[i,'race'] = j\n",
        "\n",
        "for i in test.index:\n",
        "  for j in range(0, len(race)):\n",
        "   if(test.loc[i, 'race'] == race[j]):\n",
        "       test.loc[i, 'race'] = j"
      ],
      "metadata": {
        "id": "-NaP4d3ZRFFz"
      },
      "execution_count": null,
      "outputs": []
    },
    {
      "cell_type": "code",
      "source": [
        "for i in train.index:\n",
        "  for j in range(0, len(education)):\n",
        "   if(train.loc[i, 'education'] == education[j]):\n",
        "       train.loc[i, 'education'] = j\n",
        "\n",
        "for i in test.index:\n",
        "  for j in range(0, len(education)):\n",
        "   if(test.loc[i, 'education'] == education[j]):\n",
        "       test.loc[i, 'education'] = j"
      ],
      "metadata": {
        "id": "pVLWDXB9RFox"
      },
      "execution_count": null,
      "outputs": []
    },
    {
      "cell_type": "code",
      "source": [
        "for i in train.index:\n",
        "  for j in range(0, len(age_group)):\n",
        "   if(train.loc[i, 'age_group'] == age_group[j]):\n",
        "       train.loc[i, 'age_group'] = j\n",
        "\n",
        "for i in test.index:\n",
        "  for j in range(0, len(age_group)):\n",
        "   if(test.loc[i, 'age_group'] == age_group[j]):\n",
        "       test.loc[i, 'age_group'] = j"
      ],
      "metadata": {
        "id": "cOyipNBiRHPx"
      },
      "execution_count": null,
      "outputs": []
    },
    {
      "cell_type": "code",
      "source": [
        "for i in train.index:\n",
        "  for j in range(0, len(sex)):\n",
        "   if(train.loc[i, 'sex'] == sex[j]):\n",
        "       train.loc[i, 'sex'] = j\n",
        "\n",
        "for i in test.index:\n",
        "  for j in range(0, len(sex)):\n",
        "   if(test.loc[i, 'sex'] == sex[j]):\n",
        "       test.loc[i, 'sex'] = j"
      ],
      "metadata": {
        "id": "4PG5IqdLRIu9"
      },
      "execution_count": null,
      "outputs": []
    },
    {
      "cell_type": "code",
      "source": [
        "for i in train.index:\n",
        "  for j in range(0, len(income_poverty)):\n",
        "   if(train.loc[i, 'income_poverty'] == income_poverty[j]):\n",
        "       train.loc[i, 'income_poverty'] = j\n",
        "\n",
        "for i in test.index:\n",
        "  for j in range(0, len(income_poverty)):\n",
        "   if(test.loc[i, 'income_poverty'] == income_poverty[j]):\n",
        "       test.loc[i, 'income_poverty'] = j"
      ],
      "metadata": {
        "id": "1dgIU5hoRKh5"
      },
      "execution_count": null,
      "outputs": []
    },
    {
      "cell_type": "code",
      "source": [
        "for i in train.index:\n",
        "  for j in range(0, len(marital_status)):\n",
        "   if(train.loc[i, 'marital_status'] == marital_status[j]):\n",
        "       train.loc[i, 'marital_status'] = j\n",
        "\n",
        "for i in test.index:\n",
        "  for j in range(0, len(marital_status)):\n",
        "   if(test.loc[i, 'marital_status'] == marital_status[j]):\n",
        "       test.loc[i, 'marital_status'] = j"
      ],
      "metadata": {
        "id": "TsU3CN1IRMDr"
      },
      "execution_count": null,
      "outputs": []
    },
    {
      "cell_type": "code",
      "source": [
        "for i in train.index:\n",
        "  for j in range(0, len(employment_status)):\n",
        "   if(train.loc[i, 'employment_status'] == employment_status[j]):\n",
        "       train.loc[i, 'employment_status'] = j\n",
        "\n",
        "for i in test.index:\n",
        "  for j in range(0, len(employment_status)):\n",
        "   if(test.loc[i, 'employment_status'] == employment_status[j]):\n",
        "       test.loc[i, 'employment_status'] = j"
      ],
      "metadata": {
        "id": "2uzpsyIXRNvN"
      },
      "execution_count": null,
      "outputs": []
    },
    {
      "cell_type": "code",
      "source": [
        "for i in train.index:\n",
        "  for j in range(0, len(rent_or_own)):\n",
        "   if(train.loc[i, 'rent_or_own'] == rent_or_own[j]):\n",
        "       train.loc[i, 'rent_or_own'] = j\n",
        "\n",
        "for i in test.index:\n",
        "  for j in range(0, len(rent_or_own)):\n",
        "   if(test.loc[i, 'rent_or_own'] == rent_or_own[j]):\n",
        "       test.loc[i, 'rent_or_own'] = j"
      ],
      "metadata": {
        "id": "zu5YVYxVRPoA"
      },
      "execution_count": null,
      "outputs": []
    },
    {
      "cell_type": "code",
      "source": [
        "for i in train.index:\n",
        "  for j in range(0, len(hhs_geo_region)):\n",
        "   if(train.loc[i, 'hhs_geo_region'] == hhs_geo_region[j]):\n",
        "       train.loc[i, 'hhs_geo_region'] = j\n",
        "\n",
        "for i in test.index:\n",
        "  for j in range(0, len(hhs_geo_region)):\n",
        "   if(test.loc[i, 'hhs_geo_region'] == hhs_geo_region[j]):\n",
        "       test.loc[i, 'hhs_geo_region'] = j"
      ],
      "metadata": {
        "id": "2tk8QrXmRR2Q"
      },
      "execution_count": null,
      "outputs": []
    },
    {
      "cell_type": "code",
      "source": [
        "for i in train.index:\n",
        "  for j in range(0, len(census_msa)):\n",
        "   if(train.loc[i, 'census_msa'] == census_msa[j]):\n",
        "       train.loc[i, 'census_msa'] = j\n",
        "\n",
        "for i in test.index:\n",
        "  for j in range(0, len(census_msa)):\n",
        "   if(test.loc[i, 'census_msa'] == census_msa[j]):\n",
        "       test.loc[i, 'census_msa'] = j"
      ],
      "metadata": {
        "id": "u7zs8JyvRT_6"
      },
      "execution_count": null,
      "outputs": []
    },
    {
      "cell_type": "code",
      "source": [
        "train.head()"
      ],
      "metadata": {
        "colab": {
          "base_uri": "https://localhost:8080/",
          "height": 299
        },
        "id": "PqaqFCvHRViJ",
        "outputId": "4895a106-0957-4c44-cd81-a23e8c6e5b9a"
      },
      "execution_count": null,
      "outputs": [
        {
          "output_type": "execute_result",
          "data": {
            "text/plain": [
              "   h1n1_concern  h1n1_knowledge  behavioral_antiviral_meds  \\\n",
              "0           1.0             0.0                        0.0   \n",
              "1           3.0             2.0                        0.0   \n",
              "3           1.0             1.0                        0.0   \n",
              "4           2.0             1.0                        0.0   \n",
              "5           3.0             1.0                        0.0   \n",
              "\n",
              "   behavioral_avoidance  behavioral_face_mask  behavioral_wash_hands  \\\n",
              "0                   0.0                   0.0                    0.0   \n",
              "1                   1.0                   0.0                    1.0   \n",
              "3                   1.0                   0.0                    1.0   \n",
              "4                   1.0                   0.0                    1.0   \n",
              "5                   1.0                   0.0                    1.0   \n",
              "\n",
              "   behavioral_large_gatherings  behavioral_outside_home  \\\n",
              "0                          0.0                      1.0   \n",
              "1                          0.0                      1.0   \n",
              "3                          1.0                      0.0   \n",
              "4                          1.0                      0.0   \n",
              "5                          0.0                      0.0   \n",
              "\n",
              "   behavioral_touch_face  doctor_recc_h1n1  ...  income_poverty  \\\n",
              "0                    1.0               0.0  ...               0   \n",
              "1                    1.0               0.0  ...               0   \n",
              "3                    0.0               0.0  ...               0   \n",
              "4                    1.0               0.0  ...               1   \n",
              "5                    1.0               0.0  ...               1   \n",
              "\n",
              "   marital_status  rent_or_own  employment_status  hhs_geo_region  census_msa  \\\n",
              "0               0            0                  0               0           0   \n",
              "1               0            1                  1               1           1   \n",
              "3               0            1                  0               2           2   \n",
              "4               1            0                  1               3           1   \n",
              "5               1            0                  1               4           2   \n",
              "\n",
              "   household_adults  household_children  h1n1_vaccine  seasonal_vaccine  \n",
              "0               0.0                 0.0             0                 0  \n",
              "1               0.0                 0.0             0                 1  \n",
              "3               0.0                 0.0             0                 1  \n",
              "4               1.0                 0.0             0                 0  \n",
              "5               2.0                 3.0             0                 0  \n",
              "\n",
              "[5 rows x 34 columns]"
            ],
            "text/html": [
              "\n",
              "  <div id=\"df-d0f53e3c-13c3-4bf8-b3bf-9ad5e80ec386\">\n",
              "    <div class=\"colab-df-container\">\n",
              "      <div>\n",
              "<style scoped>\n",
              "    .dataframe tbody tr th:only-of-type {\n",
              "        vertical-align: middle;\n",
              "    }\n",
              "\n",
              "    .dataframe tbody tr th {\n",
              "        vertical-align: top;\n",
              "    }\n",
              "\n",
              "    .dataframe thead th {\n",
              "        text-align: right;\n",
              "    }\n",
              "</style>\n",
              "<table border=\"1\" class=\"dataframe\">\n",
              "  <thead>\n",
              "    <tr style=\"text-align: right;\">\n",
              "      <th></th>\n",
              "      <th>h1n1_concern</th>\n",
              "      <th>h1n1_knowledge</th>\n",
              "      <th>behavioral_antiviral_meds</th>\n",
              "      <th>behavioral_avoidance</th>\n",
              "      <th>behavioral_face_mask</th>\n",
              "      <th>behavioral_wash_hands</th>\n",
              "      <th>behavioral_large_gatherings</th>\n",
              "      <th>behavioral_outside_home</th>\n",
              "      <th>behavioral_touch_face</th>\n",
              "      <th>doctor_recc_h1n1</th>\n",
              "      <th>...</th>\n",
              "      <th>income_poverty</th>\n",
              "      <th>marital_status</th>\n",
              "      <th>rent_or_own</th>\n",
              "      <th>employment_status</th>\n",
              "      <th>hhs_geo_region</th>\n",
              "      <th>census_msa</th>\n",
              "      <th>household_adults</th>\n",
              "      <th>household_children</th>\n",
              "      <th>h1n1_vaccine</th>\n",
              "      <th>seasonal_vaccine</th>\n",
              "    </tr>\n",
              "  </thead>\n",
              "  <tbody>\n",
              "    <tr>\n",
              "      <th>0</th>\n",
              "      <td>1.0</td>\n",
              "      <td>0.0</td>\n",
              "      <td>0.0</td>\n",
              "      <td>0.0</td>\n",
              "      <td>0.0</td>\n",
              "      <td>0.0</td>\n",
              "      <td>0.0</td>\n",
              "      <td>1.0</td>\n",
              "      <td>1.0</td>\n",
              "      <td>0.0</td>\n",
              "      <td>...</td>\n",
              "      <td>0</td>\n",
              "      <td>0</td>\n",
              "      <td>0</td>\n",
              "      <td>0</td>\n",
              "      <td>0</td>\n",
              "      <td>0</td>\n",
              "      <td>0.0</td>\n",
              "      <td>0.0</td>\n",
              "      <td>0</td>\n",
              "      <td>0</td>\n",
              "    </tr>\n",
              "    <tr>\n",
              "      <th>1</th>\n",
              "      <td>3.0</td>\n",
              "      <td>2.0</td>\n",
              "      <td>0.0</td>\n",
              "      <td>1.0</td>\n",
              "      <td>0.0</td>\n",
              "      <td>1.0</td>\n",
              "      <td>0.0</td>\n",
              "      <td>1.0</td>\n",
              "      <td>1.0</td>\n",
              "      <td>0.0</td>\n",
              "      <td>...</td>\n",
              "      <td>0</td>\n",
              "      <td>0</td>\n",
              "      <td>1</td>\n",
              "      <td>1</td>\n",
              "      <td>1</td>\n",
              "      <td>1</td>\n",
              "      <td>0.0</td>\n",
              "      <td>0.0</td>\n",
              "      <td>0</td>\n",
              "      <td>1</td>\n",
              "    </tr>\n",
              "    <tr>\n",
              "      <th>3</th>\n",
              "      <td>1.0</td>\n",
              "      <td>1.0</td>\n",
              "      <td>0.0</td>\n",
              "      <td>1.0</td>\n",
              "      <td>0.0</td>\n",
              "      <td>1.0</td>\n",
              "      <td>1.0</td>\n",
              "      <td>0.0</td>\n",
              "      <td>0.0</td>\n",
              "      <td>0.0</td>\n",
              "      <td>...</td>\n",
              "      <td>0</td>\n",
              "      <td>0</td>\n",
              "      <td>1</td>\n",
              "      <td>0</td>\n",
              "      <td>2</td>\n",
              "      <td>2</td>\n",
              "      <td>0.0</td>\n",
              "      <td>0.0</td>\n",
              "      <td>0</td>\n",
              "      <td>1</td>\n",
              "    </tr>\n",
              "    <tr>\n",
              "      <th>4</th>\n",
              "      <td>2.0</td>\n",
              "      <td>1.0</td>\n",
              "      <td>0.0</td>\n",
              "      <td>1.0</td>\n",
              "      <td>0.0</td>\n",
              "      <td>1.0</td>\n",
              "      <td>1.0</td>\n",
              "      <td>0.0</td>\n",
              "      <td>1.0</td>\n",
              "      <td>0.0</td>\n",
              "      <td>...</td>\n",
              "      <td>1</td>\n",
              "      <td>1</td>\n",
              "      <td>0</td>\n",
              "      <td>1</td>\n",
              "      <td>3</td>\n",
              "      <td>1</td>\n",
              "      <td>1.0</td>\n",
              "      <td>0.0</td>\n",
              "      <td>0</td>\n",
              "      <td>0</td>\n",
              "    </tr>\n",
              "    <tr>\n",
              "      <th>5</th>\n",
              "      <td>3.0</td>\n",
              "      <td>1.0</td>\n",
              "      <td>0.0</td>\n",
              "      <td>1.0</td>\n",
              "      <td>0.0</td>\n",
              "      <td>1.0</td>\n",
              "      <td>0.0</td>\n",
              "      <td>0.0</td>\n",
              "      <td>1.0</td>\n",
              "      <td>0.0</td>\n",
              "      <td>...</td>\n",
              "      <td>1</td>\n",
              "      <td>1</td>\n",
              "      <td>0</td>\n",
              "      <td>1</td>\n",
              "      <td>4</td>\n",
              "      <td>2</td>\n",
              "      <td>2.0</td>\n",
              "      <td>3.0</td>\n",
              "      <td>0</td>\n",
              "      <td>0</td>\n",
              "    </tr>\n",
              "  </tbody>\n",
              "</table>\n",
              "<p>5 rows × 34 columns</p>\n",
              "</div>\n",
              "      <button class=\"colab-df-convert\" onclick=\"convertToInteractive('df-d0f53e3c-13c3-4bf8-b3bf-9ad5e80ec386')\"\n",
              "              title=\"Convert this dataframe to an interactive table.\"\n",
              "              style=\"display:none;\">\n",
              "        \n",
              "  <svg xmlns=\"http://www.w3.org/2000/svg\" height=\"24px\"viewBox=\"0 0 24 24\"\n",
              "       width=\"24px\">\n",
              "    <path d=\"M0 0h24v24H0V0z\" fill=\"none\"/>\n",
              "    <path d=\"M18.56 5.44l.94 2.06.94-2.06 2.06-.94-2.06-.94-.94-2.06-.94 2.06-2.06.94zm-11 1L8.5 8.5l.94-2.06 2.06-.94-2.06-.94L8.5 2.5l-.94 2.06-2.06.94zm10 10l.94 2.06.94-2.06 2.06-.94-2.06-.94-.94-2.06-.94 2.06-2.06.94z\"/><path d=\"M17.41 7.96l-1.37-1.37c-.4-.4-.92-.59-1.43-.59-.52 0-1.04.2-1.43.59L10.3 9.45l-7.72 7.72c-.78.78-.78 2.05 0 2.83L4 21.41c.39.39.9.59 1.41.59.51 0 1.02-.2 1.41-.59l7.78-7.78 2.81-2.81c.8-.78.8-2.07 0-2.86zM5.41 20L4 18.59l7.72-7.72 1.47 1.35L5.41 20z\"/>\n",
              "  </svg>\n",
              "      </button>\n",
              "      \n",
              "  <style>\n",
              "    .colab-df-container {\n",
              "      display:flex;\n",
              "      flex-wrap:wrap;\n",
              "      gap: 12px;\n",
              "    }\n",
              "\n",
              "    .colab-df-convert {\n",
              "      background-color: #E8F0FE;\n",
              "      border: none;\n",
              "      border-radius: 50%;\n",
              "      cursor: pointer;\n",
              "      display: none;\n",
              "      fill: #1967D2;\n",
              "      height: 32px;\n",
              "      padding: 0 0 0 0;\n",
              "      width: 32px;\n",
              "    }\n",
              "\n",
              "    .colab-df-convert:hover {\n",
              "      background-color: #E2EBFA;\n",
              "      box-shadow: 0px 1px 2px rgba(60, 64, 67, 0.3), 0px 1px 3px 1px rgba(60, 64, 67, 0.15);\n",
              "      fill: #174EA6;\n",
              "    }\n",
              "\n",
              "    [theme=dark] .colab-df-convert {\n",
              "      background-color: #3B4455;\n",
              "      fill: #D2E3FC;\n",
              "    }\n",
              "\n",
              "    [theme=dark] .colab-df-convert:hover {\n",
              "      background-color: #434B5C;\n",
              "      box-shadow: 0px 1px 3px 1px rgba(0, 0, 0, 0.15);\n",
              "      filter: drop-shadow(0px 1px 2px rgba(0, 0, 0, 0.3));\n",
              "      fill: #FFFFFF;\n",
              "    }\n",
              "  </style>\n",
              "\n",
              "      <script>\n",
              "        const buttonEl =\n",
              "          document.querySelector('#df-d0f53e3c-13c3-4bf8-b3bf-9ad5e80ec386 button.colab-df-convert');\n",
              "        buttonEl.style.display =\n",
              "          google.colab.kernel.accessAllowed ? 'block' : 'none';\n",
              "\n",
              "        async function convertToInteractive(key) {\n",
              "          const element = document.querySelector('#df-d0f53e3c-13c3-4bf8-b3bf-9ad5e80ec386');\n",
              "          const dataTable =\n",
              "            await google.colab.kernel.invokeFunction('convertToInteractive',\n",
              "                                                     [key], {});\n",
              "          if (!dataTable) return;\n",
              "\n",
              "          const docLinkHtml = 'Like what you see? Visit the ' +\n",
              "            '<a target=\"_blank\" href=https://colab.research.google.com/notebooks/data_table.ipynb>data table notebook</a>'\n",
              "            + ' to learn more about interactive tables.';\n",
              "          element.innerHTML = '';\n",
              "          dataTable['output_type'] = 'display_data';\n",
              "          await google.colab.output.renderOutput(dataTable, element);\n",
              "          const docLink = document.createElement('div');\n",
              "          docLink.innerHTML = docLinkHtml;\n",
              "          element.appendChild(docLink);\n",
              "        }\n",
              "      </script>\n",
              "    </div>\n",
              "  </div>\n",
              "  "
            ]
          },
          "metadata": {},
          "execution_count": 24
        }
      ]
    },
    {
      "cell_type": "markdown",
      "source": [
        "**Handle missing values in test set using median strategy**"
      ],
      "metadata": {
        "id": "KjB5zKqEbUdz"
      }
    },
    {
      "cell_type": "code",
      "source": [
        "for i in test.columns:\n",
        "  median = test[i].median()\n",
        "  test[i].fillna(value = median, inplace=True)\n",
        "# test.info()\n",
        "test.head()"
      ],
      "metadata": {
        "colab": {
          "base_uri": "https://localhost:8080/",
          "height": 299
        },
        "id": "wTjtboLybQb8",
        "outputId": "5c924a7f-32c5-433a-962a-5254c684c65d"
      },
      "execution_count": null,
      "outputs": [
        {
          "output_type": "execute_result",
          "data": {
            "text/plain": [
              "   h1n1_concern  h1n1_knowledge  behavioral_antiviral_meds  \\\n",
              "0           2.0             2.0                        0.0   \n",
              "1           1.0             1.0                        0.0   \n",
              "2           2.0             2.0                        0.0   \n",
              "3           1.0             1.0                        0.0   \n",
              "4           3.0             1.0                        1.0   \n",
              "\n",
              "   behavioral_avoidance  behavioral_face_mask  behavioral_wash_hands  \\\n",
              "0                   1.0                   0.0                    1.0   \n",
              "1                   0.0                   0.0                    0.0   \n",
              "2                   0.0                   1.0                    1.0   \n",
              "3                   0.0                   0.0                    0.0   \n",
              "4                   1.0                   0.0                    1.0   \n",
              "\n",
              "   behavioral_large_gatherings  behavioral_outside_home  \\\n",
              "0                          1.0                      0.0   \n",
              "1                          0.0                      0.0   \n",
              "2                          1.0                      1.0   \n",
              "3                          0.0                      0.0   \n",
              "4                          1.0                      1.0   \n",
              "\n",
              "   behavioral_touch_face  doctor_recc_h1n1  ...  race  sex  income_poverty  \\\n",
              "0                    1.0               0.0  ...     2    0             2.0   \n",
              "1                    0.0               0.0  ...     0    1             0.0   \n",
              "2                    1.0               0.0  ...     0    1             2.0   \n",
              "3                    0.0               1.0  ...     0    0             1.0   \n",
              "4                    1.0               0.0  ...     1    0             1.0   \n",
              "\n",
              "   marital_status  rent_or_own  employment_status  hhs_geo_region  census_msa  \\\n",
              "0             0.0          1.0                1.0               7           1   \n",
              "1             0.0          1.0                1.0               1           0   \n",
              "2             1.0          0.0                1.0               2           0   \n",
              "3             1.0          0.0                0.0               2           1   \n",
              "4             0.0          0.0                1.0               5           0   \n",
              "\n",
              "   household_adults  household_children  \n",
              "0               1.0                 0.0  \n",
              "1               3.0                 0.0  \n",
              "2               1.0                 0.0  \n",
              "3               1.0                 0.0  \n",
              "4               0.0                 1.0  \n",
              "\n",
              "[5 rows x 32 columns]"
            ],
            "text/html": [
              "\n",
              "  <div id=\"df-12a6819e-6e3f-4b16-b2aa-0881e600d5ff\">\n",
              "    <div class=\"colab-df-container\">\n",
              "      <div>\n",
              "<style scoped>\n",
              "    .dataframe tbody tr th:only-of-type {\n",
              "        vertical-align: middle;\n",
              "    }\n",
              "\n",
              "    .dataframe tbody tr th {\n",
              "        vertical-align: top;\n",
              "    }\n",
              "\n",
              "    .dataframe thead th {\n",
              "        text-align: right;\n",
              "    }\n",
              "</style>\n",
              "<table border=\"1\" class=\"dataframe\">\n",
              "  <thead>\n",
              "    <tr style=\"text-align: right;\">\n",
              "      <th></th>\n",
              "      <th>h1n1_concern</th>\n",
              "      <th>h1n1_knowledge</th>\n",
              "      <th>behavioral_antiviral_meds</th>\n",
              "      <th>behavioral_avoidance</th>\n",
              "      <th>behavioral_face_mask</th>\n",
              "      <th>behavioral_wash_hands</th>\n",
              "      <th>behavioral_large_gatherings</th>\n",
              "      <th>behavioral_outside_home</th>\n",
              "      <th>behavioral_touch_face</th>\n",
              "      <th>doctor_recc_h1n1</th>\n",
              "      <th>...</th>\n",
              "      <th>race</th>\n",
              "      <th>sex</th>\n",
              "      <th>income_poverty</th>\n",
              "      <th>marital_status</th>\n",
              "      <th>rent_or_own</th>\n",
              "      <th>employment_status</th>\n",
              "      <th>hhs_geo_region</th>\n",
              "      <th>census_msa</th>\n",
              "      <th>household_adults</th>\n",
              "      <th>household_children</th>\n",
              "    </tr>\n",
              "  </thead>\n",
              "  <tbody>\n",
              "    <tr>\n",
              "      <th>0</th>\n",
              "      <td>2.0</td>\n",
              "      <td>2.0</td>\n",
              "      <td>0.0</td>\n",
              "      <td>1.0</td>\n",
              "      <td>0.0</td>\n",
              "      <td>1.0</td>\n",
              "      <td>1.0</td>\n",
              "      <td>0.0</td>\n",
              "      <td>1.0</td>\n",
              "      <td>0.0</td>\n",
              "      <td>...</td>\n",
              "      <td>2</td>\n",
              "      <td>0</td>\n",
              "      <td>2.0</td>\n",
              "      <td>0.0</td>\n",
              "      <td>1.0</td>\n",
              "      <td>1.0</td>\n",
              "      <td>7</td>\n",
              "      <td>1</td>\n",
              "      <td>1.0</td>\n",
              "      <td>0.0</td>\n",
              "    </tr>\n",
              "    <tr>\n",
              "      <th>1</th>\n",
              "      <td>1.0</td>\n",
              "      <td>1.0</td>\n",
              "      <td>0.0</td>\n",
              "      <td>0.0</td>\n",
              "      <td>0.0</td>\n",
              "      <td>0.0</td>\n",
              "      <td>0.0</td>\n",
              "      <td>0.0</td>\n",
              "      <td>0.0</td>\n",
              "      <td>0.0</td>\n",
              "      <td>...</td>\n",
              "      <td>0</td>\n",
              "      <td>1</td>\n",
              "      <td>0.0</td>\n",
              "      <td>0.0</td>\n",
              "      <td>1.0</td>\n",
              "      <td>1.0</td>\n",
              "      <td>1</td>\n",
              "      <td>0</td>\n",
              "      <td>3.0</td>\n",
              "      <td>0.0</td>\n",
              "    </tr>\n",
              "    <tr>\n",
              "      <th>2</th>\n",
              "      <td>2.0</td>\n",
              "      <td>2.0</td>\n",
              "      <td>0.0</td>\n",
              "      <td>0.0</td>\n",
              "      <td>1.0</td>\n",
              "      <td>1.0</td>\n",
              "      <td>1.0</td>\n",
              "      <td>1.0</td>\n",
              "      <td>1.0</td>\n",
              "      <td>0.0</td>\n",
              "      <td>...</td>\n",
              "      <td>0</td>\n",
              "      <td>1</td>\n",
              "      <td>2.0</td>\n",
              "      <td>1.0</td>\n",
              "      <td>0.0</td>\n",
              "      <td>1.0</td>\n",
              "      <td>2</td>\n",
              "      <td>0</td>\n",
              "      <td>1.0</td>\n",
              "      <td>0.0</td>\n",
              "    </tr>\n",
              "    <tr>\n",
              "      <th>3</th>\n",
              "      <td>1.0</td>\n",
              "      <td>1.0</td>\n",
              "      <td>0.0</td>\n",
              "      <td>0.0</td>\n",
              "      <td>0.0</td>\n",
              "      <td>0.0</td>\n",
              "      <td>0.0</td>\n",
              "      <td>0.0</td>\n",
              "      <td>0.0</td>\n",
              "      <td>1.0</td>\n",
              "      <td>...</td>\n",
              "      <td>0</td>\n",
              "      <td>0</td>\n",
              "      <td>1.0</td>\n",
              "      <td>1.0</td>\n",
              "      <td>0.0</td>\n",
              "      <td>0.0</td>\n",
              "      <td>2</td>\n",
              "      <td>1</td>\n",
              "      <td>1.0</td>\n",
              "      <td>0.0</td>\n",
              "    </tr>\n",
              "    <tr>\n",
              "      <th>4</th>\n",
              "      <td>3.0</td>\n",
              "      <td>1.0</td>\n",
              "      <td>1.0</td>\n",
              "      <td>1.0</td>\n",
              "      <td>0.0</td>\n",
              "      <td>1.0</td>\n",
              "      <td>1.0</td>\n",
              "      <td>1.0</td>\n",
              "      <td>1.0</td>\n",
              "      <td>0.0</td>\n",
              "      <td>...</td>\n",
              "      <td>1</td>\n",
              "      <td>0</td>\n",
              "      <td>1.0</td>\n",
              "      <td>0.0</td>\n",
              "      <td>0.0</td>\n",
              "      <td>1.0</td>\n",
              "      <td>5</td>\n",
              "      <td>0</td>\n",
              "      <td>0.0</td>\n",
              "      <td>1.0</td>\n",
              "    </tr>\n",
              "  </tbody>\n",
              "</table>\n",
              "<p>5 rows × 32 columns</p>\n",
              "</div>\n",
              "      <button class=\"colab-df-convert\" onclick=\"convertToInteractive('df-12a6819e-6e3f-4b16-b2aa-0881e600d5ff')\"\n",
              "              title=\"Convert this dataframe to an interactive table.\"\n",
              "              style=\"display:none;\">\n",
              "        \n",
              "  <svg xmlns=\"http://www.w3.org/2000/svg\" height=\"24px\"viewBox=\"0 0 24 24\"\n",
              "       width=\"24px\">\n",
              "    <path d=\"M0 0h24v24H0V0z\" fill=\"none\"/>\n",
              "    <path d=\"M18.56 5.44l.94 2.06.94-2.06 2.06-.94-2.06-.94-.94-2.06-.94 2.06-2.06.94zm-11 1L8.5 8.5l.94-2.06 2.06-.94-2.06-.94L8.5 2.5l-.94 2.06-2.06.94zm10 10l.94 2.06.94-2.06 2.06-.94-2.06-.94-.94-2.06-.94 2.06-2.06.94z\"/><path d=\"M17.41 7.96l-1.37-1.37c-.4-.4-.92-.59-1.43-.59-.52 0-1.04.2-1.43.59L10.3 9.45l-7.72 7.72c-.78.78-.78 2.05 0 2.83L4 21.41c.39.39.9.59 1.41.59.51 0 1.02-.2 1.41-.59l7.78-7.78 2.81-2.81c.8-.78.8-2.07 0-2.86zM5.41 20L4 18.59l7.72-7.72 1.47 1.35L5.41 20z\"/>\n",
              "  </svg>\n",
              "      </button>\n",
              "      \n",
              "  <style>\n",
              "    .colab-df-container {\n",
              "      display:flex;\n",
              "      flex-wrap:wrap;\n",
              "      gap: 12px;\n",
              "    }\n",
              "\n",
              "    .colab-df-convert {\n",
              "      background-color: #E8F0FE;\n",
              "      border: none;\n",
              "      border-radius: 50%;\n",
              "      cursor: pointer;\n",
              "      display: none;\n",
              "      fill: #1967D2;\n",
              "      height: 32px;\n",
              "      padding: 0 0 0 0;\n",
              "      width: 32px;\n",
              "    }\n",
              "\n",
              "    .colab-df-convert:hover {\n",
              "      background-color: #E2EBFA;\n",
              "      box-shadow: 0px 1px 2px rgba(60, 64, 67, 0.3), 0px 1px 3px 1px rgba(60, 64, 67, 0.15);\n",
              "      fill: #174EA6;\n",
              "    }\n",
              "\n",
              "    [theme=dark] .colab-df-convert {\n",
              "      background-color: #3B4455;\n",
              "      fill: #D2E3FC;\n",
              "    }\n",
              "\n",
              "    [theme=dark] .colab-df-convert:hover {\n",
              "      background-color: #434B5C;\n",
              "      box-shadow: 0px 1px 3px 1px rgba(0, 0, 0, 0.15);\n",
              "      filter: drop-shadow(0px 1px 2px rgba(0, 0, 0, 0.3));\n",
              "      fill: #FFFFFF;\n",
              "    }\n",
              "  </style>\n",
              "\n",
              "      <script>\n",
              "        const buttonEl =\n",
              "          document.querySelector('#df-12a6819e-6e3f-4b16-b2aa-0881e600d5ff button.colab-df-convert');\n",
              "        buttonEl.style.display =\n",
              "          google.colab.kernel.accessAllowed ? 'block' : 'none';\n",
              "\n",
              "        async function convertToInteractive(key) {\n",
              "          const element = document.querySelector('#df-12a6819e-6e3f-4b16-b2aa-0881e600d5ff');\n",
              "          const dataTable =\n",
              "            await google.colab.kernel.invokeFunction('convertToInteractive',\n",
              "                                                     [key], {});\n",
              "          if (!dataTable) return;\n",
              "\n",
              "          const docLinkHtml = 'Like what you see? Visit the ' +\n",
              "            '<a target=\"_blank\" href=https://colab.research.google.com/notebooks/data_table.ipynb>data table notebook</a>'\n",
              "            + ' to learn more about interactive tables.';\n",
              "          element.innerHTML = '';\n",
              "          dataTable['output_type'] = 'display_data';\n",
              "          await google.colab.output.renderOutput(dataTable, element);\n",
              "          const docLink = document.createElement('div');\n",
              "          docLink.innerHTML = docLinkHtml;\n",
              "          element.appendChild(docLink);\n",
              "        }\n",
              "      </script>\n",
              "    </div>\n",
              "  </div>\n",
              "  "
            ]
          },
          "metadata": {},
          "execution_count": 25
        }
      ]
    },
    {
      "cell_type": "markdown",
      "source": [
        "# **Train, Test Data**"
      ],
      "metadata": {
        "id": "Yk1lJ7FRRim8"
      }
    },
    {
      "cell_type": "markdown",
      "source": [
        "**Splitting data**"
      ],
      "metadata": {
        "id": "WHmWM3t0fOhg"
      }
    },
    {
      "cell_type": "code",
      "source": [],
      "metadata": {
        "id": "Xf8YHFddNQ0_"
      },
      "execution_count": null,
      "outputs": []
    },
    {
      "cell_type": "code",
      "source": [
        "X = train.drop(['h1n1_vaccine', 'seasonal_vaccine'], axis = 1)\n",
        "y = train[['h1n1_vaccine', 'seasonal_vaccine']]"
      ],
      "metadata": {
        "id": "plq2O0deeuNC"
      },
      "execution_count": null,
      "outputs": []
    },
    {
      "cell_type": "code",
      "source": [
        "X.age_group = pd.to_numeric(X.age_group)\n",
        "X.education = pd.to_numeric(X.education)\n",
        "X.race = pd.to_numeric(X.race)\n",
        "X.sex = pd.to_numeric(X.sex)\n",
        "X.income_poverty = pd.to_numeric(X.income_poverty)\n",
        "X.marital_status = pd.to_numeric(X.marital_status)\n",
        "X.rent_or_own = pd.to_numeric(X.rent_or_own)\n",
        "X.employment_status = pd.to_numeric(X.employment_status)\n",
        "X.hhs_geo_region = pd.to_numeric(X.hhs_geo_region)\n",
        "X.census_msa = pd.to_numeric(X.census_msa)"
      ],
      "metadata": {
        "id": "x1_3BLl7mMWb"
      },
      "execution_count": null,
      "outputs": []
    },
    {
      "cell_type": "code",
      "source": [
        "X_train, X_test, y_train, y_test = train_test_split(X, y, test_size = 0.3, random_state = 20)\n",
        "X_train.shape, X_test.shape, y_train.shape, y_test.shape"
      ],
      "metadata": {
        "colab": {
          "base_uri": "https://localhost:8080/"
        },
        "id": "6_Nhe2XlRn1E",
        "outputId": "90ad161a-688e-455c-e40a-d76ee47d6e19"
      },
      "execution_count": null,
      "outputs": [
        {
          "output_type": "execute_result",
          "data": {
            "text/plain": [
              "((13749, 32), (5893, 32), (13749, 2), (5893, 2))"
            ]
          },
          "metadata": {},
          "execution_count": 46
        }
      ]
    },
    {
      "cell_type": "markdown",
      "source": [
        "# **Models**"
      ],
      "metadata": {
        "id": "2FzvlHsbR0pA"
      }
    },
    {
      "cell_type": "code",
      "source": [
        "from sklearn.linear_model import Ridge\n",
        "from sklearn.linear_model import LinearRegression\n",
        "from xgboost.sklearn import XGBRegressor\n",
        "from sklearn.multioutput import MultiOutputRegressor\n",
        "from sklearn import linear_model\n",
        "from sklearn.svm import SVR\n",
        "from sklearn.pipeline import make_pipeline\n",
        "from sklearn.preprocessing import StandardScaler"
      ],
      "metadata": {
        "id": "RRf10adwfZ9I"
      },
      "execution_count": null,
      "outputs": []
    },
    {
      "cell_type": "markdown",
      "source": [
        "**1. Ridge Regression**"
      ],
      "metadata": {
        "id": "Tmm2w1-bR31o"
      }
    },
    {
      "cell_type": "code",
      "source": [
        "ridge = MultiOutputRegressor(Ridge(alpha = 0))\n",
        "ridge.fit(X_train, y_train)\n",
        "\n",
        "y_pred_ridge = ridge.predict(X_test)\n",
        "\n",
        "roc_auc_ridge = round(roc_auc_score(y_test, y_pred_ridge, average = 'macro') * 100, 2)"
      ],
      "metadata": {
        "id": "kgcFq27WSJHA"
      },
      "execution_count": null,
      "outputs": []
    },
    {
      "cell_type": "code",
      "source": [
        "roc_auc_ridge"
      ],
      "metadata": {
        "colab": {
          "base_uri": "https://localhost:8080/"
        },
        "id": "HpWGWnCRke2m",
        "outputId": "9869f2e4-a384-4c93-f2f4-48174ac8f8b3"
      },
      "execution_count": null,
      "outputs": [
        {
          "output_type": "execute_result",
          "data": {
            "text/plain": [
              "84.13"
            ]
          },
          "metadata": {},
          "execution_count": 67
        }
      ]
    },
    {
      "cell_type": "code",
      "source": [
        "ridge.fit(X, y)\n",
        "ridge_pred = ridge.predict(test)"
      ],
      "metadata": {
        "id": "3z14trJ7hR7B"
      },
      "execution_count": null,
      "outputs": []
    },
    {
      "cell_type": "markdown",
      "source": [
        "**2. Linear Regression**"
      ],
      "metadata": {
        "id": "CJq8WKBTR6SK"
      }
    },
    {
      "cell_type": "code",
      "source": [
        "linear = MultiOutputRegressor(LinearRegression())\n",
        "linear.fit(X_train, y_train)\n",
        "\n",
        "y_pred_linear = linear.predict(X_test)\n",
        "\n",
        "roc_auc_linear = round(roc_auc_score(y_test, y_pred_linear, average = 'macro') * 100, 2)"
      ],
      "metadata": {
        "id": "23Vo5jQBSJsZ"
      },
      "execution_count": null,
      "outputs": []
    },
    {
      "cell_type": "code",
      "source": [
        "roc_auc_linear"
      ],
      "metadata": {
        "colab": {
          "base_uri": "https://localhost:8080/"
        },
        "id": "JHl9smTXkY4M",
        "outputId": "7e935a6d-dd3e-46e9-ce10-94d86b9b8e23"
      },
      "execution_count": null,
      "outputs": [
        {
          "output_type": "execute_result",
          "data": {
            "text/plain": [
              "84.21"
            ]
          },
          "metadata": {},
          "execution_count": 66
        }
      ]
    },
    {
      "cell_type": "code",
      "source": [
        "linear.fit(X, y)\n",
        "linear_pred = linear.predict(test)"
      ],
      "metadata": {
        "id": "L20MTrtpiaDF"
      },
      "execution_count": null,
      "outputs": []
    },
    {
      "cell_type": "code",
      "source": [
        "# BayesianRidge\n",
        "clf = MultiOutputRegressor(linear_model.BayesianRidge())\n",
        "clf.fit(X_train, y_train)\n",
        "\n",
        "y_pred_BayesianRidge = clf.predict(X_test)\n",
        "roc_auc_linear = round(roc_auc_score(y_test, y_pred_BayesianRidge, average = 'macro') * 100, 2)\n",
        "roc_auc_linear"
      ],
      "metadata": {
        "colab": {
          "base_uri": "https://localhost:8080/"
        },
        "id": "3BdFHqd7jgOS",
        "outputId": "ced4a132-2397-4ca7-90cb-9a40bee64638"
      },
      "execution_count": null,
      "outputs": [
        {
          "output_type": "execute_result",
          "data": {
            "text/plain": [
              "84.12"
            ]
          },
          "metadata": {},
          "execution_count": 72
        }
      ]
    },
    {
      "cell_type": "code",
      "source": [
        "# SVR\n",
        "regr = MultiOutputRegressor(make_pipeline(StandardScaler(), SVR(kernel='rbf', C=1.0, epsilon=0.2)))\n",
        "regr.fit(X_train, y_train)"
      ],
      "metadata": {
        "colab": {
          "base_uri": "https://localhost:8080/"
        },
        "id": "XSaeqivDlS1I",
        "outputId": "30aedfb7-2d90-425e-a1b6-cbd7beaf374d"
      },
      "execution_count": null,
      "outputs": [
        {
          "output_type": "execute_result",
          "data": {
            "text/plain": [
              "MultiOutputRegressor(estimator=Pipeline(steps=[('standardscaler',\n",
              "                                                StandardScaler()),\n",
              "                                               ('svr', SVR(epsilon=0.2))]))"
            ]
          },
          "metadata": {},
          "execution_count": 94
        }
      ]
    },
    {
      "cell_type": "code",
      "source": [
        "y_pred_SVR = regr.predict(X_test)\n",
        "roc_auc_SVR = round(roc_auc_score(y_test, y_pred_SVR, average = 'macro') * 100, 2)\n",
        "roc_auc_SVR"
      ],
      "metadata": {
        "colab": {
          "base_uri": "https://localhost:8080/"
        },
        "id": "-i-lYTVQl5Ke",
        "outputId": "55674b82-f0b4-4e3a-e917-55b9938061e4"
      },
      "execution_count": null,
      "outputs": [
        {
          "output_type": "execute_result",
          "data": {
            "text/plain": [
              "82.43"
            ]
          },
          "metadata": {},
          "execution_count": 96
        }
      ]
    },
    {
      "cell_type": "code",
      "source": [
        "SVR_pred = regr.predict(test)"
      ],
      "metadata": {
        "id": "OX1LBteSsnhZ"
      },
      "execution_count": null,
      "outputs": []
    },
    {
      "cell_type": "markdown",
      "source": [
        "**3. XGBoost**"
      ],
      "metadata": {
        "id": "bbFVFyv7SNc3"
      }
    },
    {
      "cell_type": "code",
      "source": [
        "# xgb = MultiOutputRegressor(XGBRegressor(objective = 'reg:squarederror'))\n",
        "# xgb.fit(X_train, y_train)\n",
        "# y_pred_xgb = xgb.predict(X_test)\n",
        "# roc_auc_xgb = round(roc_auc_score(y_test, y_pred_xgb, average = 'macro') * 100, 2)\n",
        "# roc_auc_xgb"
      ],
      "metadata": {
        "id": "Bqnh3ukF8k4C"
      },
      "execution_count": null,
      "outputs": []
    },
    {
      "cell_type": "code",
      "source": [
        "# xgb = MultiOutputRegressor(XGBRegressor(objective = 'reg:squarederror',\n",
        "#                                         learning_rate = .1,\n",
        "#                                         n_estimators = 140,\n",
        "#                                         max_depth = 3,\n",
        "#                                         min_child_weight = 1,\n",
        "#                                         gamma = 0,\n",
        "#                                         subsample = .8,\n",
        "#                                         colsample_bytree = .8,\n",
        "#                                         scale_pos_weight = 1))\n",
        "# xgb.fit(X_train, y_train)\n",
        "# y_pred_xgb = xgb.predict(X_test)\n",
        "# roc_auc_xgb = round(roc_auc_score(y_test, y_pred_xgb, average = 'macro') * 100, 2)\n",
        "# roc_auc_xgb"
      ],
      "metadata": {
        "id": "jw3trDHuSQuh",
        "colab": {
          "base_uri": "https://localhost:8080/"
        },
        "outputId": "b6134c21-bfe0-45cc-ee89-d4ae4d1d3582"
      },
      "execution_count": null,
      "outputs": [
        {
          "output_type": "execute_result",
          "data": {
            "text/plain": [
              "85.22"
            ]
          },
          "metadata": {},
          "execution_count": 51
        }
      ]
    },
    {
      "cell_type": "code",
      "source": [
        "# for i in [2, 3, 4]:\n",
        "#   xgb = MultiOutputRegressor(XGBRegressor(objective = 'reg:squarederror',\n",
        "#                                         learning_rate = .1,\n",
        "#                                         n_estimators = 140,\n",
        "#                                         max_depth = i,\n",
        "#                                         min_child_weight = 1,\n",
        "#                                         gamma = 0,\n",
        "#                                         subsample = .8,\n",
        "#                                         colsample_bytree = .8,\n",
        "#                                         scale_pos_weight = 1))\n",
        "#   xgb.fit(X_train, y_train)\n",
        "#   y_pred_xgb = xgb.predict(X_test)\n",
        "#   print('max_depth: ', i, '\\tscore: ', round(roc_auc_score(y_test, y_pred_xgb, average = 'macro') * 100, 2))"
      ],
      "metadata": {
        "id": "qnb6YSraEOYB",
        "colab": {
          "base_uri": "https://localhost:8080/"
        },
        "outputId": "e472995d-b9a1-4221-ba7b-bd3c50098431"
      },
      "execution_count": null,
      "outputs": [
        {
          "output_type": "stream",
          "name": "stdout",
          "text": [
            "max_depth:  2 \tscore:  85.1\n",
            "max_depth:  3 \tscore:  85.22\n",
            "max_depth:  4 \tscore:  85.2\n"
          ]
        }
      ]
    },
    {
      "cell_type": "code",
      "source": [
        "# for i in range(0, 6):\n",
        "#   xgb = MultiOutputRegressor(XGBRegressor(objective = 'reg:squarederror',\n",
        "#                                         learning_rate = .1,\n",
        "#                                         n_estimators = 140,\n",
        "#                                         max_depth = 3,\n",
        "#                                         min_child_weight = 1,\n",
        "#                                         gamma = i / 10.0,\n",
        "#                                         subsample = .8,\n",
        "#                                         colsample_bytree = .8,\n",
        "#                                         scale_pos_weight = 1))\n",
        "#   xgb.fit(X_train, y_train)\n",
        "#   y_pred_xgb = xgb.predict(X_test)\n",
        "\n",
        "#   print('gamma: ', i, '\\tscore: ', round(roc_auc_score(y_test, y_pred_xgb, average = 'macro') * 100, 2))"
      ],
      "metadata": {
        "id": "PO0PgmlvHvjx"
      },
      "execution_count": null,
      "outputs": []
    },
    {
      "cell_type": "code",
      "source": [
        "# for i in range(6,10):\n",
        "#   for j in range(6,10):\n",
        "#     xgb = MultiOutputRegressor(XGBRegressor(objective = 'reg:squarederror',\n",
        "#                                         learning_rate = .1,\n",
        "#                                         n_estimators = 140,\n",
        "#                                         max_depth = 3,\n",
        "#                                         min_child_weight = 1,\n",
        "#                                         gamma = .4,\n",
        "#                                         subsample = i / 10.0,\n",
        "#                                         colsample_bytree = j / 10.0,\n",
        "#                                         scale_pos_weight = 1))\n",
        "#     xgb.fit(X_train, y_train)\n",
        "#     y_pred_xgb = xgb.predict(X_test)\n",
        "\n",
        "#     print('subsample: ', i/10.0, '\\tcolsample_bytree: ', j/10.0, '\\tscore: ', round(roc_auc_score(y_test, y_pred_xgb, average = 'macro') * 100, 2))"
      ],
      "metadata": {
        "id": "z1i1gJIGLOWn",
        "colab": {
          "base_uri": "https://localhost:8080/"
        },
        "outputId": "b78a8b53-02b5-4ff0-f4b5-5ae753434034"
      },
      "execution_count": null,
      "outputs": [
        {
          "output_type": "stream",
          "name": "stdout",
          "text": [
            "subsample:  0.6 \tcolsample_bytree:  0.6 \tscore:  85.29\n",
            "subsample:  0.6 \tcolsample_bytree:  0.7 \tscore:  85.3\n",
            "subsample:  0.6 \tcolsample_bytree:  0.8 \tscore:  85.27\n",
            "subsample:  0.6 \tcolsample_bytree:  0.9 \tscore:  85.31\n",
            "subsample:  0.7 \tcolsample_bytree:  0.6 \tscore:  85.18\n",
            "subsample:  0.7 \tcolsample_bytree:  0.7 \tscore:  85.24\n",
            "subsample:  0.7 \tcolsample_bytree:  0.8 \tscore:  85.22\n",
            "subsample:  0.7 \tcolsample_bytree:  0.9 \tscore:  85.24\n",
            "subsample:  0.8 \tcolsample_bytree:  0.6 \tscore:  85.24\n",
            "subsample:  0.8 \tcolsample_bytree:  0.7 \tscore:  85.27\n",
            "subsample:  0.8 \tcolsample_bytree:  0.8 \tscore:  85.23\n",
            "subsample:  0.8 \tcolsample_bytree:  0.9 \tscore:  85.22\n",
            "subsample:  0.9 \tcolsample_bytree:  0.6 \tscore:  85.23\n",
            "subsample:  0.9 \tcolsample_bytree:  0.7 \tscore:  85.27\n",
            "subsample:  0.9 \tcolsample_bytree:  0.8 \tscore:  85.21\n",
            "subsample:  0.9 \tcolsample_bytree:  0.9 \tscore:  85.25\n"
          ]
        }
      ]
    },
    {
      "cell_type": "code",
      "source": [
        "# for i in [1e-5, 1e-2, 0.1, 1, 100]:\n",
        "#   xgb = MultiOutputRegressor(XGBRegressor(objective = 'reg:squarederror',\n",
        "#                                           learning_rate = .1,\n",
        "#                                           n_estimators = 140,\n",
        "#                                           max_depth = 3,\n",
        "#                                           min_child_weight = 1,\n",
        "#                                           gamma = .4,\n",
        "#                                           subsample = .6,\n",
        "#                                           colsample_bytree = .9,\n",
        "#                                           scale_pos_weight = 1,\n",
        "#                                           reg_alpha = i))\n",
        "#   xgb.fit(X_train, y_train)\n",
        "#   y_pred_xgb = xgb.predict(X_test)\n",
        "#   print('reg_alpha: ', i, '\\tscore: ', round(roc_auc_score(y_test, y_pred_xgb, average = 'macro') * 100, 2))"
      ],
      "metadata": {
        "id": "mD7FVM62MozP"
      },
      "execution_count": null,
      "outputs": []
    },
    {
      "cell_type": "code",
      "source": [
        "# for i in [1e-5, 1e-2, 0.1, 1, 100]:\n",
        "#   xgb = MultiOutputRegressor(XGBRegressor(objective = 'reg:squarederror',\n",
        "#                                           learning_rate = .1,\n",
        "#                                           n_estimators = 140,\n",
        "#                                           max_depth = 3,\n",
        "#                                           min_child_weight = 1,\n",
        "#                                           gamma = .4,\n",
        "#                                           subsample = .6,\n",
        "#                                           colsample_bytree = .9,\n",
        "#                                           scale_pos_weight = 1,\n",
        "#                                           reg_alpha = 1,\n",
        "#                                           reg_lambda = i))\n",
        "#   xgb.fit(X_train, y_train)\n",
        "#   y_pred_xgb = xgb.predict(X_test)\n",
        "#   print('reg_lambda: ', i, '\\tscore: ', round(roc_auc_score(y_test, y_pred_xgb, average = 'macro') * 100, 2))"
      ],
      "metadata": {
        "id": "Bpx32fcbOCPd"
      },
      "execution_count": null,
      "outputs": []
    },
    {
      "cell_type": "code",
      "source": [
        "# for i in [.001, .01, .1]:\n",
        "#   for j in [200, 300, 500, 700, 900, 1000, 3000, 5000]:\n",
        "#     xgb = MultiOutputRegressor(XGBRegressor(objective = 'reg:squarederror',\n",
        "#                                             learning_rate = i,\n",
        "#                                             n_estimators = j,\n",
        "#                                             max_depth = 3,\n",
        "#                                             min_child_weight = 1,\n",
        "#                                             gamma = .4,\n",
        "#                                             subsample = .6,\n",
        "#                                             colsample_bytree = .9,\n",
        "#                                             scale_pos_weight = 1,\n",
        "#                                             reg_alpha = 1,\n",
        "#                                             reg_lambda = .1))\n",
        "#     xgb.fit(X_train, y_train)\n",
        "#     y_pred_xgb = xgb.predict(X_test)\n",
        "#     print('learning_rate: ', i, '\\tn_estimators: ', j, '\\tscore: ', round(roc_auc_score(y_test, y_pred_xgb, average = 'macro') * 100, 2))"
      ],
      "metadata": {
        "id": "BGfE7kVxOlxX"
      },
      "execution_count": null,
      "outputs": []
    },
    {
      "cell_type": "code",
      "source": [
        "xgb = MultiOutputRegressor(XGBRegressor(objective = 'reg:squarederror',\n",
        "                                        learning_rate = .01,\n",
        "                                        n_estimators = 3000,\n",
        "                                        max_depth = 3,\n",
        "                                        min_child_weight = 1,\n",
        "                                        gamma = .4,\n",
        "                                        subsample = .6,\n",
        "                                        colsample_bytree = .9,\n",
        "                                        scale_pos_weight = 1,\n",
        "                                        reg_alpha = 1,\n",
        "                                        reg_lambda = .1))\n",
        "\n",
        "xgb.fit(X_train, y_train)\n",
        "y_pred_xgb = xgb.predict(X_test)\n",
        "roc_auc_xgb = round(roc_auc_score(y_test, y_pred_xgb, average = 'macro') * 100, 2)"
      ],
      "metadata": {
        "id": "eJgHiupuSdhP"
      },
      "execution_count": null,
      "outputs": []
    },
    {
      "cell_type": "code",
      "source": [
        "roc_auc_xgb"
      ],
      "metadata": {
        "colab": {
          "base_uri": "https://localhost:8080/"
        },
        "id": "8PKRo6pEh2-j",
        "outputId": "3c03f56d-1727-43f5-b8bc-aa3495d6658d"
      },
      "execution_count": null,
      "outputs": [
        {
          "output_type": "execute_result",
          "data": {
            "text/plain": [
              "85.35"
            ]
          },
          "metadata": {},
          "execution_count": 101
        }
      ]
    },
    {
      "cell_type": "code",
      "source": [
        "xgb.fit(X, y)\n",
        "xgb_pred = xgb.predict(test)"
      ],
      "metadata": {
        "id": "XIuoaAEHiyMs"
      },
      "execution_count": null,
      "outputs": []
    },
    {
      "cell_type": "markdown",
      "source": [
        "## **Output**\n",
        "\n"
      ],
      "metadata": {
        "id": "SOwouRAnST-5"
      }
    },
    {
      "cell_type": "code",
      "source": [
        "ridge_pred"
      ],
      "metadata": {
        "colab": {
          "base_uri": "https://localhost:8080/"
        },
        "id": "En5PfKyCVN62",
        "outputId": "afb34458-9621-4392-de1a-8f232deb98cf"
      },
      "execution_count": null,
      "outputs": [
        {
          "output_type": "execute_result",
          "data": {
            "text/plain": [
              "array([[0.08926269, 0.3098527 ],\n",
              "       [0.01232322, 0.00074548],\n",
              "       [0.41617697, 0.65374553],\n",
              "       ...,\n",
              "       [0.21720411, 0.35342377],\n",
              "       [0.12448225, 0.46661153],\n",
              "       [0.48675148, 0.50035394]])"
            ]
          },
          "metadata": {},
          "execution_count": 220
        }
      ]
    },
    {
      "cell_type": "code",
      "source": [
        "linear_pred"
      ],
      "metadata": {
        "colab": {
          "base_uri": "https://localhost:8080/"
        },
        "id": "Vd5bSbfCVMqe",
        "outputId": "3d8f1b3e-80f6-4549-b3fd-615548927867"
      },
      "execution_count": null,
      "outputs": [
        {
          "output_type": "execute_result",
          "data": {
            "text/plain": [
              "array([[0.08926269, 0.3098527 ],\n",
              "       [0.01232322, 0.00074548],\n",
              "       [0.41617697, 0.65374553],\n",
              "       ...,\n",
              "       [0.21720411, 0.35342377],\n",
              "       [0.12448225, 0.46661153],\n",
              "       [0.48675148, 0.50035394]])"
            ]
          },
          "metadata": {},
          "execution_count": 221
        }
      ]
    },
    {
      "cell_type": "code",
      "source": [
        "xgb_pred"
      ],
      "metadata": {
        "colab": {
          "base_uri": "https://localhost:8080/"
        },
        "id": "qv-DViBUawTF",
        "outputId": "480f95f5-b29f-478c-b588-2a406df73ad0"
      },
      "execution_count": null,
      "outputs": [
        {
          "output_type": "execute_result",
          "data": {
            "text/plain": [
              "array([[ 0.09487745,  0.23965436],\n",
              "       [-0.01224774, -0.01481384],\n",
              "       [ 0.5244787 ,  0.80859137],\n",
              "       ...,\n",
              "       [ 0.10286036,  0.19255838],\n",
              "       [ 0.06676671,  0.33950475],\n",
              "       [ 0.48532766,  0.5931259 ]], dtype=float32)"
            ]
          },
          "metadata": {},
          "execution_count": 222
        }
      ]
    },
    {
      "cell_type": "code",
      "source": [
        "SVR_pred"
      ],
      "metadata": {
        "colab": {
          "base_uri": "https://localhost:8080/"
        },
        "id": "5e2lISWLrY44",
        "outputId": "0f2ec4db-e8d2-4cf9-db09-09df0a4fcbdf"
      },
      "execution_count": null,
      "outputs": [
        {
          "output_type": "execute_result",
          "data": {
            "text/plain": [
              "array([[-0.04835905,  0.4188796 ],\n",
              "       [ 0.17098744,  0.0477098 ],\n",
              "       [ 0.55849853,  0.97946535],\n",
              "       ...,\n",
              "       [ 0.05960881,  0.10857271],\n",
              "       [ 0.02347814,  0.21572997],\n",
              "       [ 0.48580638,  0.83609501]])"
            ]
          },
          "metadata": {},
          "execution_count": 98
        }
      ]
    },
    {
      "cell_type": "code",
      "source": [
        "result = pd.DataFrame(ridge_pred * roc_auc_ridge + linear_pred * roc_auc_linear + xgb_pred * roc_auc_xgb + SVR_pred * roc_auc_SVR)\n",
        "            / (roc_auc_ridge + roc_auc_linear + roc_auc_xgb + roc_auc_SVR)\n",
        "print(result.info())\n",
        "\n",
        "prediction_df = pd.concat([prediction_ID, result], axis = 1)\n",
        "prediction_df.columns = ['respondent_id', 'h1n1_vaccine', 'seasonal_vaccine']\n",
        "print(prediction_df.info())\n",
        "for i in prediction_df.index:\n",
        "  if(prediction_df.loc[i, 'h1n1_vaccine'] < 0):\n",
        "       prediction_df.loc[i, 'h1n1_vaccine'] = 0\n",
        "  if(prediction_df.loc[i, 'h1n1_vaccine'] > 1):\n",
        "       prediction_df.loc[i, 'h1n1_vaccine'] = 1\n",
        "  if(prediction_df.loc[i, 'seasonal_vaccine'] < 0):\n",
        "       prediction_df.loc[i, 'seasonal_vaccine'] = 0\n",
        "  if(prediction_df.loc[i, 'seasonal_vaccine'] > 1):\n",
        "       prediction_df.loc[i, 'seasonal_vaccine'] = 1\n",
        "\n",
        "print(prediction_df.head())\n",
        "prediction_df.to_csv('/content/gdrive/MyDrive/data_mining/1216final.csv', index = False)"
      ],
      "metadata": {
        "id": "beCAuxgzSWyI",
        "colab": {
          "base_uri": "https://localhost:8080/"
        },
        "outputId": "72acdf70-839b-4c56-d553-1ef2b5a27e92"
      },
      "execution_count": null,
      "outputs": [
        {
          "output_type": "stream",
          "name": "stdout",
          "text": [
            "<class 'pandas.core.frame.DataFrame'>\n",
            "RangeIndex: 26708 entries, 0 to 26707\n",
            "Data columns (total 2 columns):\n",
            " #   Column  Non-Null Count  Dtype  \n",
            "---  ------  --------------  -----  \n",
            " 0   0       26708 non-null  float64\n",
            " 1   1       26708 non-null  float64\n",
            "dtypes: float64(2)\n",
            "memory usage: 417.4 KB\n",
            "None\n",
            "<class 'pandas.core.frame.DataFrame'>\n",
            "RangeIndex: 26708 entries, 0 to 26707\n",
            "Data columns (total 3 columns):\n",
            " #   Column            Non-Null Count  Dtype  \n",
            "---  ------            --------------  -----  \n",
            " 0   respondent_id     26708 non-null  int64  \n",
            " 1   h1n1_vaccine      26708 non-null  float64\n",
            " 2   seasonal_vaccine  26708 non-null  float64\n",
            "dtypes: float64(2), int64(1)\n",
            "memory usage: 626.1 KB\n",
            "None\n",
            "   respondent_id  h1n1_vaccine  seasonal_vaccine\n",
            "0          26707      0.056929          0.318768\n",
            "1          26708      0.045004          0.008314\n",
            "2          26709      0.478597          0.772976\n",
            "3          26710      0.587215          0.829296\n",
            "4          26711      0.299383          0.525634\n"
          ]
        }
      ]
    },
    {
      "cell_type": "code",
      "source": [
        "result = pd.DataFrame(ridge_pred * roc_auc_ridge + linear_pred * roc_auc_linear + xgb_pred * roc_auc_xgb)\n",
        "      / (roc_auc_ridge + roc_auc_linear + roc_auc_xgb)"
      ],
      "metadata": {
        "id": "1CZUPEw7nXoi"
      },
      "execution_count": null,
      "outputs": []
    }
  ]
}
