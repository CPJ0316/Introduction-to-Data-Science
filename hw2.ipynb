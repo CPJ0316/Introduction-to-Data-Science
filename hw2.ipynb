{
 "cells": [
  {
   "cell_type": "code",
   "execution_count": 1,
   "id": "1a48d1d1",
   "metadata": {
    "_cell_guid": "b1076dfc-b9ad-4769-8c92-a6c4dae69d19",
    "_uuid": "8f2839f25d086af736a60e9eeb907d3b93b6e0e5",
    "execution": {
     "iopub.execute_input": "2022-12-30T07:01:35.585230Z",
     "iopub.status.busy": "2022-12-30T07:01:35.584730Z",
     "iopub.status.idle": "2022-12-30T07:01:35.604552Z",
     "shell.execute_reply": "2022-12-30T07:01:35.603269Z"
    },
    "papermill": {
     "duration": 0.030522,
     "end_time": "2022-12-30T07:01:35.608433",
     "exception": false,
     "start_time": "2022-12-30T07:01:35.577911",
     "status": "completed"
    },
    "tags": []
   },
   "outputs": [
    {
     "name": "stdout",
     "output_type": "stream",
     "text": [
      "/kaggle/input/data-science-hw2/submit.csv\n",
      "/kaggle/input/data-science-hw2/test_3000.csv\n",
      "/kaggle/input/data-science-hw2/train.csv\n"
     ]
    }
   ],
   "source": [
    "# This Python 3 environment comes with many helpful analytics libraries installed\n",
    "# It is defined by the kaggle/python Docker image: https://github.com/kaggle/docker-python\n",
    "# For example, here's several helpful packages to load\n",
    "\n",
    "import numpy as np # linear algebra\n",
    "import pandas as pd # data processing, CSV file I/O (e.g. pd.read_csv)\n",
    "\n",
    "# Input data files are available in the read-only \"../input/\" directory\n",
    "# For example, running this (by clicking run or pressing Shift+Enter) will list all files under the input directory\n",
    "\n",
    "import os\n",
    "for dirname, _, filenames in os.walk('/kaggle/input'):\n",
    "    for filename in filenames:\n",
    "        print(os.path.join(dirname, filename))\n",
    "\n",
    "# You can write up to 20GB to the current directory (/kaggle/working/) that gets preserved as output when you create a version using \"Save & Run All\" \n",
    "# You can also write temporary files to /kaggle/temp/, but they won't be saved outside of the current session"
   ]
  },
  {
   "cell_type": "code",
   "execution_count": 2,
   "id": "f89b49e3",
   "metadata": {
    "execution": {
     "iopub.execute_input": "2022-12-30T07:01:35.617675Z",
     "iopub.status.busy": "2022-12-30T07:01:35.617197Z",
     "iopub.status.idle": "2022-12-30T07:01:35.767656Z",
     "shell.execute_reply": "2022-12-30T07:01:35.766494Z"
    },
    "papermill": {
     "duration": 0.157495,
     "end_time": "2022-12-30T07:01:35.770214",
     "exception": false,
     "start_time": "2022-12-30T07:01:35.612719",
     "status": "completed"
    },
    "tags": []
   },
   "outputs": [],
   "source": [
    "import numpy as np\n",
    "import pandas as pd\n",
    "import matplotlib.pyplot as plt\n",
    "data2=pd.read_csv('/kaggle/input/data-science-hw2/train.csv', index_col=None)\n",
    "test_data2=pd.read_csv('/kaggle/input/data-science-hw2/test_3000.csv', index_col=None)\n",
    "submit_data2=pd.read_csv('/kaggle/input/data-science-hw2/submit.csv', index_col=None)"
   ]
  },
  {
   "cell_type": "code",
   "execution_count": 3,
   "id": "08ddd67f",
   "metadata": {
    "execution": {
     "iopub.execute_input": "2022-12-30T07:01:35.778772Z",
     "iopub.status.busy": "2022-12-30T07:01:35.778406Z",
     "iopub.status.idle": "2022-12-30T07:01:35.784237Z",
     "shell.execute_reply": "2022-12-30T07:01:35.783299Z"
    },
    "papermill": {
     "duration": 0.01276,
     "end_time": "2022-12-30T07:01:35.786458",
     "exception": false,
     "start_time": "2022-12-30T07:01:35.773698",
     "status": "completed"
    },
    "tags": []
   },
   "outputs": [],
   "source": [
    "# print(data2.head())\n",
    "data=pd.DataFrame(data2.copy())\n",
    "test_data=test_data2.copy()\n",
    "submit_data=submit_data2.copy()\n",
    "#print(data.info())"
   ]
  },
  {
   "cell_type": "code",
   "execution_count": 4,
   "id": "a516d5e6",
   "metadata": {
    "execution": {
     "iopub.execute_input": "2022-12-30T07:01:35.794935Z",
     "iopub.status.busy": "2022-12-30T07:01:35.794536Z",
     "iopub.status.idle": "2022-12-30T07:02:20.093856Z",
     "shell.execute_reply": "2022-12-30T07:02:20.092495Z"
    },
    "papermill": {
     "duration": 44.306996,
     "end_time": "2022-12-30T07:02:20.096873",
     "exception": false,
     "start_time": "2022-12-30T07:01:35.789877",
     "status": "completed"
    },
    "tags": []
   },
   "outputs": [],
   "source": [
    "pitch=[\"C\",\"C#\",\"D\",\"D#\",\"E\",\"F\",\"F#\",\"G\",\"G#\",\"A\",\"A#\",\"B\"]\n",
    "for i in data.index:\n",
    "  for j in range(0,len(pitch)):\n",
    "    if(data.loc[i,'Feature 13']==pitch[j]):\n",
    "      data.loc[i,'Feature 13']=j\n",
    " "
   ]
  },
  {
   "cell_type": "code",
   "execution_count": 5,
   "id": "bea404ad",
   "metadata": {
    "execution": {
     "iopub.execute_input": "2022-12-30T07:02:20.106011Z",
     "iopub.status.busy": "2022-12-30T07:02:20.105136Z",
     "iopub.status.idle": "2022-12-30T07:07:22.987582Z",
     "shell.execute_reply": "2022-12-30T07:07:22.986406Z"
    },
    "papermill": {
     "duration": 302.890058,
     "end_time": "2022-12-30T07:07:22.990528",
     "exception": false,
     "start_time": "2022-12-30T07:02:20.100470",
     "status": "completed"
    },
    "tags": []
   },
   "outputs": [
    {
     "name": "stdout",
     "output_type": "stream",
     "text": [
      "405.00598959780933\n",
      "358.6107259050015\n",
      "317.27986051951876\n",
      "291.4607649427862\n",
      "267.3181065758955\n",
      "243.52508820510656\n",
      "224.19443602663728\n"
     ]
    }
   ],
   "source": [
    "from sklearn import cluster # 載入 scikit-learn 套件中的分群演算法模組\n",
    "from sklearn.preprocessing import MinMaxScaler\n",
    "trainD=data.loc[:,[\"Feature 4\",\"Feature 10\",\"Feature 11\"]]\n",
    "scaler = MinMaxScaler(feature_range=(0, 1)).fit(trainD)\n",
    "X_scaled = scaler.transform(trainD)\n",
    "\n",
    "sum=[0] * len(test_data)\n",
    "k_ans=[0] * len(test_data)\n",
    "for i in range(7,14,1):\n",
    "  k_mean = cluster.KMeans(n_clusters=i,random_state=0,n_init=200)\n",
    "  y_pred_kmean = k_mean.fit_predict(X_scaled)\n",
    "  y_pred_kmean = pd.DataFrame(y_pred_kmean)\n",
    "  print(k_mean.inertia_)\n",
    "  for j in range(0,len(test_data)):\n",
    "    ans1=y_pred_kmean.iloc[test_data.iloc[j,1],0]\n",
    "    ans2=y_pred_kmean.iloc[test_data.iloc[j,2],0]\n",
    "    if(ans1==ans2):\n",
    "      sum[j]+=1\n",
    "    else:\n",
    "      sum[j]+=0\n",
    "\n",
    "#print(sum)\n",
    "for m in range(0,len(test_data)):\n",
    "  if(sum[m]>1):\n",
    "    k_ans[m]=1\n",
    "  else:\n",
    "    k_ans[m]=0"
   ]
  },
  {
   "cell_type": "code",
   "execution_count": 6,
   "id": "c9b86dd7",
   "metadata": {
    "execution": {
     "iopub.execute_input": "2022-12-30T07:07:22.999840Z",
     "iopub.status.busy": "2022-12-30T07:07:22.999451Z",
     "iopub.status.idle": "2022-12-30T07:16:52.745283Z",
     "shell.execute_reply": "2022-12-30T07:16:52.744314Z"
    },
    "papermill": {
     "duration": 569.753563,
     "end_time": "2022-12-30T07:16:52.747944",
     "exception": false,
     "start_time": "2022-12-30T07:07:22.994381",
     "status": "completed"
    },
    "tags": []
   },
   "outputs": [],
   "source": [
    "import scipy.cluster.hierarchy as sch\n",
    "sum=[0] * len(test_data)\n",
    "sch_ans=[0] * len(test_data)\n",
    "for i in range(7,14,1):\n",
    "  dis=sch.linkage(X_scaled,metric='euclidean',method='ward')\n",
    "  H1=sch.fcluster(dis,i,criterion='maxclust')\n",
    "  H1 = pd.DataFrame(H1)\n",
    "  #print(dis.inertia_)\n",
    "  for j in range(0,len(test_data)):\n",
    "    ans1=H1.iloc[test_data.iloc[j,1],0]\n",
    "    ans2=H1.iloc[test_data.iloc[j,2],0]\n",
    "    if(ans1==ans2):\n",
    "      sum[j]+=1\n",
    "    else:\n",
    "      sum[j]+=0\n",
    "    \n",
    "for m in range(0,len(test_data)):\n",
    "  if(sum[m]>1):\n",
    "    sch_ans[m]=1\n",
    "  else:\n",
    "    sch_ans[m]=0"
   ]
  },
  {
   "cell_type": "code",
   "execution_count": 7,
   "id": "59c3739c",
   "metadata": {
    "execution": {
     "iopub.execute_input": "2022-12-30T07:16:52.759236Z",
     "iopub.status.busy": "2022-12-30T07:16:52.758802Z",
     "iopub.status.idle": "2022-12-30T07:25:53.946724Z",
     "shell.execute_reply": "2022-12-30T07:25:53.945727Z"
    },
    "papermill": {
     "duration": 541.197304,
     "end_time": "2022-12-30T07:25:53.949260",
     "exception": false,
     "start_time": "2022-12-30T07:16:52.751956",
     "status": "completed"
    },
    "tags": []
   },
   "outputs": [],
   "source": [
    "from sklearn.cluster import AgglomerativeClustering\n",
    "Agg_ans=[0] * len(test_data)\n",
    "sum=[0] * len(test_data)\n",
    "for i in range(7,14,1):\n",
    "  ml=AgglomerativeClustering(n_clusters=i,affinity='euclidean',linkage='complete')\n",
    "  H1 = ml.fit_predict(X_scaled)\n",
    "  H1 = pd.DataFrame(H1)\n",
    "  #print(ml.inertia_)\n",
    "  for j in range(0,len(test_data)):\n",
    "    ans1=H1.iloc[test_data.iloc[j,1],0]\n",
    "    ans2=H1.iloc[test_data.iloc[j,2],0]\n",
    "    if(ans1==ans2):\n",
    "      sum[j]+=1\n",
    "    else:\n",
    "      sum[j]+=0\n",
    "for m in range(0,len(test_data)):\n",
    "  if(sum[m]>0):\n",
    "    Agg_ans[m]=1\n",
    "  else:\n",
    "    Agg_ans[m]=0 "
   ]
  },
  {
   "cell_type": "code",
   "execution_count": 8,
   "id": "fe9c8e9a",
   "metadata": {
    "execution": {
     "iopub.execute_input": "2022-12-30T07:25:53.958832Z",
     "iopub.status.busy": "2022-12-30T07:25:53.957895Z",
     "iopub.status.idle": "2022-12-30T07:25:54.652978Z",
     "shell.execute_reply": "2022-12-30T07:25:54.652018Z"
    },
    "papermill": {
     "duration": 0.702368,
     "end_time": "2022-12-30T07:25:54.655540",
     "exception": false,
     "start_time": "2022-12-30T07:25:53.953172",
     "status": "completed"
    },
    "tags": []
   },
   "outputs": [],
   "source": [
    "for i in range(0,len(test_data)):\n",
    "  if(k_ans[i]+sch_ans[i]+Agg_ans[i]>0):\n",
    "    submit_data.iloc[i,1]=\"1\"\n",
    "  else:\n",
    "    submit_data.iloc[i,1]=\"0\"\n",
    "submit_data.columns=['id','ans']\n",
    "submit_data.to_csv('/kaggle/working/test_com_1230_6.csv',index=False)\n"
   ]
  },
  {
   "cell_type": "markdown",
   "id": "caa7590e",
   "metadata": {
    "papermill": {
     "duration": 0.003496,
     "end_time": "2022-12-30T07:25:54.663115",
     "exception": false,
     "start_time": "2022-12-30T07:25:54.659619",
     "status": "completed"
    },
    "tags": []
   },
   "source": [
    "#ver  test_com_1230_1\n",
    "\n",
    "#ver test_com_1230_2  修正Agg_ans的loop\n",
    "\n",
    "#ver test_com_1230_3  修改Agg_ans的linkage='complete'\n",
    "\n",
    "#ver test_com_1230_4  ans加總>1\n",
    "\n",
    "#ver test_com_1230_5  只用特徵4\n",
    "\n",
    "#ver test_com_1230_6  sch criterion='inconsistent'\n"
   ]
  },
  {
   "cell_type": "markdown",
   "id": "7e57a30c",
   "metadata": {
    "papermill": {
     "duration": 0.003596,
     "end_time": "2022-12-30T07:25:54.670319",
     "exception": false,
     "start_time": "2022-12-30T07:25:54.666723",
     "status": "completed"
    },
    "tags": []
   },
   "source": []
  }
 ],
 "metadata": {
  "kernelspec": {
   "display_name": "Python 3",
   "language": "python",
   "name": "python3"
  },
  "language_info": {
   "codemirror_mode": {
    "name": "ipython",
    "version": 3
   },
   "file_extension": ".py",
   "mimetype": "text/x-python",
   "name": "python",
   "nbconvert_exporter": "python",
   "pygments_lexer": "ipython3",
   "version": "3.7.12"
  },
  "papermill": {
   "default_parameters": {},
   "duration": 1468.398391,
   "end_time": "2022-12-30T07:25:55.397431",
   "environment_variables": {},
   "exception": null,
   "input_path": "__notebook__.ipynb",
   "output_path": "__notebook__.ipynb",
   "parameters": {},
   "start_time": "2022-12-30T07:01:26.999040",
   "version": "2.3.4"
  }
 },
 "nbformat": 4,
 "nbformat_minor": 5
}
